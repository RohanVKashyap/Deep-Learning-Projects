{
  "nbformat": 4,
  "nbformat_minor": 0,
  "metadata": {
    "colab": {
      "name": "mnist_classifier.ipynb",
      "provenance": [],
      "collapsed_sections": []
    },
    "kernelspec": {
      "name": "python3",
      "display_name": "Python 3"
    },
    "language_info": {
      "name": "python"
    },
    "accelerator": "GPU"
  },
  "cells": [
    {
      "cell_type": "code",
      "metadata": {
        "id": "g-WDilYo7ZEq"
      },
      "source": [
        "import numpy.random as npr\n",
        "import time\n",
        "\n",
        "from jax import jit,grad\n",
        "from jax.scipy.special import logsumexp\n",
        "import jax.numpy as jnp\n",
        "import datasets"
      ],
      "execution_count": null,
      "outputs": []
    },
    {
      "cell_type": "code",
      "metadata": {
        "id": "wXM-MUcK7md3"
      },
      "source": [
        "def init_random_params(scale,layer_sizes,rng=npr.RandomState(0)):\n",
        "  return [(scale*rng.randn(m,n),scale*rng.randn(n)) for m,n in zip(layer_sizes[:-1],layer_sizes[1:])]"
      ],
      "execution_count": null,
      "outputs": []
    },
    {
      "cell_type": "code",
      "metadata": {
        "id": "H7aUY1ib8T-K"
      },
      "source": [
        "param_scale=0.1\n",
        "layer_sizes=[784,1024,1024,10]\n",
        "step_size=0.001\n",
        "num_epochs=10\n",
        "batch_size=128"
      ],
      "execution_count": null,
      "outputs": []
    },
    {
      "cell_type": "code",
      "metadata": {
        "id": "Coo0JNfg8rWe"
      },
      "source": [
        "def predict(params,inputs):\n",
        "  activations=inputs\n",
        "  for w,b in params[:1]:\n",
        "    outputs=jnp.dot(activations,w)+b\n",
        "    activations=jnp.tanh(outputs)\n",
        "\n",
        "  final_w,final_b=params[-1]\n",
        "  logits=jnp.dot(activations,final_w)+final_b\n",
        "  return logits-logsumexp(logits,axis=1,keepdims=True)    "
      ],
      "execution_count": null,
      "outputs": []
    },
    {
      "cell_type": "code",
      "metadata": {
        "id": "yMLIB4849v9S"
      },
      "source": [
        "def loss(params,batch):\n",
        "  inputs,targets=batch\n",
        "  preds=predict(params,inputs)\n",
        "  return -jnp.mean(jnp.sum(preds*targets,axis=1))"
      ],
      "execution_count": null,
      "outputs": []
    },
    {
      "cell_type": "code",
      "metadata": {
        "id": "ROQAyH9j-NbR"
      },
      "source": [
        "def accuracy(params,batch):\n",
        "  inputs,targets=batch\n",
        "  target_class=jnp.argmax(targets,axis=1)\n",
        "  predicted_class=jnp.argmax(predict(params,inputs),axis=1)\n",
        "  return jnp.mean(predicted_class==target_class)"
      ],
      "execution_count": null,
      "outputs": []
    },
    {
      "cell_type": "code",
      "metadata": {
        "colab": {
          "base_uri": "https://localhost:8080/"
        },
        "id": "uBWOM3kNBKCh",
        "outputId": "5f48f116-8511-4e07-976c-21702435fafb"
      },
      "source": [
        "train_images,train_labels,test_images,test_labels=datasets.mnist()\n",
        "num_train=train_images.shape[0]\n",
        "num_complete_batches,leftover=divmod(num_train,batch_size)\n",
        "num_batches=num_complete_batches+bool(leftover)"
      ],
      "execution_count": null,
      "outputs": [
        {
          "output_type": "stream",
          "text": [
            "downloaded https://storage.googleapis.com/cvdf-datasets/mnist/train-images-idx3-ubyte.gz to /tmp/jax_example_data/\n",
            "downloaded https://storage.googleapis.com/cvdf-datasets/mnist/train-labels-idx1-ubyte.gz to /tmp/jax_example_data/\n",
            "downloaded https://storage.googleapis.com/cvdf-datasets/mnist/t10k-images-idx3-ubyte.gz to /tmp/jax_example_data/\n",
            "downloaded https://storage.googleapis.com/cvdf-datasets/mnist/t10k-labels-idx1-ubyte.gz to /tmp/jax_example_data/\n"
          ],
          "name": "stdout"
        }
      ]
    },
    {
      "cell_type": "code",
      "metadata": {
        "colab": {
          "base_uri": "https://localhost:8080/"
        },
        "id": "rBfXNi3xBvKq",
        "outputId": "d17b1eec-e908-4927-9353-df8709b00a75"
      },
      "source": [
        "print(num_batches)"
      ],
      "execution_count": null,
      "outputs": [
        {
          "output_type": "execute_result",
          "data": {
            "text/plain": [
              "469"
            ]
          },
          "metadata": {
            "tags": []
          },
          "execution_count": 10
        }
      ]
    },
    {
      "cell_type": "code",
      "metadata": {
        "id": "Cb-UIAnm_v5d"
      },
      "source": [
        "def data_stream():\n",
        "  rng=npr.RandomState(0)\n",
        "  while True:\n",
        "    perm=rng.permutation(num_train)\n",
        "    for i in range(num_batches):\n",
        "      batch_idx=perm[i*batch_size:(i+1)*batch_size]\n",
        "      yield train_images[batch_idx],train_labels[batch_idx]  \n",
        "\n",
        "batches=data_stream()"
      ],
      "execution_count": null,
      "outputs": []
    },
    {
      "cell_type": "code",
      "metadata": {
        "id": "Us7C7w03B6Iy"
      },
      "source": [
        "@jit\n",
        "def update(params,batch):\n",
        "  grads=grad(loss)(params,batch)\n",
        "  return [(w-step_size*dw,b-step_size*db) for (w,b),(dw,db) in zip(params,grads)]"
      ],
      "execution_count": null,
      "outputs": []
    },
    {
      "cell_type": "code",
      "metadata": {
        "id": "uDtIfzYACY9v"
      },
      "source": [
        "params=init_random_params(param_scale,layer_sizes)"
      ],
      "execution_count": null,
      "outputs": []
    },
    {
      "cell_type": "code",
      "metadata": {
        "colab": {
          "base_uri": "https://localhost:8080/"
        },
        "id": "aUvcHNBkCfAf",
        "outputId": "fa7d0ad3-2bd3-4c55-8706-65702ed59c39"
      },
      "source": [
        "print(len(params))"
      ],
      "execution_count": null,
      "outputs": [
        {
          "output_type": "stream",
          "text": [
            "3\n"
          ],
          "name": "stdout"
        }
      ]
    },
    {
      "cell_type": "code",
      "metadata": {
        "colab": {
          "base_uri": "https://localhost:8080/"
        },
        "id": "BYrsmA7qClDk",
        "outputId": "1526251a-44bf-446b-da95-bef3a3118ad9"
      },
      "source": [
        "print(params[0][0].shape)"
      ],
      "execution_count": null,
      "outputs": [
        {
          "output_type": "stream",
          "text": [
            "(784, 1024)\n"
          ],
          "name": "stdout"
        }
      ]
    },
    {
      "cell_type": "code",
      "metadata": {
        "colab": {
          "base_uri": "https://localhost:8080/"
        },
        "id": "qTD3Ec-0CoTC",
        "outputId": "17855e89-4391-4047-9453-b8a669e19f7b"
      },
      "source": [
        "print(params[0][1].shape)"
      ],
      "execution_count": null,
      "outputs": [
        {
          "output_type": "stream",
          "text": [
            "(1024,)\n"
          ],
          "name": "stdout"
        }
      ]
    },
    {
      "cell_type": "code",
      "metadata": {
        "colab": {
          "base_uri": "https://localhost:8080/"
        },
        "id": "V9MHZloJC-kA",
        "outputId": "c5a3a93c-128f-41e7-ce7a-c36914b7aa2b"
      },
      "source": [
        "for epoch in range(num_epochs):\n",
        "  start_time=time.time()\n",
        "  for _ in range(num_batches):\n",
        "    params=update(params,next(batches))\n",
        "  epoch_time=time.time()-start_time\n",
        "\n",
        "train_acc=accuracy(params,(train_images,train_labels))\n",
        "test_acc=accuracy(params,(test_images,test_labels))\n",
        "print(\"Epoch {} in {:0.2f} sec\".format(epoch,epoch_time))\n",
        "print(\"Training set accuracy {}\".format(train_acc))\n",
        "print(\"Test set accuracy {}\".format(test_acc))"
      ],
      "execution_count": null,
      "outputs": [
        {
          "output_type": "stream",
          "text": [
            "Epoch 9 in 0.39 sec\n",
            "Training set accuracy 0.898900032043457\n",
            "Test set accuracy 0.9048000574111938\n"
          ],
          "name": "stdout"
        }
      ]
    },
    {
      "cell_type": "code",
      "metadata": {
        "id": "NaQzNd0QD3YP"
      },
      "source": [
        ""
      ],
      "execution_count": null,
      "outputs": []
    }
  ]
}
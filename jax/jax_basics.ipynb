{
  "nbformat": 4,
  "nbformat_minor": 0,
  "metadata": {
    "colab": {
      "name": "jax_basics.ipynb",
      "provenance": []
    },
    "kernelspec": {
      "name": "python3",
      "display_name": "Python 3"
    },
    "language_info": {
      "name": "python"
    },
    "accelerator": "GPU"
  },
  "cells": [
    {
      "cell_type": "code",
      "metadata": {
        "id": "OCHfhk9p7IuK"
      },
      "source": [
        "!pip install --upgrade jax jaxlib==0.1.64+cuda110 -f https://storage.googleapis.com/jax-releases/jax_releases.html"
      ],
      "execution_count": null,
      "outputs": []
    },
    {
      "cell_type": "code",
      "metadata": {
        "id": "DaLnSWUk1p1n"
      },
      "source": [
        "import jax\n",
        "import numpy.random as npr\n",
        "import time\n",
        "\n",
        "from jax import jit,grad,vmap,random,pmap\n",
        "from jax.scipy.special import logsumexp\n",
        "import jax.numpy as np"
      ],
      "execution_count": null,
      "outputs": []
    },
    {
      "cell_type": "code",
      "metadata": {
        "colab": {
          "base_uri": "https://localhost:8080/"
        },
        "id": "3wVSgWZu2OEi",
        "outputId": "761b6abc-7e54-4495-ef5f-5f9bb172233a"
      },
      "source": [
        "x=np.array([1,2,3])\n",
        "x"
      ],
      "execution_count": null,
      "outputs": [
        {
          "output_type": "execute_result",
          "data": {
            "text/plain": [
              "DeviceArray([1, 2, 3], dtype=int32)"
            ]
          },
          "metadata": {
            "tags": []
          },
          "execution_count": 4
        }
      ]
    },
    {
      "cell_type": "code",
      "metadata": {
        "colab": {
          "base_uri": "https://localhost:8080/"
        },
        "id": "EsqRDC822dth",
        "outputId": "277778bc-bec8-4b0f-8b33-0cc5e341ce2b"
      },
      "source": [
        "x[:2]"
      ],
      "execution_count": null,
      "outputs": [
        {
          "output_type": "execute_result",
          "data": {
            "text/plain": [
              "DeviceArray([1, 2], dtype=int32)"
            ]
          },
          "metadata": {
            "tags": []
          },
          "execution_count": 5
        }
      ]
    },
    {
      "cell_type": "code",
      "metadata": {
        "id": "v1bsOLJX29fY"
      },
      "source": [
        "import autograd\n",
        "import autograd.numpy as anp\n",
        "from autograd import grad"
      ],
      "execution_count": null,
      "outputs": []
    },
    {
      "cell_type": "code",
      "metadata": {
        "id": "ZDnifXfV2_Oi"
      },
      "source": [
        "def tanh(x):\n",
        "  y=anp.exp(-2.0*x)\n",
        "  return (1.0-y)/(1.0+y)\n",
        "\n",
        "grad_tanh=grad(tanh)"
      ],
      "execution_count": null,
      "outputs": []
    },
    {
      "cell_type": "code",
      "metadata": {
        "colab": {
          "base_uri": "https://localhost:8080/"
        },
        "id": "kYpMoydA3XUZ",
        "outputId": "96face72-588e-4dcc-91d2-dd08ba3ed51a"
      },
      "source": [
        "print(grad_tanh)"
      ],
      "execution_count": null,
      "outputs": [
        {
          "output_type": "stream",
          "text": [
            "<function unary_to_nary.<locals>.nary_operator.<locals>.nary_f at 0x7f79c37ea5f0>\n"
          ],
          "name": "stdout"
        }
      ]
    },
    {
      "cell_type": "code",
      "metadata": {
        "colab": {
          "base_uri": "https://localhost:8080/"
        },
        "id": "VXHWufPg3Y7G",
        "outputId": "d8cd9287-ded5-44a7-8d8b-6294912ecc2e"
      },
      "source": [
        "grad_tanh(1.0)"
      ],
      "execution_count": null,
      "outputs": [
        {
          "output_type": "execute_result",
          "data": {
            "text/plain": [
              "0.419974341614026"
            ]
          },
          "metadata": {
            "tags": []
          },
          "execution_count": 82
        }
      ]
    },
    {
      "cell_type": "code",
      "metadata": {
        "colab": {
          "base_uri": "https://localhost:8080/"
        },
        "id": "SEPvWquC3b1n",
        "outputId": "c63a6055-40d2-4cb7-b0ce-bdc3b202a6ae"
      },
      "source": [
        "(tanh(1.0001)-tanh(0.9999))/0.0002"
      ],
      "execution_count": null,
      "outputs": [
        {
          "output_type": "execute_result",
          "data": {
            "text/plain": [
              "0.41997434264973155"
            ]
          },
          "metadata": {
            "tags": []
          },
          "execution_count": 83
        }
      ]
    },
    {
      "cell_type": "code",
      "metadata": {
        "colab": {
          "base_uri": "https://localhost:8080/"
        },
        "id": "6eA8ZYey4l8K",
        "outputId": "be62d469-1b82-45b9-cd4e-1253525cb9d2"
      },
      "source": [
        "print(egrad(tanh))"
      ],
      "execution_count": null,
      "outputs": [
        {
          "output_type": "stream",
          "text": [
            "<function unary_to_nary.<locals>.nary_operator.<locals>.nary_f at 0x7f79c37d27a0>\n"
          ],
          "name": "stdout"
        }
      ]
    },
    {
      "cell_type": "code",
      "metadata": {
        "colab": {
          "base_uri": "https://localhost:8080/",
          "height": 248
        },
        "id": "5JNBXwp93orV",
        "outputId": "cc12dc9f-7e57-4de3-e0ee-56c44b4b4ae9"
      },
      "source": [
        "from autograd import elementwise_grad as egrad\n",
        "import matplotlib.pyplot as plt\n",
        "\n",
        "x=anp.linspace(-7,7,200)\n",
        "plt.plot(x,tanh(x),'b')\n",
        "plt.plot(x,egrad(tanh)(x),'r')\n",
        "plt.plot(x,egrad(egrad(tanh))(x),'g--')\n",
        "plt.plot(x,egrad(egrad(egrad(tanh)))(x),color='c',alpha=0.6)\n",
        "plt.axis('off')\n",
        "plt.show()"
      ],
      "execution_count": null,
      "outputs": [
        {
          "output_type": "display_data",
          "data": {
            "image/png": "[encoded data removed]",
            "text/plain": [
              "<Figure size 432x288 with 1 Axes>"
            ]
          },
          "metadata": {
            "tags": [],
            "needs_background": "light"
          }
        }
      ]
    },
    {
      "cell_type": "code",
      "metadata": {
        "colab": {
          "base_uri": "https://localhost:8080/"
        },
        "id": "0AHpGNp85tSJ",
        "outputId": "583ea30f-affd-4669-c639-02534274136a"
      },
      "source": [
        "print(x.shape)"
      ],
      "execution_count": null,
      "outputs": [
        {
          "output_type": "stream",
          "text": [
            "(200,)\n"
          ],
          "name": "stdout"
        }
      ]
    },
    {
      "cell_type": "code",
      "metadata": {
        "colab": {
          "base_uri": "https://localhost:8080/"
        },
        "id": "V6S_Wd3W36y1",
        "outputId": "9d5e9a24-b9eb-4e32-9d9d-0b633ad2d734"
      },
      "source": [
        "grad_tanh1=egrad(tanh)(x)\n",
        "print(grad_tanh1.shape)"
      ],
      "execution_count": null,
      "outputs": [
        {
          "output_type": "stream",
          "text": [
            "(200,)\n"
          ],
          "name": "stdout"
        }
      ]
    },
    {
      "cell_type": "code",
      "metadata": {
        "colab": {
          "base_uri": "https://localhost:8080/"
        },
        "id": "9bbHAfDh5-eS",
        "outputId": "b60173a0-1da4-41ac-d0b0-212ca6d891b5"
      },
      "source": [
        "grad_tanh(1.2)"
      ],
      "execution_count": null,
      "outputs": [
        {
          "output_type": "execute_result",
          "data": {
            "text/plain": [
              "0.30501999620740905"
            ]
          },
          "metadata": {
            "tags": []
          },
          "execution_count": 43
        }
      ]
    },
    {
      "cell_type": "code",
      "metadata": {
        "colab": {
          "base_uri": "https://localhost:8080/"
        },
        "id": "5TjZdC015pQg",
        "outputId": "0f5fc43f-48d4-4525-b6ef-0075eb2a25f3"
      },
      "source": [
        "egrad(tanh)(anp.array([1.2,2.4]))"
      ],
      "execution_count": null,
      "outputs": [
        {
          "output_type": "execute_result",
          "data": {
            "text/plain": [
              "array([0.30502   , 0.03238377])"
            ]
          },
          "metadata": {
            "tags": []
          },
          "execution_count": 45
        }
      ]
    },
    {
      "cell_type": "code",
      "metadata": {
        "id": "CFGhPmP959RU"
      },
      "source": [
        "def predict(params,inputs):\n",
        "  for W,b in params:\n",
        "    output=jnp.dot(inputs,W)+b\n",
        "    outputs=jnp.tanh(outputs)\n",
        "  return outputs\n",
        "\n",
        "def logprob_fun(params,inputs,targets):\n",
        "  preds=predict(params,inputs)\n",
        "  return np.sum((preds-targets)**2)\n",
        "\n",
        "grad_fn=jit(grad(logprob_fun))\n",
        "perex_grads=jit(vmap(grad_fn,in_axes=(None,0,0)))"
      ],
      "execution_count": null,
      "outputs": []
    },
    {
      "cell_type": "code",
      "metadata": {
        "colab": {
          "base_uri": "https://localhost:8080/"
        },
        "id": "iiqaW_E47tQr",
        "outputId": "cc9ae89a-15b2-439c-faaf-7daeb95ff349"
      },
      "source": [
        "def abs_val(x):\n",
        "  if x>0:\n",
        "   return x\n",
        "  else:\n",
        "    return -x\n",
        "\n",
        "abs_val_grad=grad(abs_val)\n",
        "print(abs_val_grad(1.0))\n",
        "print(abs_val_grad(-1.0))"
      ],
      "execution_count": null,
      "outputs": [
        {
          "output_type": "stream",
          "text": [
            "1.0\n",
            "-1.0\n"
          ],
          "name": "stdout"
        }
      ]
    },
    {
      "cell_type": "code",
      "metadata": {
        "colab": {
          "base_uri": "https://localhost:8080/"
        },
        "id": "h8DvleXc9g5Z",
        "outputId": "2afc5f7f-257b-4061-fa95-e69efe4825b5"
      },
      "source": [
        "def slow_f(x):\n",
        "  return x*x+x*2.0\n",
        "\n",
        "new_grad=grad(slow_f)\n",
        "new_grad(1.0)"
      ],
      "execution_count": null,
      "outputs": [
        {
          "output_type": "execute_result",
          "data": {
            "text/plain": [
              "DeviceArray(4., dtype=float32)"
            ]
          },
          "metadata": {
            "tags": []
          },
          "execution_count": 10
        }
      ]
    },
    {
      "cell_type": "code",
      "metadata": {
        "id": "UGrxIlvJ9-Ym"
      },
      "source": [
        "x=np.ones((5000,5000))\n",
        "fast_f=jit(slow_f)"
      ],
      "execution_count": null,
      "outputs": []
    },
    {
      "cell_type": "code",
      "metadata": {
        "colab": {
          "base_uri": "https://localhost:8080/"
        },
        "id": "O8kWfziw-SpG",
        "outputId": "792bcbc1-1da9-4902-9bae-a0d04b9ea33d"
      },
      "source": [
        "%timeit -n10 -r3 slow_f(x)\n",
        "%timeit -n10 -r3 fast_f(x)"
      ],
      "execution_count": null,
      "outputs": [
        {
          "output_type": "stream",
          "text": [
            "10 loops, best of 3: 1.21 ms per loop\n",
            "10 loops, best of 3: 72.6 µs per loop\n"
          ],
          "name": "stdout"
        }
      ]
    },
    {
      "cell_type": "code",
      "metadata": {
        "colab": {
          "base_uri": "https://localhost:8080/"
        },
        "id": "tHkLZJCw-gpu",
        "outputId": "c185abc0-8364-4fc0-c3e5-0344ef46a3f3"
      },
      "source": [
        "keys=random.split(random.PRNGKey(0),1)\n",
        "print(random.PRNGKey(0))\n",
        "print(keys)"
      ],
      "execution_count": null,
      "outputs": [
        {
          "output_type": "stream",
          "text": [
            "[0 0]\n",
            "[[ 928981903 3453687069]]\n"
          ],
          "name": "stdout"
        }
      ]
    },
    {
      "cell_type": "code",
      "metadata": {
        "id": "95wPOP5N_YcF"
      },
      "source": [
        "mats=pmap(lambda key:random.normal(key,(5000,5000)))(keys)"
      ],
      "execution_count": null,
      "outputs": []
    },
    {
      "cell_type": "code",
      "metadata": {
        "colab": {
          "base_uri": "https://localhost:8080/"
        },
        "id": "W4afmwYV_sIT",
        "outputId": "5fce2a74-d243-4bb3-da38-a13ff21f2b7b"
      },
      "source": [
        "print(mats.shape)"
      ],
      "execution_count": null,
      "outputs": [
        {
          "output_type": "stream",
          "text": [
            "(1, 5000, 5000)\n"
          ],
          "name": "stdout"
        }
      ]
    },
    {
      "cell_type": "code",
      "metadata": {
        "colab": {
          "base_uri": "https://localhost:8080/"
        },
        "id": "0pw_VDm4AH-n",
        "outputId": "dfff4bdb-5818-463c-aaf2-fcc56f4284df"
      },
      "source": [
        "mats"
      ],
      "execution_count": null,
      "outputs": [
        {
          "output_type": "execute_result",
          "data": {
            "text/plain": [
              "ShardedDeviceArray([[[-0.87019426,  0.01972901,  0.22640486, ...,\n",
              "                      -0.37454543, -0.64242613,  0.3031186 ],\n",
              "                     [ 0.53129244,  0.32618856, -1.1704537 , ...,\n",
              "                      -0.9485279 ,  1.4899558 , -0.42557827],\n",
              "                     [ 2.6284018 , -0.81543285,  1.8655902 , ...,\n",
              "                       1.383173  ,  0.13609554,  0.8321134 ],\n",
              "                     ...,\n",
              "                     [ 0.05763421, -1.1380501 , -0.1416731 , ...,\n",
              "                      -0.82615894,  1.511998  ,  0.4794723 ],\n",
              "                     [-0.8174312 ,  1.4516509 ,  0.33721426, ...,\n",
              "                      -1.0761003 , -1.0515822 , -0.8282714 ],\n",
              "                     [ 0.3497559 , -0.5198364 ,  0.88115907, ...,\n",
              "                      -0.11560184,  0.8695567 ,  0.3258035 ]]],                   dtype=float32)"
            ]
          },
          "metadata": {
            "tags": []
          },
          "execution_count": 32
        }
      ]
    },
    {
      "cell_type": "code",
      "metadata": {
        "colab": {
          "base_uri": "https://localhost:8080/"
        },
        "id": "4DcDHLdVACDv",
        "outputId": "e6625a67-dee9-457e-c5c6-7119b3eb5a60"
      },
      "source": [
        "random.normal(keys[0],(5000,5000))"
      ],
      "execution_count": null,
      "outputs": [
        {
          "output_type": "execute_result",
          "data": {
            "text/plain": [
              "DeviceArray([[-0.87019426,  0.01972901,  0.22640486, ..., -0.37454543,\n",
              "              -0.64242613,  0.3031186 ],\n",
              "             [ 0.53129244,  0.32618856, -1.1704537 , ..., -0.9485279 ,\n",
              "               1.4899558 , -0.42557827],\n",
              "             [ 2.6284018 , -0.81543285,  1.8655902 , ...,  1.383173  ,\n",
              "               0.13609554,  0.8321134 ],\n",
              "             ...,\n",
              "             [ 0.05763421, -1.1380501 , -0.1416731 , ..., -0.82615894,\n",
              "               1.511998  ,  0.4794723 ],\n",
              "             [-0.8174312 ,  1.4516509 ,  0.33721426, ..., -1.0761003 ,\n",
              "              -1.0515822 , -0.8282714 ],\n",
              "             [ 0.3497559 , -0.5198364 ,  0.88115907, ..., -0.11560184,\n",
              "               0.8695567 ,  0.3258035 ]], dtype=float32)"
            ]
          },
          "metadata": {
            "tags": []
          },
          "execution_count": 31
        }
      ]
    },
    {
      "cell_type": "code",
      "metadata": {
        "colab": {
          "base_uri": "https://localhost:8080/"
        },
        "id": "2VIbZsQxAWEU",
        "outputId": "81473ff3-f8ad-46eb-d6d5-7901bc3123c0"
      },
      "source": [
        "np.mean(mats,axis=-1)"
      ],
      "execution_count": null,
      "outputs": [
        {
          "output_type": "execute_result",
          "data": {
            "text/plain": [
              "DeviceArray([[ 0.00620442,  0.00547729,  0.00967285, ...,  0.01436097,\n",
              "              -0.00563139, -0.00415294]], dtype=float32)"
            ]
          },
          "metadata": {
            "tags": []
          },
          "execution_count": 35
        }
      ]
    },
    {
      "cell_type": "code",
      "metadata": {
        "id": "9_izxPWgA4E8"
      },
      "source": [
        "from functools import partial\n",
        "from jax import lax\n",
        "\n",
        "\n",
        "@partial(pmap,axis_name='i')\n",
        "def normalize(x):                 #Need 4 logical devices\n",
        "  return x/lax.psum(x,'i')\n",
        "\n",
        "print(normalize(np.arange(1.)))"
      ],
      "execution_count": null,
      "outputs": []
    },
    {
      "cell_type": "code",
      "metadata": {
        "id": "np7f5wMlFVrz"
      },
      "source": [
        "import jax.numpy as jnp"
      ],
      "execution_count": null,
      "outputs": []
    },
    {
      "cell_type": "code",
      "metadata": {
        "id": "V5yylMhBE-q7"
      },
      "source": [
        "A,B,C,D=2,3,4,5\n",
        "x=np.ones((A,B))\n",
        "y=jnp.ones((B,C))\n",
        "z=jnp.ones((C,D))\n",
        "\n",
        "def foo(tree_arg):\n",
        "  x,(y,z)=tree_arg\n",
        "  return jnp.dot(x,jnp.dot(y,z))  #(2,3)*(3,5)=(2,5)"
      ],
      "execution_count": null,
      "outputs": []
    },
    {
      "cell_type": "code",
      "metadata": {
        "colab": {
          "base_uri": "https://localhost:8080/"
        },
        "id": "QV7G1TNBFZAw",
        "outputId": "9e6197c9-1dc4-4021-f5a1-d8dde1eb2a9d"
      },
      "source": [
        "tree=(x,(y,z))\n",
        "%timeit foo(tree)"
      ],
      "execution_count": null,
      "outputs": [
        {
          "output_type": "stream",
          "text": [
            "1000 loops, best of 5: 559 µs per loop\n"
          ],
          "name": "stdout"
        }
      ]
    },
    {
      "cell_type": "code",
      "metadata": {
        "colab": {
          "base_uri": "https://localhost:8080/"
        },
        "id": "VwsdYhV6F-OE",
        "outputId": "0a195395-556d-4d7e-8c13-e3569fbaa26d"
      },
      "source": [
        "%timeit jit(foo)(tree)"
      ],
      "execution_count": null,
      "outputs": [
        {
          "output_type": "stream",
          "text": [
            "1000 loops, best of 5: 446 µs per loop\n"
          ],
          "name": "stdout"
        }
      ]
    },
    {
      "cell_type": "code",
      "metadata": {
        "colab": {
          "base_uri": "https://localhost:8080/"
        },
        "id": "xoeuhoatGNTW",
        "outputId": "125852a0-65dd-4574-a99a-1ab1593d6e66"
      },
      "source": [
        "print(foo(tree))"
      ],
      "execution_count": null,
      "outputs": [
        {
          "output_type": "stream",
          "text": [
            "[[12. 12. 12. 12. 12.]\n",
            " [12. 12. 12. 12. 12.]]\n"
          ],
          "name": "stdout"
        }
      ]
    },
    {
      "cell_type": "code",
      "metadata": {
        "colab": {
          "base_uri": "https://localhost:8080/"
        },
        "id": "1E4UGUecGhZp",
        "outputId": "81db87fc-688a-41d8-e24c-ea9c31e4015a"
      },
      "source": [
        "print(x.shape)\n",
        "print(y.shape)\n",
        "print(z.shape)"
      ],
      "execution_count": null,
      "outputs": [
        {
          "output_type": "stream",
          "text": [
            "(2, 3)\n",
            "(3, 4)\n",
            "(4, 5)\n"
          ],
          "name": "stdout"
        }
      ]
    },
    {
      "cell_type": "code",
      "metadata": {
        "id": "x-DhwvtHGYqT"
      },
      "source": [
        "K=6 #batch size\n",
        "x=jnp.ones((K,A,B))  # batch axis in different locations\n",
        "y=jnp.ones((B,K,C))\n",
        "z=jnp.ones((C,D,K))\n",
        "tree=(x,(y,z))"
      ],
      "execution_count": null,
      "outputs": []
    },
    {
      "cell_type": "code",
      "metadata": {
        "colab": {
          "base_uri": "https://localhost:8080/"
        },
        "id": "6kQC7kwUGslV",
        "outputId": "8cd94927-d425-4531-df01-7d79dc8722b0"
      },
      "source": [
        "print(x.shape)\n",
        "print(y.shape)\n",
        "print(z.shape)"
      ],
      "execution_count": null,
      "outputs": [
        {
          "output_type": "stream",
          "text": [
            "(6, 2, 3)\n",
            "(3, 6, 4)\n",
            "(4, 5, 6)\n"
          ],
          "name": "stdout"
        }
      ]
    },
    {
      "cell_type": "code",
      "metadata": {
        "colab": {
          "base_uri": "https://localhost:8080/"
        },
        "id": "MDiuF--EG7T_",
        "outputId": "8de9afd6-d0f2-4592-99d4-d3bc9ef278a1"
      },
      "source": [
        "vfoo=vmap(foo,in_axes=((0,(1,2)),))\n",
        "print(vfoo(tree).shape)"
      ],
      "execution_count": null,
      "outputs": [
        {
          "output_type": "stream",
          "text": [
            "(6, 2, 5)\n"
          ],
          "name": "stdout"
        }
      ]
    }
  ]
}
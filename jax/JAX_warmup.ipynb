{
  "nbformat": 4,
  "nbformat_minor": 0,
  "metadata": {
    "colab": {
      "name": "JAX warmup.ipynb",
      "provenance": []
    },
    "kernelspec": {
      "name": "python3",
      "display_name": "Python 3"
    },
    "language_info": {
      "name": "python"
    }
  },
  "cells": [
    {
      "cell_type": "code",
      "metadata": {
        "id": "RkM6i3B-4XMT",
        "colab": {
          "base_uri": "https://localhost:8080/"
        },
        "outputId": "9c45daed-fae4-4fde-e2ea-c6278e49f0d0"
      },
      "source": [
        "#Install the lastest JAXlib version.\n",
        "!pip install --upgrade -q pip jax jaxlib\n",
        "#Install Flax at head:\n",
        "!pip install --upgrade -q git+https://github.com/google/flax.git"
      ],
      "execution_count": 1,
      "outputs": [
        {
          "output_type": "stream",
          "text": [
            "\u001b[K     |████████████████████████████████| 1.6MB 5.2MB/s \n",
            "\u001b[K     |████████████████████████████████| 45.3MB 90kB/s \n",
            "\u001b[K     |████████████████████████████████| 96 kB 2.7 MB/s \n",
            "\u001b[K     |████████████████████████████████| 52 kB 884 kB/s \n",
            "\u001b[?25h  Building wheel for flax (setup.py) ... \u001b[?25l\u001b[?25hdone\n",
            "\u001b[33mWARNING: Running pip as root will break packages and permissions. You should install packages reliably by using venv: https://pip.pypa.io/warnings/venv\u001b[0m\n"
          ],
          "name": "stdout"
        }
      ]
    },
    {
      "cell_type": "code",
      "metadata": {
        "id": "uOTsFYv9K0uB"
      },
      "source": [
        "import jax\n",
        "import jax.numpy as jnp\n",
        "from jax import grad\n",
        "from jax import random\n",
        "import flax.linen as nn\n",
        "import numpy as np\n",
        "\n",
        "f=lambda x:x**3+2*x**2-3*x+1\n",
        "\n",
        "dfdx=grad(f)\n",
        "d2fdx=grad(grad(f))"
      ],
      "execution_count": 2,
      "outputs": []
    },
    {
      "cell_type": "code",
      "metadata": {
        "colab": {
          "base_uri": "https://localhost:8080/"
        },
        "id": "99HVEzeJn-ld",
        "outputId": "6ae9699a-b7ba-4e41-8c28-e877388c207d"
      },
      "source": [
        "print(dfdx(1.))\n",
        "print(d2fdx(1.))"
      ],
      "execution_count": null,
      "outputs": [
        {
          "output_type": "stream",
          "text": [
            "WARNING:absl:No GPU/TPU found, falling back to CPU. (Set TF_CPP_MIN_LOG_LEVEL=0 and rerun for more info.)\n"
          ],
          "name": "stderr"
        },
        {
          "output_type": "stream",
          "text": [
            "4.0\n",
            "10.0\n"
          ],
          "name": "stdout"
        }
      ]
    },
    {
      "cell_type": "code",
      "metadata": {
        "colab": {
          "base_uri": "https://localhost:8080/"
        },
        "id": "yZD69kzqoYAn",
        "outputId": "4cd185bf-f6a4-4e21-aed9-65c1ddfafddb"
      },
      "source": [
        "hessian(f)(1.)"
      ],
      "execution_count": null,
      "outputs": [
        {
          "output_type": "execute_result",
          "data": {
            "text/plain": [
              "DeviceArray(10., dtype=float32)"
            ]
          },
          "metadata": {
            "tags": []
          },
          "execution_count": 5
        }
      ]
    },
    {
      "cell_type": "code",
      "metadata": {
        "id": "3D-FisGZoB8P"
      },
      "source": [
        "def f(x):\n",
        "  return jnp.dot(x,x)\n",
        "\n",
        "def hessian(f):\n",
        "  return jax.jacfwd(grad(f))"
      ],
      "execution_count": null,
      "outputs": []
    },
    {
      "cell_type": "code",
      "metadata": {
        "colab": {
          "base_uri": "https://localhost:8080/"
        },
        "id": "Q2NTniZWoflP",
        "outputId": "02275882-e29d-444d-fea1-3fb110f00f4b"
      },
      "source": [
        "hessian(f)(jnp.array([1.,2.]))"
      ],
      "execution_count": null,
      "outputs": [
        {
          "output_type": "execute_result",
          "data": {
            "text/plain": [
              "DeviceArray([[2., 0.],\n",
              "             [0., 2.]], dtype=float32)"
            ]
          },
          "metadata": {
            "tags": []
          },
          "execution_count": 10
        }
      ]
    },
    {
      "cell_type": "code",
      "metadata": {
        "id": "3HUApkuEomlF"
      },
      "source": [
        "def norm(X):\n",
        "  X=X-X.mean(0)\n",
        "  return X/X.std(0)"
      ],
      "execution_count": null,
      "outputs": []
    },
    {
      "cell_type": "code",
      "metadata": {
        "id": "FSuBSd4LpaPC"
      },
      "source": [
        "from jax import jit\n",
        "norm_compiled=jit(norm)"
      ],
      "execution_count": null,
      "outputs": []
    },
    {
      "cell_type": "code",
      "metadata": {
        "colab": {
          "base_uri": "https://localhost:8080/"
        },
        "id": "yPayMO7WpZRQ",
        "outputId": "04556ac3-4983-4b0e-ebd5-9eb2f4758b0f"
      },
      "source": [
        "np.random.seed(1701)\n",
        "X=jnp.array(np.random.rand(10000,10))\n",
        "np.allclose(norm(X),norm_compiled(X),atol=1E-6)"
      ],
      "execution_count": null,
      "outputs": [
        {
          "output_type": "execute_result",
          "data": {
            "text/plain": [
              "True"
            ]
          },
          "metadata": {
            "tags": []
          },
          "execution_count": 14
        }
      ]
    },
    {
      "cell_type": "code",
      "metadata": {
        "colab": {
          "base_uri": "https://localhost:8080/"
        },
        "id": "nLKdNJ4Np588",
        "outputId": "d0e2fa2d-0695-4d3a-ea42-72bf4be21cf2"
      },
      "source": [
        "%timeit norm(X).block_until_ready()\n",
        "%timeit norm_compiled(X).block_until_ready()"
      ],
      "execution_count": null,
      "outputs": [
        {
          "output_type": "stream",
          "text": [
            "100 loops, best of 5: 4.44 ms per loop\n",
            "1000 loops, best of 5: 408 µs per loop\n"
          ],
          "name": "stdout"
        }
      ]
    },
    {
      "cell_type": "code",
      "metadata": {
        "colab": {
          "base_uri": "https://localhost:8080/"
        },
        "id": "TI4YGEj9qD51",
        "outputId": "ac023f55-30cd-4f58-d29b-f6306fa9966c"
      },
      "source": [
        "def get_negatives(x):\n",
        "  return x[x<0]\n",
        "\n",
        "x=jnp.array(np.random.randn(10))\n",
        "get_negatives(x)"
      ],
      "execution_count": null,
      "outputs": [
        {
          "output_type": "execute_result",
          "data": {
            "text/plain": [
              "DeviceArray([-1.2571421 , -0.48511598, -0.9863928 , -0.26037157,\n",
              "             -0.49505737], dtype=float32)"
            ]
          },
          "metadata": {
            "tags": []
          },
          "execution_count": 19
        }
      ]
    },
    {
      "cell_type": "markdown",
      "metadata": {
        "id": "xu3BkNC9rSx_"
      },
      "source": [
        "The most commonly used pytree functions are jax.tree_map and jax.tree_multimap. They work analogously to Python’s native map, but on entire pytrees."
      ]
    },
    {
      "cell_type": "code",
      "metadata": {
        "colab": {
          "base_uri": "https://localhost:8080/"
        },
        "id": "6mjcqCMsqMQN",
        "outputId": "161c8ca9-db01-4532-ae0f-8679c47e6244"
      },
      "source": [
        "list_of_lists=[\n",
        "               [1,2,3],\n",
        "               [1,2],\n",
        "               [1,2,3,4]\n",
        "]\n",
        "\n",
        "jax.tree_map(lambda x:x*2,list_of_lists)"
      ],
      "execution_count": null,
      "outputs": [
        {
          "output_type": "execute_result",
          "data": {
            "text/plain": [
              "[[2, 4, 6], [2, 4], [2, 4, 6, 8]]"
            ]
          },
          "metadata": {
            "tags": []
          },
          "execution_count": 20
        }
      ]
    },
    {
      "cell_type": "code",
      "metadata": {
        "colab": {
          "base_uri": "https://localhost:8080/"
        },
        "id": "UEPCgzxern5Z",
        "outputId": "3ec1bc80-4709-4e9a-a5af-3b9ff83c94aa"
      },
      "source": [
        "another_list_of_lists=list_of_lists\n",
        "jax.tree_multimap(lambda x,y:x+y,list_of_lists,another_list_of_lists)"
      ],
      "execution_count": null,
      "outputs": [
        {
          "output_type": "execute_result",
          "data": {
            "text/plain": [
              "[[2, 4, 6], [2, 4], [2, 4, 6, 8]]"
            ]
          },
          "metadata": {
            "tags": []
          },
          "execution_count": 22
        }
      ]
    },
    {
      "cell_type": "code",
      "metadata": {
        "id": "jcUpBVcXsFpi"
      },
      "source": [
        "def init_mlp_params(layer_widths):\n",
        "  params=[]\n",
        "  for n_in,n_out in zip(layer_widths[:-1],layer_widths[1:]):\n",
        "    params.append(\n",
        "        dict(weights=np.random.normal(size=(n_in,n_out))*np.sqrt(2/n_in),\n",
        "             biases=np.ones(shape=(n_out,)))\n",
        "    )\n",
        "  return params\n",
        "\n",
        "params=init_mlp_params([1,128,128,1])"
      ],
      "execution_count": null,
      "outputs": []
    },
    {
      "cell_type": "code",
      "metadata": {
        "colab": {
          "base_uri": "https://localhost:8080/"
        },
        "id": "IbNBitCVs-ty",
        "outputId": "c9389ee5-28cb-4964-8a1a-4e27f269b686"
      },
      "source": [
        "jax.tree_map(lambda x:x.shape,params)"
      ],
      "execution_count": null,
      "outputs": [
        {
          "output_type": "execute_result",
          "data": {
            "text/plain": [
              "[{'biases': (128,), 'weights': (1, 128)},\n",
              " {'biases': (128,), 'weights': (128, 128)},\n",
              " {'biases': (1,), 'weights': (128, 1)}]"
            ]
          },
          "metadata": {
            "tags": []
          },
          "execution_count": 26
        }
      ]
    },
    {
      "cell_type": "code",
      "metadata": {
        "id": "DgXuvoBxtDhV"
      },
      "source": [
        "def forward(params,x):\n",
        "  *hidden,last=params\n",
        "  for layer in hidden:\n",
        "    x=jax.nn.relu(x@layer['weights']+layer['biases'])\n",
        "  return x@last['weights']+last['biases']\n",
        "\n",
        "def loss_fn(params,x,y):\n",
        "  return jnp.mean((forward(params,x)-y)**2)\n",
        "\n",
        "LEARNING_RATE=0.0001\n",
        "\n",
        "@jax.jit\n",
        "def update(params,x,y):\n",
        "  grads=jax.grad(loss_fn)(params,x,y)\n",
        "  # Note that `grads` is a pytree with the same structure as `params`.\n",
        "  # `jax.grad` is one of the many JAX functions that has built-in support for pytrees.\n",
        "  return jax.tree_multimap(lambda p,g:p-LEARNING_RATE*g,params,grads)"
      ],
      "execution_count": null,
      "outputs": []
    },
    {
      "cell_type": "code",
      "metadata": {
        "colab": {
          "base_uri": "https://localhost:8080/",
          "height": 265
        },
        "id": "TcpDRaKSt2WE",
        "outputId": "53a285dc-c283-4066-f608-414737c42705"
      },
      "source": [
        "import matplotlib.pyplot as plt\n",
        "\n",
        "xs=np.random.normal(size=(128,1))\n",
        "ys=xs**2\n",
        "\n",
        "for _ in range(1000):\n",
        "  params=update(params,xs,ys)\n",
        "\n",
        "plt.plot(xs,ys,'.',c='red')\n",
        "plt.plot(xs,forward(params,xs),'.',c='green',label='Model prediction')\n",
        "plt.legend()\n",
        "plt.show()"
      ],
      "execution_count": null,
      "outputs": [
        {
          "output_type": "display_data",
          "data": {
            "image/png": "[encoded data removed]",
            "text/plain": [
              "<Figure size 432x288 with 1 Axes>"
            ]
          },
          "metadata": {
            "tags": [],
            "needs_background": "light"
          }
        }
      ]
    },
    {
      "cell_type": "code",
      "metadata": {
        "colab": {
          "base_uri": "https://localhost:8080/"
        },
        "id": "J9xkLpnhvb0i",
        "outputId": "0662c91d-e79a-4075-9273-997fce0797e6"
      },
      "source": [
        "example_trees=[[1,2],3,[4,5,6]]\n",
        "\n",
        "print(jax.tree_leaves(example_trees))\n",
        "print(jax.tree_flatten(example_trees)[0])"
      ],
      "execution_count": null,
      "outputs": [
        {
          "output_type": "stream",
          "text": [
            "[1, 2, 3, 4, 5, 6]\n",
            "[1, 2, 3, 4, 5, 6]\n"
          ],
          "name": "stdout"
        }
      ]
    },
    {
      "cell_type": "code",
      "metadata": {
        "colab": {
          "base_uri": "https://localhost:8080/"
        },
        "id": "lgYU-CRgytdO",
        "outputId": "649af810-6d11-47a4-ac18-fe6568c84649"
      },
      "source": [
        "example_trees=[\n",
        "      [1,'a',object()],\n",
        "      (1,(2,3),()),\n",
        "      [1,{'k1':1,'k2':(3,4)},5],\n",
        "      {'a':2,'b':(2,3)},\n",
        "      jnp.array([1,2,3]),         \n",
        "]\n",
        "\n",
        "# Let's see how many leaves they have:\n",
        "for pytree in example_trees:\n",
        "  leaves=jax.tree_leaves(pytree)\n",
        "  print(f'{repr(pytree):<45} has {len(leaves)} leaves:{leaves}')"
      ],
      "execution_count": null,
      "outputs": [
        {
          "output_type": "stream",
          "text": [
            "[1, 'a', <object object at 0x7f838855ebc0>]   has 3 leaves:[1, 'a', <object object at 0x7f838855ebc0>]\n",
            "(1, (2, 3), ())                               has 3 leaves:[1, 2, 3]\n",
            "[1, {'k1': 1, 'k2': (3, 4)}, 5]               has 5 leaves:[1, 1, 3, 4, 5]\n",
            "{'a': 2, 'b': (2, 3)}                         has 3 leaves:[2, 2, 3]\n",
            "DeviceArray([1, 2, 3], dtype=int32)           has 1 leaves:[DeviceArray([1, 2, 3], dtype=int32)]\n"
          ],
          "name": "stdout"
        }
      ]
    },
    {
      "cell_type": "code",
      "metadata": {
        "colab": {
          "base_uri": "https://localhost:8080/"
        },
        "id": "wP-Ez1t40-o5",
        "outputId": "dd075d53-8e2f-4c9f-d470-5be1ccd091f2"
      },
      "source": [
        "example_trees=[('a','b','c'),('d','e')]\n",
        "\n",
        "print(jax.tree_map(lambda x:x+'b',example_trees))"
      ],
      "execution_count": null,
      "outputs": [
        {
          "output_type": "stream",
          "text": [
            "[('ab', 'bb', 'cb'), ('db', 'eb')]\n"
          ],
          "name": "stdout"
        }
      ]
    },
    {
      "cell_type": "code",
      "metadata": {
        "id": "_zyjHGvO1smO"
      },
      "source": [
        "from typing import  Sequence\n",
        "\n",
        "class MLP(nn.Module):\n",
        "  features:Sequence[int]\n",
        "\n",
        "  @nn.compact\n",
        "  def __call__(self,x):\n",
        "    for feat in self.features[:-1]:\n",
        "      x=nn.Dense(feat)(x)\n",
        "      x=nn.relu(x)\n",
        "    x=nn.Dense(self.features[-1])(x)\n",
        "    return x     "
      ],
      "execution_count": null,
      "outputs": []
    },
    {
      "cell_type": "code",
      "metadata": {
        "colab": {
          "base_uri": "https://localhost:8080/"
        },
        "id": "jZka2fVd5Fg1",
        "outputId": "8a15578e-081e-4b97-88b7-419192cc0a14"
      },
      "source": [
        "model=MLP([32,32,10])\n",
        "batched_x=jnp.ones((32,10))\n",
        "rng=random.PRNGKey(0)\n",
        "params=model.init(rng,batched_x)\n",
        "jax.tree_map(lambda x:x.shape,params)"
      ],
      "execution_count": null,
      "outputs": [
        {
          "output_type": "execute_result",
          "data": {
            "text/plain": [
              "FrozenDict({\n",
              "    params: {\n",
              "        Dense_0: {\n",
              "            bias: (32,),\n",
              "            kernel: (10, 32),\n",
              "        },\n",
              "        Dense_1: {\n",
              "            bias: (32,),\n",
              "            kernel: (32, 32),\n",
              "        },\n",
              "        Dense_2: {\n",
              "            bias: (10,),\n",
              "            kernel: (32, 10),\n",
              "        },\n",
              "    },\n",
              "})"
            ]
          },
          "metadata": {
            "tags": []
          },
          "execution_count": 75
        }
      ]
    },
    {
      "cell_type": "code",
      "metadata": {
        "colab": {
          "base_uri": "https://localhost:8080/"
        },
        "id": "4OAeNZ8Z5cak",
        "outputId": "03346961-5209-4f36-906e-64e2ca6b1a3c"
      },
      "source": [
        "output=model.apply(params,batched_x)\n",
        "print(output.shape)"
      ],
      "execution_count": null,
      "outputs": [
        {
          "output_type": "stream",
          "text": [
            "(32, 10)\n"
          ],
          "name": "stdout"
        }
      ]
    },
    {
      "cell_type": "code",
      "metadata": {
        "id": "bp_1WJwkNqte"
      },
      "source": [
        "import jax\n",
        "import jax.numpy as jnp\n",
        "from jax import random,grad,vmap"
      ],
      "execution_count": 3,
      "outputs": []
    },
    {
      "cell_type": "code",
      "metadata": {
        "colab": {
          "base_uri": "https://localhost:8080/"
        },
        "id": "m_G40icROD-m",
        "outputId": "aee19fec-5894-465a-81dd-ada6d1eec7bc"
      },
      "source": [
        "print('jax version:',jax.__version__)\n",
        "#Check the jax backend\n",
        "print('jax backend:',jax.lib.xla_bridge.get_backend().platform)"
      ],
      "execution_count": null,
      "outputs": [
        {
          "output_type": "stream",
          "text": [
            "jax version: 0.2.13\n",
            "jax backend: cpu\n"
          ],
          "name": "stdout"
        }
      ]
    },
    {
      "cell_type": "code",
      "metadata": {
        "colab": {
          "base_uri": "https://localhost:8080/"
        },
        "id": "GMMnQR-kOetq",
        "outputId": "7480451c-0191-45f5-f3ce-6d1a0ee7fc15"
      },
      "source": [
        "print(jax.devices())"
      ],
      "execution_count": null,
      "outputs": [
        {
          "output_type": "stream",
          "text": [
            "[CpuDevice(id=0)]\n"
          ],
          "name": "stdout"
        }
      ]
    },
    {
      "cell_type": "code",
      "metadata": {
        "colab": {
          "base_uri": "https://localhost:8080/"
        },
        "id": "d8gQwstTOuFQ",
        "outputId": "89a19578-21a4-49b9-be12-d5357676809d"
      },
      "source": [
        "x=jnp.array([1,2,3])\n",
        "y=jax.nn.one_hot(a,4)\n",
        "print(y)"
      ],
      "execution_count": null,
      "outputs": [
        {
          "output_type": "stream",
          "text": [
            "[[0. 1. 0. 0.]\n",
            " [0. 0. 1. 0.]\n",
            " [0. 0. 0. 1.]]\n"
          ],
          "name": "stdout"
        }
      ]
    },
    {
      "cell_type": "code",
      "metadata": {
        "id": "zzfoCxKhPY8I"
      },
      "source": [
        "x=jnp.arange(5)\n",
        "w=jnp.array([2.,3.,4.])\n",
        "\n",
        "def convolve(x,w):\n",
        "  output=[]\n",
        "  for i in range(1,len(x)-1):\n",
        "    output.append(jnp.dot(x[i-1:i+2],w))\n",
        "  return jnp.array(output)"
      ],
      "execution_count": null,
      "outputs": []
    },
    {
      "cell_type": "code",
      "metadata": {
        "colab": {
          "base_uri": "https://localhost:8080/"
        },
        "id": "ogv_p0juQCNA",
        "outputId": "94280b15-4ad4-4ff9-843b-c64ffec74029"
      },
      "source": [
        "print(convolve(x,w))"
      ],
      "execution_count": null,
      "outputs": [
        {
          "output_type": "stream",
          "text": [
            "[11. 20. 29.]\n"
          ],
          "name": "stdout"
        }
      ]
    },
    {
      "cell_type": "code",
      "metadata": {
        "colab": {
          "base_uri": "https://localhost:8080/"
        },
        "id": "GQVxJwPRQFOf",
        "outputId": "c94610d0-1c35-43ec-b8a9-9c1f25d3abf7"
      },
      "source": [
        "xs=jnp.stack([x,x])\n",
        "ws=jnp.stack([w,w])\n",
        "\n",
        "def manually_batched_convolve(xs,ws):\n",
        "  output=[]\n",
        "  for i in range(xs.shape[0]):\n",
        "    output.append(convolve(xs[i],ws[i]))\n",
        "  return jnp.stack(output)\n",
        "\n",
        "manually_batched_convolve(xs,ws)"
      ],
      "execution_count": null,
      "outputs": [
        {
          "output_type": "execute_result",
          "data": {
            "text/plain": [
              "DeviceArray([[11., 20., 29.],\n",
              "             [11., 20., 29.]], dtype=float32)"
            ]
          },
          "metadata": {
            "tags": []
          },
          "execution_count": 37
        }
      ]
    },
    {
      "cell_type": "code",
      "metadata": {
        "colab": {
          "base_uri": "https://localhost:8080/"
        },
        "id": "BzdrX4UORVVO",
        "outputId": "11a22ab2-2b23-43f3-8c10-db989020d344"
      },
      "source": [
        "def manually_vectorize_convolve(xs,ws):\n",
        "  output=[]                             \n",
        "  for i in range(1,xs.shape[-1]-1):\n",
        "    print(xs[:,i-1:i+2]*ws)\n",
        "    output.append(jnp.sum(xs[:,i-1:i+2]*ws,axis=1)) \n",
        "  #print(output)  \n",
        "  return jnp.stack(output,axis=1)\n",
        "\n",
        "manually_vectorize_convolve(xs,ws)"
      ],
      "execution_count": null,
      "outputs": [
        {
          "output_type": "stream",
          "text": [
            "[[0. 3. 8.]\n",
            " [0. 3. 8.]]\n",
            "[[ 2.  6. 12.]\n",
            " [ 2.  6. 12.]]\n",
            "[[ 4.  9. 16.]\n",
            " [ 4.  9. 16.]]\n"
          ],
          "name": "stdout"
        },
        {
          "output_type": "execute_result",
          "data": {
            "text/plain": [
              "DeviceArray([[11., 20., 29.],\n",
              "             [11., 20., 29.]], dtype=float32)"
            ]
          },
          "metadata": {
            "tags": []
          },
          "execution_count": 43
        }
      ]
    },
    {
      "cell_type": "code",
      "metadata": {
        "colab": {
          "base_uri": "https://localhost:8080/"
        },
        "id": "_sKsXw1DSKAo",
        "outputId": "566a376e-8149-4fbe-82a7-a2e4e76ea8db"
      },
      "source": [
        "auto_batch_convolve=vmap(convolve)\n",
        "auto_batch_convolve(xs,ws)"
      ],
      "execution_count": null,
      "outputs": [
        {
          "output_type": "execute_result",
          "data": {
            "text/plain": [
              "DeviceArray([[11., 20., 29.],\n",
              "             [11., 20., 29.]], dtype=float32)"
            ]
          },
          "metadata": {
            "tags": []
          },
          "execution_count": 44
        }
      ]
    },
    {
      "cell_type": "markdown",
      "metadata": {
        "id": "E8Rq2BIETQ9Q"
      },
      "source": [
        "## Axes\n",
        "By default, vmap vectorizes over the first axis of each of its inputs. If the first argument has a batch and the second does not, ,specify `in_axes=[0,None]`, so the second argument is not vectorized over."
      ]
    },
    {
      "cell_type": "code",
      "metadata": {
        "colab": {
          "base_uri": "https://localhost:8080/"
        },
        "id": "vF0puU47THWL",
        "outputId": "ba05399b-0168-480e-d7bd-ee2867543dca"
      },
      "source": [
        "vmap(convolve,in_axes=[0,None])(xs,w)"
      ],
      "execution_count": null,
      "outputs": [
        {
          "output_type": "execute_result",
          "data": {
            "text/plain": [
              "DeviceArray([[11., 20., 29.],\n",
              "             [11., 20., 29.]], dtype=float32)"
            ]
          },
          "metadata": {
            "tags": []
          },
          "execution_count": 45
        }
      ]
    },
    {
      "cell_type": "code",
      "metadata": {
        "id": "Q6L9d3MWTztw"
      },
      "source": [
        "w=np.random.normal(size=(3,))\n",
        "X=np.random.normal(size=(10,3))\n",
        "\n",
        "def sigmoid(x):\n",
        "  return 0.5*(jnp.tanh(x/2.)+1)\n",
        "\n",
        "def predict(x):\n",
        "  return sigmoid(jnp.dot(w,x))   #(3,)*(3,)->1"
      ],
      "execution_count": null,
      "outputs": []
    },
    {
      "cell_type": "code",
      "metadata": {
        "colab": {
          "base_uri": "https://localhost:8080/"
        },
        "id": "d8JVqAAuVQLH",
        "outputId": "350422aa-ba32-4c29-bf1c-9924be08ee8f"
      },
      "source": [
        "print(sigmoid(X).shape)"
      ],
      "execution_count": null,
      "outputs": [
        {
          "output_type": "stream",
          "text": [
            "(10, 3)\n"
          ],
          "name": "stdout"
        }
      ]
    },
    {
      "cell_type": "code",
      "metadata": {
        "colab": {
          "base_uri": "https://localhost:8080/"
        },
        "id": "qtek9g0gVVNW",
        "outputId": "abca112e-0594-47e5-88cb-ce63f6bd99d7"
      },
      "source": [
        "predict(X[0])"
      ],
      "execution_count": null,
      "outputs": [
        {
          "output_type": "execute_result",
          "data": {
            "text/plain": [
              "DeviceArray(0.036, dtype=float32)"
            ]
          },
          "metadata": {
            "tags": []
          },
          "execution_count": 60
        }
      ]
    },
    {
      "cell_type": "code",
      "metadata": {
        "colab": {
          "base_uri": "https://localhost:8080/"
        },
        "id": "jXsihT5_VeWl",
        "outputId": "c5fdfcde-2716-4396-d46b-a952f675b0ef"
      },
      "source": [
        "def manual_batch_predict(x):\n",
        "  return sigmoid(jnp.dot(x,w))  #jnp.dot(w,x.T)\n",
        "\n",
        "manual_batch_predict(X)"
      ],
      "execution_count": null,
      "outputs": [
        {
          "output_type": "execute_result",
          "data": {
            "text/plain": [
              "DeviceArray([0.036, 0.469, 0.12 , 0.744, 0.471, 0.29 , 0.808, 0.944,\n",
              "             0.235, 0.819], dtype=float32)"
            ]
          },
          "metadata": {
            "tags": []
          },
          "execution_count": 61
        }
      ]
    },
    {
      "cell_type": "code",
      "metadata": {
        "colab": {
          "base_uri": "https://localhost:8080/"
        },
        "id": "NIkyC4SPVndY",
        "outputId": "2cc19cca-634c-4b00-d729-c1803436f59e"
      },
      "source": [
        "auto_batch_predict=vmap(predict)(X)\n",
        "auto_batch_predict"
      ],
      "execution_count": null,
      "outputs": [
        {
          "output_type": "execute_result",
          "data": {
            "text/plain": [
              "DeviceArray([0.036, 0.469, 0.12 , 0.744, 0.471, 0.29 , 0.808, 0.944,\n",
              "             0.235, 0.819], dtype=float32)"
            ]
          },
          "metadata": {
            "tags": []
          },
          "execution_count": 65
        }
      ]
    },
    {
      "cell_type": "markdown",
      "metadata": {
        "id": "FYikDsWGaiSh"
      },
      "source": [
        "##Partial derivatives\n",
        "\n",
        "$$\n",
        "\\begin{align}\n",
        "f(x,y) &= x^2 + y \\\\\n",
        "\\frac{\\partial f}{\\partial x} &= 2x \\\\\n",
        "\\frac{\\partial f}{\\partial y} &= 1 \n",
        "\\end{align}\n",
        "$$"
      ]
    },
    {
      "cell_type": "code",
      "metadata": {
        "id": "ay1UDrQ4WIKx"
      },
      "source": [
        "def f(x,y):\n",
        "  return x**2+y"
      ],
      "execution_count": null,
      "outputs": []
    },
    {
      "cell_type": "code",
      "metadata": {
        "colab": {
          "base_uri": "https://localhost:8080/"
        },
        "id": "XK7tMFEuaqG_",
        "outputId": "27b0b7c6-dcbd-4494-ea3b-c95714628821"
      },
      "source": [
        "x=2.\n",
        "y=3.\n",
        "\n",
        "v,gx=jax.value_and_grad(f,argnums=0)(x,y)\n",
        "print(v)\n",
        "print(gx)\n",
        "\n",
        "v,gy=jax.value_and_grad(f,argnums=1)(x,y)\n",
        "print(gy)"
      ],
      "execution_count": null,
      "outputs": [
        {
          "output_type": "stream",
          "text": [
            "7.0\n",
            "4.0\n",
            "1.0\n"
          ],
          "name": "stdout"
        }
      ]
    },
    {
      "cell_type": "markdown",
      "metadata": {
        "id": "AGcaUwO9blR9"
      },
      "source": [
        "##Gradients"
      ]
    },
    {
      "cell_type": "markdown",
      "metadata": {
        "id": "0HnAyys0b2NP"
      },
      "source": [
        "Linear function: multi-input, scalar output.\n",
        "\n",
        "$$\n",
        "\\begin{align}\n",
        "f(x; a) &= a^T x\\\\\n",
        "\\nabla_x f(x;a) &= a\n",
        "\\end{align}\n",
        "$$"
      ]
    },
    {
      "cell_type": "code",
      "metadata": {
        "id": "FqR2C5ydcNC0"
      },
      "source": [
        "np.random.seed(0)"
      ],
      "execution_count": null,
      "outputs": []
    },
    {
      "cell_type": "code",
      "metadata": {
        "colab": {
          "base_uri": "https://localhost:8080/"
        },
        "id": "3tX413ZYbOzL",
        "outputId": "cfa87d58-ae8a-486d-9815-c78e10de5872"
      },
      "source": [
        "def f(x):\n",
        "  return jnp.dot(a,x)[0]\n",
        "\n",
        "x=np.random.normal(size=(3,))\n",
        "a=np.random.normal(size=(1,3))\n",
        "\n",
        "print(f(x))"
      ],
      "execution_count": null,
      "outputs": [
        {
          "output_type": "stream",
          "text": [
            "-2.5868473\n"
          ],
          "name": "stdout"
        }
      ]
    },
    {
      "cell_type": "code",
      "metadata": {
        "id": "j3ZMOiMBcF92"
      },
      "source": [
        "g=grad(f)(x)\n",
        "assert np.allclose(g,a)"
      ],
      "execution_count": null,
      "outputs": []
    },
    {
      "cell_type": "code",
      "metadata": {
        "colab": {
          "base_uri": "https://localhost:8080/"
        },
        "id": "sCG2nmiJcbQ6",
        "outputId": "a4608eb7-b4e8-47c8-bf0c-7fe1f8b55ff4"
      },
      "source": [
        "v,g=jax.value_and_grad(f)(x)\n",
        "print(v)\n",
        "print(g)"
      ],
      "execution_count": null,
      "outputs": [
        {
          "output_type": "stream",
          "text": [
            "-2.5868473\n",
            "[-0.187  1.533  1.469]\n"
          ],
          "name": "stdout"
        }
      ]
    },
    {
      "cell_type": "markdown",
      "metadata": {
        "id": "lU2Q7NNH_6dj"
      },
      "source": [
        "Linear function: multi-input, multi-output.\n",
        "\n",
        "$$\n",
        "\\begin{align}\n",
        "f(x;A) &= A x \\\\\n",
        "\\frac{\\partial f(x;A)}{\\partial x} &= A\n",
        "\\end{align}\n",
        "$$"
      ]
    },
    {
      "cell_type": "code",
      "metadata": {
        "id": "eqsYy_RlclA8",
        "colab": {
          "base_uri": "https://localhost:8080/"
        },
        "outputId": "18f0d960-d9f1-44db-95b0-dce7fd0fdfce"
      },
      "source": [
        "#We construct a multi-output linear function\n",
        "#We check forward and reverse mode give same Jacobians\n",
        "\n",
        "def f(x):\n",
        "  return jnp.dot(A,x)\n",
        "\n",
        "A=np.random.normal(size=(4,3))\n",
        "x=np.random.normal(size=(3,))\n",
        "jf=jax.jacfwd(f)(x)\n",
        "jr=jax.jacrev(f)(x)\n",
        "\n",
        "jf"
      ],
      "execution_count": 6,
      "outputs": [
        {
          "output_type": "execute_result",
          "data": {
            "text/plain": [
              "DeviceArray([[-0.8540168 , -0.37839675, -1.619982  ],\n",
              "             [-0.70436996, -0.5812228 ,  0.04007818],\n",
              "             [-0.05814086,  0.96139854,  0.5682101 ],\n",
              "             [-0.54475194, -1.0987353 , -0.578844  ]], dtype=float32)"
            ]
          },
          "metadata": {
            "tags": []
          },
          "execution_count": 6
        }
      ]
    },
    {
      "cell_type": "markdown",
      "metadata": {
        "id": "0CnsYN5sA4ZT"
      },
      "source": [
        "Quadratic form.\n",
        "\n",
        "$$\n",
        "\\begin{align}\n",
        "f(x;A) &= x^T A x \\\\\n",
        "\\nabla_x f(x;A) &= (A+A^T) x\n",
        "\\end{align}\n",
        "$$"
      ]
    },
    {
      "cell_type": "code",
      "metadata": {
        "colab": {
          "base_uri": "https://localhost:8080/"
        },
        "id": "lSkaoSRZAv6I",
        "outputId": "3bec39b9-f4fa-40e9-919c-25e0e8594c49"
      },
      "source": [
        "A=np.random.normal(size=(4,4))\n",
        "x=np.random.normal(size=(4,))\n",
        "\n",
        "quadf=lambda x:jnp.dot(x,jnp.dot(A,x))\n",
        "\n",
        "g=grad(quadf)(x)\n",
        "\n",
        "g"
      ],
      "execution_count": 8,
      "outputs": [
        {
          "output_type": "execute_result",
          "data": {
            "text/plain": [
              "DeviceArray([-0.5366467, -1.7266395, -0.6585953,  1.9527955], dtype=float32)"
            ]
          },
          "metadata": {
            "tags": []
          },
          "execution_count": 8
        }
      ]
    },
    {
      "cell_type": "code",
      "metadata": {
        "id": "HLrtf1iNBsjK"
      },
      "source": [
        "assert np.allclose(g,jnp.dot(A+A.T,x))"
      ],
      "execution_count": 9,
      "outputs": []
    },
    {
      "cell_type": "markdown",
      "metadata": {
        "id": "9yneJM1zB47O"
      },
      "source": [
        "Chain rule applied to sigmoid function.\n",
        "\n",
        "$$\n",
        "\\begin{align}\n",
        "\\mu(x;w) &=\\sigma(w^T x) \\\\\n",
        "\\nabla_w \\mu(x;w) &= \\sigma'(w^T x) x \\\\\n",
        "\\sigma'(a) &= \\sigma(a) * (1-\\sigma(a)) \n",
        "\\end{align}\n",
        "$$"
      ]
    },
    {
      "cell_type": "code",
      "metadata": {
        "colab": {
          "base_uri": "https://localhost:8080/"
        },
        "id": "BUdB_cxvBzfq",
        "outputId": "691aef04-1a2b-4db7-9956-0667c8a37fda"
      },
      "source": [
        "w=np.random.normal(size=(4,))\n",
        "x=np.random.normal(size=(4,))\n",
        "\n",
        "def sigmoid(x):\n",
        "  return 0.5*(jnp.tanh(x/2.)+1)\n",
        "\n",
        "def predict(w):\n",
        "  return sigmoid(jnp.dot(w,x))\n",
        "\n",
        "def manual_grad(w):\n",
        "  return predict(w)*(1-predict(w))*x\n",
        "\n",
        "grad_func=grad(predict)\n",
        "\n",
        "print(manual_grad(w))\n",
        "print(grad_func(w))"
      ],
      "execution_count": 10,
      "outputs": [
        {
          "output_type": "stream",
          "text": [
            "[-0.11396899 -0.03377072 -0.15911563 -0.02907482]\n",
            "[-0.11396901 -0.03377072 -0.15911564 -0.02907482]\n"
          ],
          "name": "stdout"
        }
      ]
    },
    {
      "cell_type": "markdown",
      "metadata": {
        "id": "QYK3zgTvDN5j"
      },
      "source": [
        "## Auxiliary return values\n",
        "\n",
        "A function can return its value and other auxiliary results; the latter are not differentiated. "
      ]
    },
    {
      "cell_type": "code",
      "metadata": {
        "colab": {
          "base_uri": "https://localhost:8080/"
        },
        "id": "nLto132nDJ7p",
        "outputId": "d81eb356-7595-4c2c-adc6-2df00e9a01cd"
      },
      "source": [
        "def f(x,y):\n",
        "  return x**2+y,10\n",
        "\n",
        "(v,aux),g=jax.value_and_grad(f,argnums=(0,1),has_aux=True)(2.,3.)\n",
        "\n",
        "print(v)\n",
        "print(aux)\n",
        "print(g)"
      ],
      "execution_count": 20,
      "outputs": [
        {
          "output_type": "stream",
          "text": [
            "7.0\n",
            "10\n",
            "(DeviceArray(4., dtype=float32), DeviceArray(1., dtype=float32))\n"
          ],
          "name": "stdout"
        }
      ]
    },
    {
      "cell_type": "markdown",
      "metadata": {
        "id": "R1nFbPweEiuW"
      },
      "source": [
        "## Hessians\n",
        "\n",
        "Quadratic form.\n",
        "\n",
        "$$\n",
        "\\begin{align}\n",
        "f(x;A) &= x^T A x \\\\\n",
        "\\nabla_x^2 f(x;A) &= A + A^T\n",
        "\\end{align}\n",
        "$$"
      ]
    },
    {
      "cell_type": "code",
      "metadata": {
        "colab": {
          "base_uri": "https://localhost:8080/"
        },
        "id": "-y6eP9J5EPqp",
        "outputId": "f0ebcab6-b386-46e6-e96e-eb10b27b2a72"
      },
      "source": [
        "A=np.random.normal(size=(4,4))\n",
        "x=np.random.normal(size=(4,))\n",
        "\n",
        "quadf=lambda x:jnp.dot(x,jnp.dot(A,x))\n",
        "\n",
        "H1=jax.hessian(quadf)(x)\n",
        "print(H1)"
      ],
      "execution_count": 26,
      "outputs": [
        {
          "output_type": "stream",
          "text": [
            "[[ 0.7337661   1.6624374  -1.4648564  -0.9050964 ]\n",
            " [ 1.6624374   2.4105172  -0.8766815   1.2136827 ]\n",
            " [-1.4648564  -0.8766815  -0.81671137  2.049275  ]\n",
            " [-0.9050964   1.2136827   2.049275    2.783538  ]]\n"
          ],
          "name": "stdout"
        }
      ]
    },
    {
      "cell_type": "code",
      "metadata": {
        "id": "y6h-RnFFEyVD"
      },
      "source": [
        "from jax import jacfwd,jacrev\n",
        "\n",
        "def my_hessian(f):\n",
        "  return jacfwd(jacrev(f))\n",
        "\n",
        "H2=my_hessian(quadf)(x)\n",
        "\n",
        "assert np.allclose(H1,A+A.T)\n",
        "assert np.allclose(H1,H2)"
      ],
      "execution_count": 27,
      "outputs": []
    },
    {
      "cell_type": "code",
      "metadata": {
        "colab": {
          "base_uri": "https://localhost:8080/"
        },
        "id": "fufxesDVG8JP",
        "outputId": "f1e0f763-71f6-49ac-a694-b77e91ef9b7d"
      },
      "source": [
        "@jax.jit\n",
        "def loss(w,x):\n",
        "  return jnp.dot(w,x)\n",
        "\n",
        "w=jnp.ones((3,))\n",
        "x1=jnp.array([1.,2.,3.])\n",
        "x2=2*x1\n",
        "batched_x=jnp.stack([x1,x2])\n",
        "\n",
        "print('x:',batched_x)\n",
        "print('x shape:',batched_x.shape)  "
      ],
      "execution_count": 33,
      "outputs": [
        {
          "output_type": "stream",
          "text": [
            "x: [[1. 2. 3.]\n",
            " [2. 4. 6.]]\n",
            "x shape: (2, 3)\n"
          ],
          "name": "stdout"
        }
      ]
    },
    {
      "cell_type": "code",
      "metadata": {
        "colab": {
          "base_uri": "https://localhost:8080/"
        },
        "id": "eW_inwX8HJvZ",
        "outputId": "40f6a218-3c00-43fa-e1a3-ff1c3480a493"
      },
      "source": [
        "grad_func=vmap(grad(loss),in_axes=(None,0))\n",
        "print(grad_func(w,batched_x))"
      ],
      "execution_count": 35,
      "outputs": [
        {
          "output_type": "stream",
          "text": [
            "[[1. 2. 3.]\n",
            " [2. 4. 6.]]\n"
          ],
          "name": "stdout"
        }
      ]
    },
    {
      "cell_type": "markdown",
      "metadata": {
        "id": "OcwylEtgZRyT"
      },
      "source": [
        "##Just In Time Compilation with JAX"
      ]
    },
    {
      "cell_type": "markdown",
      "metadata": {
        "id": "QE4lUigBX_2W"
      },
      "source": [
        "When a function is first executed (applied to an argument), it is converted to an intermediate representatio called a JAX expression or jaxpr, by a process called tracing.\n",
        "\n",
        "The XLA JIT compiler can then convert the jaxpr to code that runs fast on a CPU, GPU or TPU; the original python code is no longer needed.\n",
        "\n",
        "However, the jaxpr is created by tracing the function for a specific value. If different code is executed depending on the value of the input arguments, the resulting jaxpr will be different, so the function cannot be JITed."
      ]
    },
    {
      "cell_type": "markdown",
      "metadata": {
        "id": "GFG1KlsiYkSX"
      },
      "source": [
        "Note that JIT compilation requires that the control flow through the function  can be determined by the shape (but not concrete value) of its inputs. The function below violates this, since when x<0, it takes one branch, whereas when x>0, it takes the other.\n",
        "\n",
        "We can fix this by telling JAX to trace the control flow through the function using concrete values of some of its arguments. JAX will then compile different versions, depending on the input values."
      ]
    },
    {
      "cell_type": "markdown",
      "metadata": {
        "id": "6c7t2DacZMu-"
      },
      "source": [
        "Unfortunately, the static argnum method fails when the function is passed to  vmap, because the latter can take arguments of different shape."
      ]
    },
    {
      "cell_type": "code",
      "metadata": {
        "colab": {
          "base_uri": "https://localhost:8080/"
        },
        "id": "OMWtvVmBIN1z",
        "outputId": "47581875-af4c-4e08-d363-b08168fd8f9c"
      },
      "source": [
        "from jax import jit\n",
        "\n",
        "def f(x):\n",
        "  if x>0:\n",
        "    return x\n",
        "  else:\n",
        "    return 2*x \n",
        "\n",
        "f=jit(f,static_argnums=(0))\n",
        "print(f(3))"
      ],
      "execution_count": 39,
      "outputs": [
        {
          "output_type": "stream",
          "text": [
            "3\n"
          ],
          "name": "stdout"
        }
      ]
    },
    {
      "cell_type": "code",
      "metadata": {
        "colab": {
          "base_uri": "https://localhost:8080/"
        },
        "id": "73GdPbRGY395",
        "outputId": "91d62112-acfa-4f79-f3b8-a97af50f9485"
      },
      "source": [
        "x=[1,{'k1':2,'k3':(3,4)},5]\n",
        "leaves,foo=jax.tree_util.tree_flatten(x)\n",
        "print(leaves)\n",
        "print(foo)"
      ],
      "execution_count": 42,
      "outputs": [
        {
          "output_type": "stream",
          "text": [
            "[1, 2, 3, 4, 5]\n",
            "PyTreeDef([*, {'k1': *, 'k3': (*, *)}, *])\n"
          ],
          "name": "stdout"
        }
      ]
    },
    {
      "cell_type": "code",
      "metadata": {
        "colab": {
          "base_uri": "https://localhost:8080/"
        },
        "id": "G8Jh84uWaCcT",
        "outputId": "7544e48c-c46d-473a-eac2-1da436d4c4a7"
      },
      "source": [
        "from jax.ops import index,index_add,index_update\n",
        "\n",
        "x1=jnp.ones((3,3))\n",
        "x2=index_update(x1,index[1,:],7.0)  #x1[1:]=7.0\n",
        "\n",
        "print('original array:')\n",
        "print(x1)\n",
        "\n",
        "print('new array:')\n",
        "print(x2)"
      ],
      "execution_count": 46,
      "outputs": [
        {
          "output_type": "stream",
          "text": [
            "original array:\n",
            "[[1. 1. 1.]\n",
            " [1. 1. 1.]\n",
            " [1. 1. 1.]]\n",
            "new array:\n",
            "[[1. 1. 1.]\n",
            " [7. 7. 7.]\n",
            " [1. 1. 1.]]\n"
          ],
          "name": "stdout"
        }
      ]
    },
    {
      "cell_type": "code",
      "metadata": {
        "colab": {
          "base_uri": "https://localhost:8080/"
        },
        "id": "90r3FA2ja32o",
        "outputId": "78df8731-f7ab-4c67-c58e-ddb1b1095bab"
      },
      "source": [
        "x3=x1.at[1,:].set(10.0)\n",
        "print(x3)"
      ],
      "execution_count": 50,
      "outputs": [
        {
          "output_type": "stream",
          "text": [
            "[[ 1.  1.  1.]\n",
            " [10. 10. 10.]\n",
            " [ 1.  1.  1.]]\n"
          ],
          "name": "stdout"
        }
      ]
    },
    {
      "cell_type": "markdown",
      "metadata": {
        "id": "XXyDtCnbblUb"
      },
      "source": [
        "## Implicitly casting lists to vectors\n",
        "\n",
        "You cannot treat a list of numbers as a vector. Instead you must explicitly create the vector using the np.array() constructor.\n"
      ]
    },
    {
      "cell_type": "code",
      "metadata": {
        "colab": {
          "base_uri": "https://localhost:8080/"
        },
        "id": "p_98lXyAbR3A",
        "outputId": "27e52eed-b59a-4781-a0cb-3b75650eb1f4"
      },
      "source": [
        "x=jnp.sum(jnp.array([1,2,3]))\n",
        "print(x)"
      ],
      "execution_count": 53,
      "outputs": [
        {
          "output_type": "stream",
          "text": [
            "6\n"
          ],
          "name": "stdout"
        }
      ]
    }
  ]
}
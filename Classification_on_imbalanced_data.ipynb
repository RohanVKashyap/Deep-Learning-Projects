{
  "nbformat": 4,
  "nbformat_minor": 0,
  "metadata": {
    "colab": {
      "name": "Classification on imbalanced data.ipynb",
      "provenance": [],
      "collapsed_sections": []
    },
    "kernelspec": {
      "name": "python3",
      "display_name": "Python 3"
    }
  },
  "cells": [
    {
      "cell_type": "code",
      "metadata": {
        "id": "nbtKzfIY_Zht"
      },
      "source": [
        "import tensorflow as tf\n",
        "import os\n",
        "import tempfile\n",
        "\n",
        "import matplotlib as mpl\n",
        "import matplotlib.pyplot as plt\n",
        "import numpy as np\n",
        "import pandas as pd\n",
        "import seaborn as sns\n",
        "\n",
        "import sklearn\n",
        "from sklearn.metrics import confusion_matrix\n",
        "from sklearn.model_selection import train_test_split\n",
        "from sklearn.preprocessing import StandardScaler"
      ],
      "execution_count": 3,
      "outputs": []
    },
    {
      "cell_type": "code",
      "metadata": {
        "id": "SIRQD5OXACuL"
      },
      "source": [
        "mpl.rcParams['figure.figsize']=(12,10)\n",
        "colors=plt.rcParams['axes.prop_cycle'].by_key()['color']"
      ],
      "execution_count": 4,
      "outputs": []
    },
    {
      "cell_type": "code",
      "metadata": {
        "id": "RRhp3fOpAlxI"
      },
      "source": [
        "df=pd.read_csv('https://storage.googleapis.com/download.tensorflow.org/data/creditcard.csv')"
      ],
      "execution_count": 7,
      "outputs": []
    },
    {
      "cell_type": "code",
      "metadata": {
        "id": "7ExRnWRBBd1F",
        "outputId": "41eb6766-dedb-4955-e67f-0503116fed5f",
        "colab": {
          "base_uri": "https://localhost:8080/",
          "height": 222
        }
      },
      "source": [
        "df.head()"
      ],
      "execution_count": 8,
      "outputs": [
        {
          "output_type": "execute_result",
          "data": {
            "text/html": [
              "<div>\n",
              "<style scoped>\n",
              "    .dataframe tbody tr th:only-of-type {\n",
              "        vertical-align: middle;\n",
              "    }\n",
              "\n",
              "    .dataframe tbody tr th {\n",
              "        vertical-align: top;\n",
              "    }\n",
              "\n",
              "    .dataframe thead th {\n",
              "        text-align: right;\n",
              "    }\n",
              "</style>\n",
              "<table border=\"1\" class=\"dataframe\">\n",
              "  <thead>\n",
              "    <tr style=\"text-align: right;\">\n",
              "      <th></th>\n",
              "      <th>Time</th>\n",
              "      <th>V1</th>\n",
              "      <th>V2</th>\n",
              "      <th>V3</th>\n",
              "      <th>V4</th>\n",
              "      <th>V5</th>\n",
              "      <th>V6</th>\n",
              "      <th>V7</th>\n",
              "      <th>V8</th>\n",
              "      <th>V9</th>\n",
              "      <th>V10</th>\n",
              "      <th>V11</th>\n",
              "      <th>V12</th>\n",
              "      <th>V13</th>\n",
              "      <th>V14</th>\n",
              "      <th>V15</th>\n",
              "      <th>V16</th>\n",
              "      <th>V17</th>\n",
              "      <th>V18</th>\n",
              "      <th>V19</th>\n",
              "      <th>V20</th>\n",
              "      <th>V21</th>\n",
              "      <th>V22</th>\n",
              "      <th>V23</th>\n",
              "      <th>V24</th>\n",
              "      <th>V25</th>\n",
              "      <th>V26</th>\n",
              "      <th>V27</th>\n",
              "      <th>V28</th>\n",
              "      <th>Amount</th>\n",
              "      <th>Class</th>\n",
              "    </tr>\n",
              "  </thead>\n",
              "  <tbody>\n",
              "    <tr>\n",
              "      <th>0</th>\n",
              "      <td>0.0</td>\n",
              "      <td>-1.359807</td>\n",
              "      <td>-0.072781</td>\n",
              "      <td>2.536347</td>\n",
              "      <td>1.378155</td>\n",
              "      <td>-0.338321</td>\n",
              "      <td>0.462388</td>\n",
              "      <td>0.239599</td>\n",
              "      <td>0.098698</td>\n",
              "      <td>0.363787</td>\n",
              "      <td>0.090794</td>\n",
              "      <td>-0.551600</td>\n",
              "      <td>-0.617801</td>\n",
              "      <td>-0.991390</td>\n",
              "      <td>-0.311169</td>\n",
              "      <td>1.468177</td>\n",
              "      <td>-0.470401</td>\n",
              "      <td>0.207971</td>\n",
              "      <td>0.025791</td>\n",
              "      <td>0.403993</td>\n",
              "      <td>0.251412</td>\n",
              "      <td>-0.018307</td>\n",
              "      <td>0.277838</td>\n",
              "      <td>-0.110474</td>\n",
              "      <td>0.066928</td>\n",
              "      <td>0.128539</td>\n",
              "      <td>-0.189115</td>\n",
              "      <td>0.133558</td>\n",
              "      <td>-0.021053</td>\n",
              "      <td>149.62</td>\n",
              "      <td>0</td>\n",
              "    </tr>\n",
              "    <tr>\n",
              "      <th>1</th>\n",
              "      <td>0.0</td>\n",
              "      <td>1.191857</td>\n",
              "      <td>0.266151</td>\n",
              "      <td>0.166480</td>\n",
              "      <td>0.448154</td>\n",
              "      <td>0.060018</td>\n",
              "      <td>-0.082361</td>\n",
              "      <td>-0.078803</td>\n",
              "      <td>0.085102</td>\n",
              "      <td>-0.255425</td>\n",
              "      <td>-0.166974</td>\n",
              "      <td>1.612727</td>\n",
              "      <td>1.065235</td>\n",
              "      <td>0.489095</td>\n",
              "      <td>-0.143772</td>\n",
              "      <td>0.635558</td>\n",
              "      <td>0.463917</td>\n",
              "      <td>-0.114805</td>\n",
              "      <td>-0.183361</td>\n",
              "      <td>-0.145783</td>\n",
              "      <td>-0.069083</td>\n",
              "      <td>-0.225775</td>\n",
              "      <td>-0.638672</td>\n",
              "      <td>0.101288</td>\n",
              "      <td>-0.339846</td>\n",
              "      <td>0.167170</td>\n",
              "      <td>0.125895</td>\n",
              "      <td>-0.008983</td>\n",
              "      <td>0.014724</td>\n",
              "      <td>2.69</td>\n",
              "      <td>0</td>\n",
              "    </tr>\n",
              "    <tr>\n",
              "      <th>2</th>\n",
              "      <td>1.0</td>\n",
              "      <td>-1.358354</td>\n",
              "      <td>-1.340163</td>\n",
              "      <td>1.773209</td>\n",
              "      <td>0.379780</td>\n",
              "      <td>-0.503198</td>\n",
              "      <td>1.800499</td>\n",
              "      <td>0.791461</td>\n",
              "      <td>0.247676</td>\n",
              "      <td>-1.514654</td>\n",
              "      <td>0.207643</td>\n",
              "      <td>0.624501</td>\n",
              "      <td>0.066084</td>\n",
              "      <td>0.717293</td>\n",
              "      <td>-0.165946</td>\n",
              "      <td>2.345865</td>\n",
              "      <td>-2.890083</td>\n",
              "      <td>1.109969</td>\n",
              "      <td>-0.121359</td>\n",
              "      <td>-2.261857</td>\n",
              "      <td>0.524980</td>\n",
              "      <td>0.247998</td>\n",
              "      <td>0.771679</td>\n",
              "      <td>0.909412</td>\n",
              "      <td>-0.689281</td>\n",
              "      <td>-0.327642</td>\n",
              "      <td>-0.139097</td>\n",
              "      <td>-0.055353</td>\n",
              "      <td>-0.059752</td>\n",
              "      <td>378.66</td>\n",
              "      <td>0</td>\n",
              "    </tr>\n",
              "    <tr>\n",
              "      <th>3</th>\n",
              "      <td>1.0</td>\n",
              "      <td>-0.966272</td>\n",
              "      <td>-0.185226</td>\n",
              "      <td>1.792993</td>\n",
              "      <td>-0.863291</td>\n",
              "      <td>-0.010309</td>\n",
              "      <td>1.247203</td>\n",
              "      <td>0.237609</td>\n",
              "      <td>0.377436</td>\n",
              "      <td>-1.387024</td>\n",
              "      <td>-0.054952</td>\n",
              "      <td>-0.226487</td>\n",
              "      <td>0.178228</td>\n",
              "      <td>0.507757</td>\n",
              "      <td>-0.287924</td>\n",
              "      <td>-0.631418</td>\n",
              "      <td>-1.059647</td>\n",
              "      <td>-0.684093</td>\n",
              "      <td>1.965775</td>\n",
              "      <td>-1.232622</td>\n",
              "      <td>-0.208038</td>\n",
              "      <td>-0.108300</td>\n",
              "      <td>0.005274</td>\n",
              "      <td>-0.190321</td>\n",
              "      <td>-1.175575</td>\n",
              "      <td>0.647376</td>\n",
              "      <td>-0.221929</td>\n",
              "      <td>0.062723</td>\n",
              "      <td>0.061458</td>\n",
              "      <td>123.50</td>\n",
              "      <td>0</td>\n",
              "    </tr>\n",
              "    <tr>\n",
              "      <th>4</th>\n",
              "      <td>2.0</td>\n",
              "      <td>-1.158233</td>\n",
              "      <td>0.877737</td>\n",
              "      <td>1.548718</td>\n",
              "      <td>0.403034</td>\n",
              "      <td>-0.407193</td>\n",
              "      <td>0.095921</td>\n",
              "      <td>0.592941</td>\n",
              "      <td>-0.270533</td>\n",
              "      <td>0.817739</td>\n",
              "      <td>0.753074</td>\n",
              "      <td>-0.822843</td>\n",
              "      <td>0.538196</td>\n",
              "      <td>1.345852</td>\n",
              "      <td>-1.119670</td>\n",
              "      <td>0.175121</td>\n",
              "      <td>-0.451449</td>\n",
              "      <td>-0.237033</td>\n",
              "      <td>-0.038195</td>\n",
              "      <td>0.803487</td>\n",
              "      <td>0.408542</td>\n",
              "      <td>-0.009431</td>\n",
              "      <td>0.798278</td>\n",
              "      <td>-0.137458</td>\n",
              "      <td>0.141267</td>\n",
              "      <td>-0.206010</td>\n",
              "      <td>0.502292</td>\n",
              "      <td>0.219422</td>\n",
              "      <td>0.215153</td>\n",
              "      <td>69.99</td>\n",
              "      <td>0</td>\n",
              "    </tr>\n",
              "  </tbody>\n",
              "</table>\n",
              "</div>"
            ],
            "text/plain": [
              "   Time        V1        V2        V3  ...       V27       V28  Amount  Class\n",
              "0   0.0 -1.359807 -0.072781  2.536347  ...  0.133558 -0.021053  149.62      0\n",
              "1   0.0  1.191857  0.266151  0.166480  ... -0.008983  0.014724    2.69      0\n",
              "2   1.0 -1.358354 -1.340163  1.773209  ... -0.055353 -0.059752  378.66      0\n",
              "3   1.0 -0.966272 -0.185226  1.792993  ...  0.062723  0.061458  123.50      0\n",
              "4   2.0 -1.158233  0.877737  1.548718  ...  0.219422  0.215153   69.99      0\n",
              "\n",
              "[5 rows x 31 columns]"
            ]
          },
          "metadata": {
            "tags": []
          },
          "execution_count": 8
        }
      ]
    },
    {
      "cell_type": "code",
      "metadata": {
        "id": "iB_LlVHZBkQV",
        "outputId": "583d5afc-314c-4a6f-d373-0f1de5189177",
        "colab": {
          "base_uri": "https://localhost:8080/",
          "height": 35
        }
      },
      "source": [
        "print(df.shape)"
      ],
      "execution_count": 14,
      "outputs": [
        {
          "output_type": "stream",
          "text": [
            "(284807, 31)\n"
          ],
          "name": "stdout"
        }
      ]
    },
    {
      "cell_type": "code",
      "metadata": {
        "id": "uwAQ7BF6Pain",
        "outputId": "427980a7-aada-4318-f015-baae716c8fa8",
        "colab": {
          "base_uri": "https://localhost:8080/",
          "height": 104
        }
      },
      "source": [
        "df.columns"
      ],
      "execution_count": 45,
      "outputs": [
        {
          "output_type": "execute_result",
          "data": {
            "text/plain": [
              "Index(['Time', 'V1', 'V2', 'V3', 'V4', 'V5', 'V6', 'V7', 'V8', 'V9', 'V10',\n",
              "       'V11', 'V12', 'V13', 'V14', 'V15', 'V16', 'V17', 'V18', 'V19', 'V20',\n",
              "       'V21', 'V22', 'V23', 'V24', 'V25', 'V26', 'V27', 'V28', 'Amount',\n",
              "       'Class'],\n",
              "      dtype='object')"
            ]
          },
          "metadata": {
            "tags": []
          },
          "execution_count": 45
        }
      ]
    },
    {
      "cell_type": "code",
      "metadata": {
        "id": "My4Tb7eXBvhG",
        "outputId": "5b9d57e5-a642-4f9f-c3aa-512338fc3a20",
        "colab": {
          "base_uri": "https://localhost:8080/",
          "height": 69
        }
      },
      "source": [
        "print(df['Class'].value_counts())"
      ],
      "execution_count": 15,
      "outputs": [
        {
          "output_type": "stream",
          "text": [
            "0    284315\n",
            "1       492\n",
            "Name: Class, dtype: int64\n"
          ],
          "name": "stdout"
        }
      ]
    },
    {
      "cell_type": "code",
      "metadata": {
        "id": "eP1zLr50BzHe",
        "outputId": "f976b7bd-289d-4e1c-f88a-65f242d3e347",
        "colab": {
          "base_uri": "https://localhost:8080/",
          "height": 294
        }
      },
      "source": [
        "df[['V1','V2','V3','V4','V5','V26','V27','V28']].describe()"
      ],
      "execution_count": 16,
      "outputs": [
        {
          "output_type": "execute_result",
          "data": {
            "text/html": [
              "<div>\n",
              "<style scoped>\n",
              "    .dataframe tbody tr th:only-of-type {\n",
              "        vertical-align: middle;\n",
              "    }\n",
              "\n",
              "    .dataframe tbody tr th {\n",
              "        vertical-align: top;\n",
              "    }\n",
              "\n",
              "    .dataframe thead th {\n",
              "        text-align: right;\n",
              "    }\n",
              "</style>\n",
              "<table border=\"1\" class=\"dataframe\">\n",
              "  <thead>\n",
              "    <tr style=\"text-align: right;\">\n",
              "      <th></th>\n",
              "      <th>V1</th>\n",
              "      <th>V2</th>\n",
              "      <th>V3</th>\n",
              "      <th>V4</th>\n",
              "      <th>V5</th>\n",
              "      <th>V26</th>\n",
              "      <th>V27</th>\n",
              "      <th>V28</th>\n",
              "    </tr>\n",
              "  </thead>\n",
              "  <tbody>\n",
              "    <tr>\n",
              "      <th>count</th>\n",
              "      <td>2.848070e+05</td>\n",
              "      <td>2.848070e+05</td>\n",
              "      <td>2.848070e+05</td>\n",
              "      <td>2.848070e+05</td>\n",
              "      <td>2.848070e+05</td>\n",
              "      <td>2.848070e+05</td>\n",
              "      <td>2.848070e+05</td>\n",
              "      <td>2.848070e+05</td>\n",
              "    </tr>\n",
              "    <tr>\n",
              "      <th>mean</th>\n",
              "      <td>3.919560e-15</td>\n",
              "      <td>5.688174e-16</td>\n",
              "      <td>-8.769071e-15</td>\n",
              "      <td>2.782312e-15</td>\n",
              "      <td>-1.552563e-15</td>\n",
              "      <td>1.699104e-15</td>\n",
              "      <td>-3.660161e-16</td>\n",
              "      <td>-1.206049e-16</td>\n",
              "    </tr>\n",
              "    <tr>\n",
              "      <th>std</th>\n",
              "      <td>1.958696e+00</td>\n",
              "      <td>1.651309e+00</td>\n",
              "      <td>1.516255e+00</td>\n",
              "      <td>1.415869e+00</td>\n",
              "      <td>1.380247e+00</td>\n",
              "      <td>4.822270e-01</td>\n",
              "      <td>4.036325e-01</td>\n",
              "      <td>3.300833e-01</td>\n",
              "    </tr>\n",
              "    <tr>\n",
              "      <th>min</th>\n",
              "      <td>-5.640751e+01</td>\n",
              "      <td>-7.271573e+01</td>\n",
              "      <td>-4.832559e+01</td>\n",
              "      <td>-5.683171e+00</td>\n",
              "      <td>-1.137433e+02</td>\n",
              "      <td>-2.604551e+00</td>\n",
              "      <td>-2.256568e+01</td>\n",
              "      <td>-1.543008e+01</td>\n",
              "    </tr>\n",
              "    <tr>\n",
              "      <th>25%</th>\n",
              "      <td>-9.203734e-01</td>\n",
              "      <td>-5.985499e-01</td>\n",
              "      <td>-8.903648e-01</td>\n",
              "      <td>-8.486401e-01</td>\n",
              "      <td>-6.915971e-01</td>\n",
              "      <td>-3.269839e-01</td>\n",
              "      <td>-7.083953e-02</td>\n",
              "      <td>-5.295979e-02</td>\n",
              "    </tr>\n",
              "    <tr>\n",
              "      <th>50%</th>\n",
              "      <td>1.810880e-02</td>\n",
              "      <td>6.548556e-02</td>\n",
              "      <td>1.798463e-01</td>\n",
              "      <td>-1.984653e-02</td>\n",
              "      <td>-5.433583e-02</td>\n",
              "      <td>-5.213911e-02</td>\n",
              "      <td>1.342146e-03</td>\n",
              "      <td>1.124383e-02</td>\n",
              "    </tr>\n",
              "    <tr>\n",
              "      <th>75%</th>\n",
              "      <td>1.315642e+00</td>\n",
              "      <td>8.037239e-01</td>\n",
              "      <td>1.027196e+00</td>\n",
              "      <td>7.433413e-01</td>\n",
              "      <td>6.119264e-01</td>\n",
              "      <td>2.409522e-01</td>\n",
              "      <td>9.104512e-02</td>\n",
              "      <td>7.827995e-02</td>\n",
              "    </tr>\n",
              "    <tr>\n",
              "      <th>max</th>\n",
              "      <td>2.454930e+00</td>\n",
              "      <td>2.205773e+01</td>\n",
              "      <td>9.382558e+00</td>\n",
              "      <td>1.687534e+01</td>\n",
              "      <td>3.480167e+01</td>\n",
              "      <td>3.517346e+00</td>\n",
              "      <td>3.161220e+01</td>\n",
              "      <td>3.384781e+01</td>\n",
              "    </tr>\n",
              "  </tbody>\n",
              "</table>\n",
              "</div>"
            ],
            "text/plain": [
              "                 V1            V2  ...           V27           V28\n",
              "count  2.848070e+05  2.848070e+05  ...  2.848070e+05  2.848070e+05\n",
              "mean   3.919560e-15  5.688174e-16  ... -3.660161e-16 -1.206049e-16\n",
              "std    1.958696e+00  1.651309e+00  ...  4.036325e-01  3.300833e-01\n",
              "min   -5.640751e+01 -7.271573e+01  ... -2.256568e+01 -1.543008e+01\n",
              "25%   -9.203734e-01 -5.985499e-01  ... -7.083953e-02 -5.295979e-02\n",
              "50%    1.810880e-02  6.548556e-02  ...  1.342146e-03  1.124383e-02\n",
              "75%    1.315642e+00  8.037239e-01  ...  9.104512e-02  7.827995e-02\n",
              "max    2.454930e+00  2.205773e+01  ...  3.161220e+01  3.384781e+01\n",
              "\n",
              "[8 rows x 8 columns]"
            ]
          },
          "metadata": {
            "tags": []
          },
          "execution_count": 16
        }
      ]
    },
    {
      "cell_type": "code",
      "metadata": {
        "id": "u0SYB1tECYtP",
        "outputId": "2f875a64-f632-4fd5-9f52-bf60342fddeb",
        "colab": {
          "base_uri": "https://localhost:8080/",
          "height": 52
        }
      },
      "source": [
        "#neg(0),pos(1 is fraud)\n",
        "neg,pos=np.bincount(df['Class'])\n",
        "total=neg+pos\n",
        "print('Total: {}\\nPositive: {}({:.2f} of total)'\n",
        "      .format(total,pos,(100*pos/total)))"
      ],
      "execution_count": 23,
      "outputs": [
        {
          "output_type": "stream",
          "text": [
            "Total: 284807\n",
            "Positive: 492(0.17 of total)\n"
          ],
          "name": "stdout"
        }
      ]
    },
    {
      "cell_type": "code",
      "metadata": {
        "id": "yIHInPM7Cq63"
      },
      "source": [
        "cleaned_df=df.copy()\n",
        "cleaned_df.pop('Time')"
      ],
      "execution_count": null,
      "outputs": []
    },
    {
      "cell_type": "code",
      "metadata": {
        "id": "mPVOO8KNKOHq",
        "outputId": "431001bc-2f24-4f30-ebdf-107b8174531a",
        "colab": {
          "base_uri": "https://localhost:8080/",
          "height": 239
        }
      },
      "source": [
        "eps=0.001\n",
        "cleaned_df['Log Amount']=np.log(cleaned_df.pop('Amount')+eps)\n",
        "cleaned_df.head()"
      ],
      "execution_count": 26,
      "outputs": [
        {
          "output_type": "execute_result",
          "data": {
            "text/html": [
              "<div>\n",
              "<style scoped>\n",
              "    .dataframe tbody tr th:only-of-type {\n",
              "        vertical-align: middle;\n",
              "    }\n",
              "\n",
              "    .dataframe tbody tr th {\n",
              "        vertical-align: top;\n",
              "    }\n",
              "\n",
              "    .dataframe thead th {\n",
              "        text-align: right;\n",
              "    }\n",
              "</style>\n",
              "<table border=\"1\" class=\"dataframe\">\n",
              "  <thead>\n",
              "    <tr style=\"text-align: right;\">\n",
              "      <th></th>\n",
              "      <th>V1</th>\n",
              "      <th>V2</th>\n",
              "      <th>V3</th>\n",
              "      <th>V4</th>\n",
              "      <th>V5</th>\n",
              "      <th>V6</th>\n",
              "      <th>V7</th>\n",
              "      <th>V8</th>\n",
              "      <th>V9</th>\n",
              "      <th>V10</th>\n",
              "      <th>V11</th>\n",
              "      <th>V12</th>\n",
              "      <th>V13</th>\n",
              "      <th>V14</th>\n",
              "      <th>V15</th>\n",
              "      <th>V16</th>\n",
              "      <th>V17</th>\n",
              "      <th>V18</th>\n",
              "      <th>V19</th>\n",
              "      <th>V20</th>\n",
              "      <th>V21</th>\n",
              "      <th>V22</th>\n",
              "      <th>V23</th>\n",
              "      <th>V24</th>\n",
              "      <th>V25</th>\n",
              "      <th>V26</th>\n",
              "      <th>V27</th>\n",
              "      <th>V28</th>\n",
              "      <th>Class</th>\n",
              "      <th>Log Amount</th>\n",
              "    </tr>\n",
              "  </thead>\n",
              "  <tbody>\n",
              "    <tr>\n",
              "      <th>0</th>\n",
              "      <td>-1.359807</td>\n",
              "      <td>-0.072781</td>\n",
              "      <td>2.536347</td>\n",
              "      <td>1.378155</td>\n",
              "      <td>-0.338321</td>\n",
              "      <td>0.462388</td>\n",
              "      <td>0.239599</td>\n",
              "      <td>0.098698</td>\n",
              "      <td>0.363787</td>\n",
              "      <td>0.090794</td>\n",
              "      <td>-0.551600</td>\n",
              "      <td>-0.617801</td>\n",
              "      <td>-0.991390</td>\n",
              "      <td>-0.311169</td>\n",
              "      <td>1.468177</td>\n",
              "      <td>-0.470401</td>\n",
              "      <td>0.207971</td>\n",
              "      <td>0.025791</td>\n",
              "      <td>0.403993</td>\n",
              "      <td>0.251412</td>\n",
              "      <td>-0.018307</td>\n",
              "      <td>0.277838</td>\n",
              "      <td>-0.110474</td>\n",
              "      <td>0.066928</td>\n",
              "      <td>0.128539</td>\n",
              "      <td>-0.189115</td>\n",
              "      <td>0.133558</td>\n",
              "      <td>-0.021053</td>\n",
              "      <td>0</td>\n",
              "      <td>5.008105</td>\n",
              "    </tr>\n",
              "    <tr>\n",
              "      <th>1</th>\n",
              "      <td>1.191857</td>\n",
              "      <td>0.266151</td>\n",
              "      <td>0.166480</td>\n",
              "      <td>0.448154</td>\n",
              "      <td>0.060018</td>\n",
              "      <td>-0.082361</td>\n",
              "      <td>-0.078803</td>\n",
              "      <td>0.085102</td>\n",
              "      <td>-0.255425</td>\n",
              "      <td>-0.166974</td>\n",
              "      <td>1.612727</td>\n",
              "      <td>1.065235</td>\n",
              "      <td>0.489095</td>\n",
              "      <td>-0.143772</td>\n",
              "      <td>0.635558</td>\n",
              "      <td>0.463917</td>\n",
              "      <td>-0.114805</td>\n",
              "      <td>-0.183361</td>\n",
              "      <td>-0.145783</td>\n",
              "      <td>-0.069083</td>\n",
              "      <td>-0.225775</td>\n",
              "      <td>-0.638672</td>\n",
              "      <td>0.101288</td>\n",
              "      <td>-0.339846</td>\n",
              "      <td>0.167170</td>\n",
              "      <td>0.125895</td>\n",
              "      <td>-0.008983</td>\n",
              "      <td>0.014724</td>\n",
              "      <td>0</td>\n",
              "      <td>0.989913</td>\n",
              "    </tr>\n",
              "    <tr>\n",
              "      <th>2</th>\n",
              "      <td>-1.358354</td>\n",
              "      <td>-1.340163</td>\n",
              "      <td>1.773209</td>\n",
              "      <td>0.379780</td>\n",
              "      <td>-0.503198</td>\n",
              "      <td>1.800499</td>\n",
              "      <td>0.791461</td>\n",
              "      <td>0.247676</td>\n",
              "      <td>-1.514654</td>\n",
              "      <td>0.207643</td>\n",
              "      <td>0.624501</td>\n",
              "      <td>0.066084</td>\n",
              "      <td>0.717293</td>\n",
              "      <td>-0.165946</td>\n",
              "      <td>2.345865</td>\n",
              "      <td>-2.890083</td>\n",
              "      <td>1.109969</td>\n",
              "      <td>-0.121359</td>\n",
              "      <td>-2.261857</td>\n",
              "      <td>0.524980</td>\n",
              "      <td>0.247998</td>\n",
              "      <td>0.771679</td>\n",
              "      <td>0.909412</td>\n",
              "      <td>-0.689281</td>\n",
              "      <td>-0.327642</td>\n",
              "      <td>-0.139097</td>\n",
              "      <td>-0.055353</td>\n",
              "      <td>-0.059752</td>\n",
              "      <td>0</td>\n",
              "      <td>5.936641</td>\n",
              "    </tr>\n",
              "    <tr>\n",
              "      <th>3</th>\n",
              "      <td>-0.966272</td>\n",
              "      <td>-0.185226</td>\n",
              "      <td>1.792993</td>\n",
              "      <td>-0.863291</td>\n",
              "      <td>-0.010309</td>\n",
              "      <td>1.247203</td>\n",
              "      <td>0.237609</td>\n",
              "      <td>0.377436</td>\n",
              "      <td>-1.387024</td>\n",
              "      <td>-0.054952</td>\n",
              "      <td>-0.226487</td>\n",
              "      <td>0.178228</td>\n",
              "      <td>0.507757</td>\n",
              "      <td>-0.287924</td>\n",
              "      <td>-0.631418</td>\n",
              "      <td>-1.059647</td>\n",
              "      <td>-0.684093</td>\n",
              "      <td>1.965775</td>\n",
              "      <td>-1.232622</td>\n",
              "      <td>-0.208038</td>\n",
              "      <td>-0.108300</td>\n",
              "      <td>0.005274</td>\n",
              "      <td>-0.190321</td>\n",
              "      <td>-1.175575</td>\n",
              "      <td>0.647376</td>\n",
              "      <td>-0.221929</td>\n",
              "      <td>0.062723</td>\n",
              "      <td>0.061458</td>\n",
              "      <td>0</td>\n",
              "      <td>4.816249</td>\n",
              "    </tr>\n",
              "    <tr>\n",
              "      <th>4</th>\n",
              "      <td>-1.158233</td>\n",
              "      <td>0.877737</td>\n",
              "      <td>1.548718</td>\n",
              "      <td>0.403034</td>\n",
              "      <td>-0.407193</td>\n",
              "      <td>0.095921</td>\n",
              "      <td>0.592941</td>\n",
              "      <td>-0.270533</td>\n",
              "      <td>0.817739</td>\n",
              "      <td>0.753074</td>\n",
              "      <td>-0.822843</td>\n",
              "      <td>0.538196</td>\n",
              "      <td>1.345852</td>\n",
              "      <td>-1.119670</td>\n",
              "      <td>0.175121</td>\n",
              "      <td>-0.451449</td>\n",
              "      <td>-0.237033</td>\n",
              "      <td>-0.038195</td>\n",
              "      <td>0.803487</td>\n",
              "      <td>0.408542</td>\n",
              "      <td>-0.009431</td>\n",
              "      <td>0.798278</td>\n",
              "      <td>-0.137458</td>\n",
              "      <td>0.141267</td>\n",
              "      <td>-0.206010</td>\n",
              "      <td>0.502292</td>\n",
              "      <td>0.219422</td>\n",
              "      <td>0.215153</td>\n",
              "      <td>0</td>\n",
              "      <td>4.248367</td>\n",
              "    </tr>\n",
              "  </tbody>\n",
              "</table>\n",
              "</div>"
            ],
            "text/plain": [
              "         V1        V2        V3  ...       V28  Class  Log Amount\n",
              "0 -1.359807 -0.072781  2.536347  ... -0.021053      0    5.008105\n",
              "1  1.191857  0.266151  0.166480  ...  0.014724      0    0.989913\n",
              "2 -1.358354 -1.340163  1.773209  ... -0.059752      0    5.936641\n",
              "3 -0.966272 -0.185226  1.792993  ...  0.061458      0    4.816249\n",
              "4 -1.158233  0.877737  1.548718  ...  0.215153      0    4.248367\n",
              "\n",
              "[5 rows x 30 columns]"
            ]
          },
          "metadata": {
            "tags": []
          },
          "execution_count": 26
        }
      ]
    },
    {
      "cell_type": "code",
      "metadata": {
        "id": "6mMZxscfJUFD"
      },
      "source": [
        "train_df,test_df=train_test_split(cleaned_df,test_size=0.2)\n",
        "train_df,val_df=train_test_split(train_df,test_size=0.2)\n",
        "\n",
        "train_labels=np.array(train_df.pop('Class'))\n",
        "val_labels=np.array(val_df.pop('Class'))\n",
        "\n",
        "train_features=np.array(train_df)\n",
        "val_features=np.array(val_df)"
      ],
      "execution_count": 28,
      "outputs": []
    },
    {
      "cell_type": "code",
      "metadata": {
        "id": "NAbDk0l3KyqA",
        "outputId": "23d472d4-b3ca-4eb7-ddd7-fbc78b82a097",
        "colab": {
          "base_uri": "https://localhost:8080/",
          "height": 35
        }
      },
      "source": [
        "print(train_features.shape)"
      ],
      "execution_count": 29,
      "outputs": [
        {
          "output_type": "stream",
          "text": [
            "(182276, 29)\n"
          ],
          "name": "stdout"
        }
      ]
    },
    {
      "cell_type": "code",
      "metadata": {
        "id": "1wKaJwoLK4mW",
        "outputId": "677ccec0-eb4c-4d69-9179-14199cb60814",
        "colab": {
          "base_uri": "https://localhost:8080/",
          "height": 121
        }
      },
      "source": [
        "train_features[0]"
      ],
      "execution_count": 30,
      "outputs": [
        {
          "output_type": "execute_result",
          "data": {
            "text/plain": [
              "array([-0.17144757,  0.61261601,  0.51334206, -0.52232473, -0.17046059,\n",
              "       -0.03844597, -0.20042385,  0.52901747,  0.5715404 , -1.0642258 ,\n",
              "       -1.44598479,  0.49423166,  0.6591045 , -0.14338734, -0.00501194,\n",
              "        0.30005191, -0.58049695,  0.39983153, -0.37919948, -0.22150112,\n",
              "        0.29187539,  0.87245542, -0.05712901,  0.60561713, -0.22455755,\n",
              "       -0.30907896, -0.04423038, -0.04633956,  2.30168469])"
            ]
          },
          "metadata": {
            "tags": []
          },
          "execution_count": 30
        }
      ]
    },
    {
      "cell_type": "code",
      "metadata": {
        "id": "AucoSbKcK7SJ",
        "outputId": "35fc58f2-f6e2-4bd3-d9cf-52bbdde360e7",
        "colab": {
          "base_uri": "https://localhost:8080/",
          "height": 87
        }
      },
      "source": [
        "scaler=StandardScaler()\n",
        "train_features=scaler.fit_transform(train_features)\n",
        "val_features=scaler.transform(val_features)\n",
        "\n",
        "train_features=np.clip(train_features,-5,5)\n",
        "val_features=np.clip(val_features,-5,5)\n",
        "\n",
        "print('Training features shape:',train_features.shape)\n",
        "print('Training labels shape:',train_labels.shape)\n",
        "\n",
        "print('Validation features shape:',val_features.shape)\n",
        "print('Validation labels shape:',val_labels.shape)"
      ],
      "execution_count": 32,
      "outputs": [
        {
          "output_type": "stream",
          "text": [
            "Training features shape: (182276, 29)\n",
            "Training labels shape: (182276,)\n",
            "Validation features shape: (45569, 29)\n",
            "Validation labels shape: (45569,)\n"
          ],
          "name": "stdout"
        }
      ]
    },
    {
      "cell_type": "code",
      "metadata": {
        "id": "SmlRPPNcxc0x",
        "outputId": "96637781-1787-49f2-f28f-803f683f2b2f",
        "colab": {
          "base_uri": "https://localhost:8080/",
          "height": 35
        }
      },
      "source": [
        "test_labels=np.array(test_df.pop('Class'))\n",
        "test_features=np.array(test_df)\n",
        "\n",
        "test_features=scaler.transform(test_features)\n",
        "test_features=np.clip(test_features, -5, 5)\n",
        "print('Test features shape:',test_features.shape)"
      ],
      "execution_count": 112,
      "outputs": [
        {
          "output_type": "stream",
          "text": [
            "Test features shape: (56962, 29)\n"
          ],
          "name": "stdout"
        }
      ]
    },
    {
      "cell_type": "code",
      "metadata": {
        "id": "QtOzoO9GMt4I",
        "outputId": "143a465c-0e35-4b58-a3e5-e41a66f7dc97",
        "colab": {
          "base_uri": "https://localhost:8080/",
          "height": 52
        }
      },
      "source": [
        "bool_train_labels=train_labels != 0\n",
        "print(bool_train_labels)\n",
        "print(bool_train_labels.shape)"
      ],
      "execution_count": 44,
      "outputs": [
        {
          "output_type": "stream",
          "text": [
            "[False False False ... False False False]\n",
            "(182276,)\n"
          ],
          "name": "stdout"
        }
      ]
    },
    {
      "cell_type": "code",
      "metadata": {
        "id": "Ui37ELtVOfT4",
        "outputId": "7926ffbb-3702-4ae9-b834-93e74c2154ec",
        "colab": {
          "base_uri": "https://localhost:8080/",
          "height": 959
        }
      },
      "source": [
        "pos_df=pd.DataFrame(train_features[bool_train_labels],columns=train_df.columns)\n",
        "neg_df=pd.DataFrame(train_features[~bool_train_labels],columns=train_df.columns)\n",
        "\n",
        "sns.jointplot(pos_df['V5'],pos_df['V6'],\n",
        "              kind='hex',xlim=(-5,5),ylim=(-5,5))\n",
        "plt.suptitle('Positive distribution')\n",
        "\n",
        "sns.jointplot(neg_df['V5'],neg_df['V6'],\n",
        "              kind='hex',xlim = (-5,5),ylim = (-5,5))\n",
        "_=plt.suptitle(\"Negative distribution\")"
      ],
      "execution_count": 56,
      "outputs": [
        {
          "output_type": "stream",
          "text": [
            "/usr/local/lib/python3.6/dist-packages/seaborn/_decorators.py:43: FutureWarning: Pass the following variables as keyword args: x, y. From version 0.12, the only valid positional argument will be `data`, and passing other arguments without an explicit keyword will result in an error or misinterpretation.\n",
            "  FutureWarning\n",
            "/usr/local/lib/python3.6/dist-packages/seaborn/_decorators.py:43: FutureWarning: Pass the following variables as keyword args: x, y. From version 0.12, the only valid positional argument will be `data`, and passing other arguments without an explicit keyword will result in an error or misinterpretation.\n",
            "  FutureWarning\n"
          ],
          "name": "stderr"
        },
        {
          "output_type": "display_data",
          "data": {
            "image/png": "[encoded data removed]",
            "text/plain": [
              "<Figure size 432x432 with 3 Axes>"
            ]
          },
          "metadata": {
            "tags": [],
            "needs_background": "light"
          }
        },
        {
          "output_type": "display_data",
          "data": {
            "image/png": "[encoded data removed]",
            "text/plain": [
              "<Figure size 432x432 with 3 Axes>"
            ]
          },
          "metadata": {
            "tags": [],
            "needs_background": "light"
          }
        }
      ]
    },
    {
      "cell_type": "code",
      "metadata": {
        "id": "-2S5sNqMQepM"
      },
      "source": [
        "METRICS=[\n",
        "         tf.keras.metrics.TruePositives(name='tp'),\n",
        "         tf.keras.metrics.FalsePositives(name='fp'),\n",
        "         tf.keras.metrics.TrueNegatives(name='tn'),\n",
        "         tf.keras.metrics.FalseNegatives(name='fn'),\n",
        "         tf.keras.metrics.BinaryAccuracy(name='accuracy'),\n",
        "         tf.keras.metrics.Precision(name='precision'),\n",
        "         tf.keras.metrics.Recall(name='recall'),\n",
        "         tf.keras.metrics.AUC(name='auc'),]\n",
        "\n",
        "def make_model(metrics=METRICS,output_bias=None):\n",
        "  if output_bias is not None:\n",
        "    output_bias=tf.keras.initializers.Constant(output_bias)\n",
        "  model=tf.keras.Sequential([\n",
        "      tf.keras.layers.Dense(16,activation='relu',\n",
        "                            input_shape=(train_features.shape[-1],)),\n",
        "       #tf.keras.layers.Dense(16,activation='relu'),\n",
        "       tf.keras.layers.Dropout(0.5),\n",
        "       tf.keras.layers.Dense(1,activation='sigmoid',\n",
        "                             bias_initializer=output_bias),])\n",
        "\n",
        "  model.compile(optimizer=tf.keras.optimizers.Adam(lr=1e-3),\n",
        "                loss=tf.keras.losses.BinaryCrossentropy(),\n",
        "                metrics=metrics)\n",
        "  return model"
      ],
      "execution_count": 66,
      "outputs": []
    },
    {
      "cell_type": "code",
      "metadata": {
        "id": "nXg_hcexYZeY"
      },
      "source": [
        "BATCH_SIZE=2048\n",
        "\n",
        "early_stopping=tf.keras.callbacks.EarlyStopping(\n",
        "    monitor='val_auc',\n",
        "    verbose=1,\n",
        "    patience=10,\n",
        "    mode='max',\n",
        "    restore_best_weights=True)"
      ],
      "execution_count": 67,
      "outputs": []
    },
    {
      "cell_type": "code",
      "metadata": {
        "id": "amCqOce3Yxmk",
        "outputId": "615993a5-4e20-4ffc-e556-444dc1a463ef",
        "colab": {
          "base_uri": "https://localhost:8080/",
          "height": 260
        }
      },
      "source": [
        "model=make_model()\n",
        "model.summary()"
      ],
      "execution_count": 68,
      "outputs": [
        {
          "output_type": "stream",
          "text": [
            "Model: \"sequential_1\"\n",
            "_________________________________________________________________\n",
            "Layer (type)                 Output Shape              Param #   \n",
            "=================================================================\n",
            "dense_3 (Dense)              (None, 16)                480       \n",
            "_________________________________________________________________\n",
            "dropout_1 (Dropout)          (None, 16)                0         \n",
            "_________________________________________________________________\n",
            "dense_4 (Dense)              (None, 1)                 17        \n",
            "=================================================================\n",
            "Total params: 497\n",
            "Trainable params: 497\n",
            "Non-trainable params: 0\n",
            "_________________________________________________________________\n"
          ],
          "name": "stdout"
        }
      ]
    },
    {
      "cell_type": "code",
      "metadata": {
        "id": "kGCVhYsAZOha",
        "outputId": "f122aa80-b848-4948-86be-e7361a8baf04",
        "colab": {
          "base_uri": "https://localhost:8080/",
          "height": 191
        }
      },
      "source": [
        "model.predict(train_features[110:120])"
      ],
      "execution_count": 70,
      "outputs": [
        {
          "output_type": "execute_result",
          "data": {
            "text/plain": [
              "array([[0.22900203],\n",
              "       [0.32391322],\n",
              "       [0.38191056],\n",
              "       [0.35611242],\n",
              "       [0.81772196],\n",
              "       [0.31009358],\n",
              "       [0.20205027],\n",
              "       [0.1952667 ],\n",
              "       [0.12968361],\n",
              "       [0.54867864]], dtype=float32)"
            ]
          },
          "metadata": {
            "tags": []
          },
          "execution_count": 70
        }
      ]
    },
    {
      "cell_type": "code",
      "metadata": {
        "id": "aTN0wnkCZTUY",
        "outputId": "cc1eae0d-100e-4b7d-a812-b40b12084fc8",
        "colab": {
          "base_uri": "https://localhost:8080/",
          "height": 35
        }
      },
      "source": [
        "results=model.evaluate(train_features,train_labels,batch_size=BATCH_SIZE,verbose=0)\n",
        "print('loss:{:.4f}'.format(results[0]))"
      ],
      "execution_count": 75,
      "outputs": [
        {
          "output_type": "stream",
          "text": [
            "loss:0.4665\n"
          ],
          "name": "stdout"
        }
      ]
    },
    {
      "cell_type": "code",
      "metadata": {
        "id": "_U1n8AfcZqaf",
        "outputId": "2aaaf609-93b3-4b14-b8f8-aebf9ffe4ee6",
        "colab": {
          "base_uri": "https://localhost:8080/",
          "height": 35
        }
      },
      "source": [
        "initial_bias=np.log([pos/neg])\n",
        "initial_bias"
      ],
      "execution_count": 77,
      "outputs": [
        {
          "output_type": "execute_result",
          "data": {
            "text/plain": [
              "array([-6.35935934])"
            ]
          },
          "metadata": {
            "tags": []
          },
          "execution_count": 77
        }
      ]
    },
    {
      "cell_type": "code",
      "metadata": {
        "id": "ZheNcm22adLk",
        "outputId": "2e7103d2-8c1f-4a77-ea70-243cdb50fd20",
        "colab": {
          "base_uri": "https://localhost:8080/",
          "height": 191
        }
      },
      "source": [
        "model=make_model(output_bias=initial_bias)\n",
        "model.predict(train_features[:10])"
      ],
      "execution_count": 79,
      "outputs": [
        {
          "output_type": "execute_result",
          "data": {
            "text/plain": [
              "array([[0.00148553],\n",
              "       [0.00179914],\n",
              "       [0.00363329],\n",
              "       [0.00220242],\n",
              "       [0.00884444],\n",
              "       [0.00216579],\n",
              "       [0.00574532],\n",
              "       [0.00278094],\n",
              "       [0.01459762],\n",
              "       [0.00807545]], dtype=float32)"
            ]
          },
          "metadata": {
            "tags": []
          },
          "execution_count": 79
        }
      ]
    },
    {
      "cell_type": "code",
      "metadata": {
        "id": "ecyb4pZlal5c",
        "outputId": "4493fc83-d753-43c1-a5d4-ee2acdb2109d",
        "colab": {
          "base_uri": "https://localhost:8080/",
          "height": 35
        }
      },
      "source": [
        "results=model.evaluate(train_features,train_labels,batch_size=BATCH_SIZE,verbose=0)\n",
        "print('loss:{:.4f}'.format(results[0]))"
      ],
      "execution_count": 80,
      "outputs": [
        {
          "output_type": "stream",
          "text": [
            "loss:0.0137\n"
          ],
          "name": "stdout"
        }
      ]
    },
    {
      "cell_type": "code",
      "metadata": {
        "id": "2dg8_SXnlqeH"
      },
      "source": [
        "initial_weights=os.path.join(tempfile.mkdtemp(),'initial_weights')\n",
        "model.save_weights(initial_weights)"
      ],
      "execution_count": 84,
      "outputs": []
    },
    {
      "cell_type": "code",
      "metadata": {
        "id": "0aqvf57TmDmH"
      },
      "source": [
        "model=make_model()\n",
        "model.load_weights(initial_weights)\n",
        "model.layers[-1].bias.assign([0.0])\n",
        "zero_bias_history=model.fit(\n",
        "    train_features,\n",
        "    train_labels,\n",
        "    batch_size=BATCH_SIZE,\n",
        "    epochs=20,\n",
        "    validation_data=(val_features,val_labels),\n",
        "    verbose=0)"
      ],
      "execution_count": 85,
      "outputs": []
    },
    {
      "cell_type": "code",
      "metadata": {
        "id": "yP12AWuLmonK"
      },
      "source": [
        "model=make_model()\n",
        "model.load_weights(initial_weights)\n",
        "careful_bias_history=model.fit(\n",
        "    train_features,\n",
        "    train_labels,\n",
        "    batch_size=BATCH_SIZE,\n",
        "    epochs=20,\n",
        "    validation_data=(val_features,val_labels),\n",
        "    verbose=0)"
      ],
      "execution_count": 86,
      "outputs": []
    },
    {
      "cell_type": "code",
      "metadata": {
        "id": "AjKBR77Smx8X"
      },
      "source": [
        "def plot_loss(history,label):\n",
        "  plt.semilogy(history.epoch,history.history['loss'],\n",
        "               color='r',label='Train'+label)\n",
        "  plt.semilogy(history.epoch,history.history['val_loss'],\n",
        "               color='g',label='Val'+label,linestyle='--')\n",
        "  plt.xlabel('Epoch')\n",
        "  plt.ylabel('Loss')\n",
        "\n",
        "  plt.legend()\n",
        "   "
      ],
      "execution_count": 92,
      "outputs": []
    },
    {
      "cell_type": "code",
      "metadata": {
        "id": "iDV4QCshnu0d",
        "outputId": "760e379d-cf82-49cf-c5df-0231a4e40add",
        "colab": {
          "base_uri": "https://localhost:8080/",
          "height": 606
        }
      },
      "source": [
        "plot_loss(zero_bias_history,'Zero Bias')\n",
        "plot_loss(careful_bias_history,'Careful Bias')"
      ],
      "execution_count": 93,
      "outputs": [
        {
          "output_type": "display_data",
          "data": {
            "image/png": "[encoded data removed]",
            "text/plain": [
              "<Figure size 864x720 with 1 Axes>"
            ]
          },
          "metadata": {
            "tags": [],
            "needs_background": "light"
          }
        }
      ]
    },
    {
      "cell_type": "markdown",
      "metadata": {
        "id": "Z1nand05oMF0"
      },
      "source": [
        "Train the model"
      ]
    },
    {
      "cell_type": "code",
      "metadata": {
        "id": "NMDhL0Lin4F7",
        "outputId": "1c91a70e-acab-4c11-a5c7-ec2ecd049120",
        "colab": {
          "base_uri": "https://localhost:8080/",
          "height": 557
        }
      },
      "source": [
        "model=make_model()\n",
        "model.load_weights(initial_weights)\n",
        "baseline_history=model.fit(\n",
        "    train_features,\n",
        "    train_labels,\n",
        "    batch_size=BATCH_SIZE,\n",
        "    epochs=50,\n",
        "    callbacks=[early_stopping],\n",
        "    validation_data=(val_features, val_labels))"
      ],
      "execution_count": 96,
      "outputs": [
        {
          "output_type": "stream",
          "text": [
            "Epoch 1/50\n",
            "90/90 [==============================] - 2s 18ms/step - loss: 0.0135 - tp: 114.0000 - fp: 217.0000 - tn: 227250.0000 - fn: 264.0000 - accuracy: 0.9979 - precision: 0.3444 - recall: 0.3016 - auc: 0.8144 - val_loss: 0.0053 - val_tp: 27.0000 - val_fp: 0.0000e+00 - val_tn: 45491.0000 - val_fn: 51.0000 - val_accuracy: 0.9989 - val_precision: 1.0000 - val_recall: 0.3462 - val_auc: 0.9601\n",
            "Epoch 2/50\n",
            "90/90 [==============================] - 1s 9ms/step - loss: 0.0076 - tp: 104.0000 - fp: 46.0000 - tn: 181930.0000 - fn: 196.0000 - accuracy: 0.9987 - precision: 0.6933 - recall: 0.3467 - auc: 0.8808 - val_loss: 0.0040 - val_tp: 51.0000 - val_fp: 10.0000 - val_tn: 45481.0000 - val_fn: 27.0000 - val_accuracy: 0.9992 - val_precision: 0.8361 - val_recall: 0.6538 - val_auc: 0.9611\n",
            "Epoch 3/50\n",
            "90/90 [==============================] - 1s 9ms/step - loss: 0.0062 - tp: 142.0000 - fp: 25.0000 - tn: 181951.0000 - fn: 158.0000 - accuracy: 0.9990 - precision: 0.8503 - recall: 0.4733 - auc: 0.8946 - val_loss: 0.0037 - val_tp: 56.0000 - val_fp: 12.0000 - val_tn: 45479.0000 - val_fn: 22.0000 - val_accuracy: 0.9993 - val_precision: 0.8235 - val_recall: 0.7179 - val_auc: 0.9612\n",
            "Epoch 4/50\n",
            "90/90 [==============================] - 1s 9ms/step - loss: 0.0055 - tp: 158.0000 - fp: 34.0000 - tn: 181942.0000 - fn: 142.0000 - accuracy: 0.9990 - precision: 0.8229 - recall: 0.5267 - auc: 0.9227 - val_loss: 0.0035 - val_tp: 62.0000 - val_fp: 12.0000 - val_tn: 45479.0000 - val_fn: 16.0000 - val_accuracy: 0.9994 - val_precision: 0.8378 - val_recall: 0.7949 - val_auc: 0.9612\n",
            "Epoch 5/50\n",
            "90/90 [==============================] - 1s 9ms/step - loss: 0.0052 - tp: 162.0000 - fp: 31.0000 - tn: 181945.0000 - fn: 138.0000 - accuracy: 0.9991 - precision: 0.8394 - recall: 0.5400 - auc: 0.9089 - val_loss: 0.0034 - val_tp: 62.0000 - val_fp: 12.0000 - val_tn: 45479.0000 - val_fn: 16.0000 - val_accuracy: 0.9994 - val_precision: 0.8378 - val_recall: 0.7949 - val_auc: 0.9612\n",
            "Epoch 6/50\n",
            "90/90 [==============================] - 1s 9ms/step - loss: 0.0051 - tp: 169.0000 - fp: 30.0000 - tn: 181946.0000 - fn: 131.0000 - accuracy: 0.9991 - precision: 0.8492 - recall: 0.5633 - auc: 0.9095 - val_loss: 0.0032 - val_tp: 62.0000 - val_fp: 12.0000 - val_tn: 45479.0000 - val_fn: 16.0000 - val_accuracy: 0.9994 - val_precision: 0.8378 - val_recall: 0.7949 - val_auc: 0.9548\n",
            "Epoch 7/50\n",
            "90/90 [==============================] - 1s 9ms/step - loss: 0.0049 - tp: 176.0000 - fp: 33.0000 - tn: 181943.0000 - fn: 124.0000 - accuracy: 0.9991 - precision: 0.8421 - recall: 0.5867 - auc: 0.9134 - val_loss: 0.0030 - val_tp: 62.0000 - val_fp: 12.0000 - val_tn: 45479.0000 - val_fn: 16.0000 - val_accuracy: 0.9994 - val_precision: 0.8378 - val_recall: 0.7949 - val_auc: 0.9549\n",
            "Epoch 8/50\n",
            "90/90 [==============================] - 1s 10ms/step - loss: 0.0046 - tp: 175.0000 - fp: 31.0000 - tn: 181945.0000 - fn: 125.0000 - accuracy: 0.9991 - precision: 0.8495 - recall: 0.5833 - auc: 0.9119 - val_loss: 0.0030 - val_tp: 62.0000 - val_fp: 12.0000 - val_tn: 45479.0000 - val_fn: 16.0000 - val_accuracy: 0.9994 - val_precision: 0.8378 - val_recall: 0.7949 - val_auc: 0.9548\n",
            "Epoch 9/50\n",
            "90/90 [==============================] - 1s 9ms/step - loss: 0.0044 - tp: 173.0000 - fp: 28.0000 - tn: 181948.0000 - fn: 127.0000 - accuracy: 0.9991 - precision: 0.8607 - recall: 0.5767 - auc: 0.9205 - val_loss: 0.0029 - val_tp: 62.0000 - val_fp: 12.0000 - val_tn: 45479.0000 - val_fn: 16.0000 - val_accuracy: 0.9994 - val_precision: 0.8378 - val_recall: 0.7949 - val_auc: 0.9549\n",
            "Epoch 10/50\n",
            "90/90 [==============================] - 1s 9ms/step - loss: 0.0045 - tp: 176.0000 - fp: 29.0000 - tn: 181947.0000 - fn: 124.0000 - accuracy: 0.9992 - precision: 0.8585 - recall: 0.5867 - auc: 0.9171 - val_loss: 0.0028 - val_tp: 62.0000 - val_fp: 12.0000 - val_tn: 45479.0000 - val_fn: 16.0000 - val_accuracy: 0.9994 - val_precision: 0.8378 - val_recall: 0.7949 - val_auc: 0.9549\n",
            "Epoch 11/50\n",
            "90/90 [==============================] - 1s 9ms/step - loss: 0.0044 - tp: 185.0000 - fp: 27.0000 - tn: 181949.0000 - fn: 115.0000 - accuracy: 0.9992 - precision: 0.8726 - recall: 0.6167 - auc: 0.9105 - val_loss: 0.0027 - val_tp: 62.0000 - val_fp: 11.0000 - val_tn: 45480.0000 - val_fn: 16.0000 - val_accuracy: 0.9994 - val_precision: 0.8493 - val_recall: 0.7949 - val_auc: 0.9549\n",
            "Epoch 12/50\n",
            "90/90 [==============================] - 1s 10ms/step - loss: 0.0044 - tp: 179.0000 - fp: 32.0000 - tn: 181944.0000 - fn: 121.0000 - accuracy: 0.9992 - precision: 0.8483 - recall: 0.5967 - auc: 0.9172 - val_loss: 0.0026 - val_tp: 63.0000 - val_fp: 12.0000 - val_tn: 45479.0000 - val_fn: 15.0000 - val_accuracy: 0.9994 - val_precision: 0.8400 - val_recall: 0.8077 - val_auc: 0.9548\n",
            "Epoch 13/50\n",
            "90/90 [==============================] - 1s 10ms/step - loss: 0.0041 - tp: 187.0000 - fp: 29.0000 - tn: 181947.0000 - fn: 113.0000 - accuracy: 0.9992 - precision: 0.8657 - recall: 0.6233 - auc: 0.9222 - val_loss: 0.0026 - val_tp: 63.0000 - val_fp: 12.0000 - val_tn: 45479.0000 - val_fn: 15.0000 - val_accuracy: 0.9994 - val_precision: 0.8400 - val_recall: 0.8077 - val_auc: 0.9548\n",
            "Epoch 14/50\n",
            "88/90 [============================>.] - ETA: 0s - loss: 0.0042 - tp: 168.0000 - fp: 28.0000 - tn: 179899.0000 - fn: 129.0000 - accuracy: 0.9991 - precision: 0.8571 - recall: 0.5657 - auc: 0.9148Restoring model weights from the end of the best epoch.\n",
            "90/90 [==============================] - 1s 10ms/step - loss: 0.0042 - tp: 169.0000 - fp: 28.0000 - tn: 181948.0000 - fn: 131.0000 - accuracy: 0.9991 - precision: 0.8579 - recall: 0.5633 - auc: 0.9139 - val_loss: 0.0027 - val_tp: 64.0000 - val_fp: 12.0000 - val_tn: 45479.0000 - val_fn: 14.0000 - val_accuracy: 0.9994 - val_precision: 0.8421 - val_recall: 0.8205 - val_auc: 0.9548\n",
            "Epoch 00014: early stopping\n"
          ],
          "name": "stdout"
        }
      ]
    },
    {
      "cell_type": "code",
      "metadata": {
        "id": "-iueAKPaoclc"
      },
      "source": [
        "def plot_metrics(history):\n",
        "  metrics=['loss','auc','precision','recall']\n",
        "  for n,metric in enumerate(metrics):\n",
        "    plt.subplot(2,2,n+1)\n",
        "    plt.plot(history.epoch,history.history[metric],color=colors[0],label='Train')\n",
        "    plt.plot(history.epoch,history.history['val_'+metric],color=colors[0],\n",
        "             linestyle='--',label='val')\n",
        "    plt.xlabel('Epoch')\n",
        "    plt.ylabel(metric) \n",
        "    if metric == 'loss':\n",
        "      plt.ylim([0, plt.ylim()[1]])\n",
        "    elif metric == 'auc':\n",
        "      plt.ylim([0.8,1])\n",
        "    else:\n",
        "      plt.ylim([0,1])\n",
        "\n",
        "    plt.legend()"
      ],
      "execution_count": 103,
      "outputs": []
    },
    {
      "cell_type": "code",
      "metadata": {
        "id": "DFZW3Jy3sQaG",
        "outputId": "97eca2f0-857a-4756-86fa-5b9da10edd82",
        "colab": {
          "base_uri": "https://localhost:8080/",
          "height": 609
        }
      },
      "source": [
        "plot_metrics(baseline_history)"
      ],
      "execution_count": 104,
      "outputs": [
        {
          "output_type": "display_data",
          "data": {
            "image/png": "[encoded data removed]",
            "text/plain": [
              "<Figure size 864x720 with 4 Axes>"
            ]
          },
          "metadata": {
            "tags": [],
            "needs_background": "light"
          }
        }
      ]
    },
    {
      "cell_type": "code",
      "metadata": {
        "id": "PVgies2Dsdeu",
        "outputId": "78bfb4c0-7466-478b-8ac6-495e35388e2d",
        "colab": {
          "base_uri": "https://localhost:8080/",
          "height": 35
        }
      },
      "source": [
        "model.metrics_names"
      ],
      "execution_count": 105,
      "outputs": [
        {
          "output_type": "execute_result",
          "data": {
            "text/plain": [
              "['loss', 'tp', 'fp', 'tn', 'fn', 'accuracy', 'precision', 'recall', 'auc']"
            ]
          },
          "metadata": {
            "tags": []
          },
          "execution_count": 105
        }
      ]
    },
    {
      "cell_type": "code",
      "metadata": {
        "id": "4rUwzG6wtENF",
        "outputId": "c33e4796-ddc6-4149-da9a-206d01e94149",
        "colab": {
          "base_uri": "https://localhost:8080/",
          "height": 35
        }
      },
      "source": [
        "len(baseline_history.history['val_precision'])"
      ],
      "execution_count": 110,
      "outputs": [
        {
          "output_type": "execute_result",
          "data": {
            "text/plain": [
              "14"
            ]
          },
          "metadata": {
            "tags": []
          },
          "execution_count": 110
        }
      ]
    },
    {
      "cell_type": "code",
      "metadata": {
        "id": "msn5Ig5UtJmy"
      },
      "source": [
        "train_predictions_baseline=model.predict(train_features,batch_size=BATCH_SIZE)\n",
        "test_predictions_baseline=model.predict(test_features, batch_size=BATCH_SIZE)"
      ],
      "execution_count": 113,
      "outputs": []
    },
    {
      "cell_type": "code",
      "metadata": {
        "id": "pqHuIkRFty-I",
        "outputId": "5eb0fbcf-aa43-40a6-ce63-dedb588dc3dc",
        "colab": {
          "base_uri": "https://localhost:8080/",
          "height": 139
        }
      },
      "source": [
        "test_predictions_baseline"
      ],
      "execution_count": 114,
      "outputs": [
        {
          "output_type": "execute_result",
          "data": {
            "text/plain": [
              "array([[0.00068164],\n",
              "       [0.00065219],\n",
              "       [0.00097844],\n",
              "       ...,\n",
              "       [0.00116736],\n",
              "       [0.00127852],\n",
              "       [0.00097597]], dtype=float32)"
            ]
          },
          "metadata": {
            "tags": []
          },
          "execution_count": 114
        }
      ]
    },
    {
      "cell_type": "code",
      "metadata": {
        "id": "p8JgMtCKxyPK"
      },
      "source": [
        "def plot_cm(labels,predictions,p=0.5):\n",
        "  cm=confusion_matrix(labels,predictions>p)\n",
        "  plt.figure(figsize=(5,5))\n",
        "  sns.heatmap(cm,annot=True,fmt='d')\n",
        "  plt.title('Confusion_matrix @{:.2f}'.format(p))\n",
        "  plt.ylabel('Actual label')\n",
        "  plt.xlabel('Predicted label')\n",
        "\n",
        "  print('Legitimate Transactions Detected (True Negatives): ', cm[0][0])\n",
        "  print('Legitimate Transactions Incorrectly Detected (False Positives): ', cm[0][1])\n",
        "  print('Fraudulent Transactions Missed (False Negatives): ', cm[1][0])\n",
        "  print('Fraudulent Transactions Detected (True Positives): ', cm[1][1])\n",
        "  print('Total Fraudulent Transcations:',np.sum(cm[1]))"
      ],
      "execution_count": 120,
      "outputs": []
    },
    {
      "cell_type": "code",
      "metadata": {
        "id": "t8PV9n5j0AFV",
        "outputId": "c5b9daab-162d-4f5b-8b23-a3d0d48ed496",
        "colab": {
          "base_uri": "https://localhost:8080/",
          "height": 173
        }
      },
      "source": [
        "baseline_results=model.evaluate(test_features,test_labels,\n",
        "                                batch_size=BATCH_SIZE,verbose=0)\n",
        "\n",
        "for name,value in zip(model.metrics_names,baseline_results):\n",
        "  print(name,':',value)"
      ],
      "execution_count": 117,
      "outputs": [
        {
          "output_type": "stream",
          "text": [
            "loss : 0.0045541501604020596\n",
            "tp : 78.0\n",
            "fp : 12.0\n",
            "tn : 56836.0\n",
            "fn : 36.0\n",
            "accuracy : 0.9991573095321655\n",
            "precision : 0.8666666746139526\n",
            "recall : 0.6842105388641357\n",
            "auc : 0.9337429404258728\n"
          ],
          "name": "stdout"
        }
      ]
    },
    {
      "cell_type": "code",
      "metadata": {
        "id": "IlrLQoCz1J5X",
        "outputId": "59d0acfa-00c7-4fe8-cae9-71ff28b10b81",
        "colab": {
          "base_uri": "https://localhost:8080/",
          "height": 437
        }
      },
      "source": [
        "plot_cm(test_labels,test_predictions_baseline)"
      ],
      "execution_count": 121,
      "outputs": [
        {
          "output_type": "stream",
          "text": [
            "Legitimate Transactions Detected (True Negatives):  56836\n",
            "Legitimate Transactions Incorrectly Detected (False Positives):  12\n",
            "Fraudulent Transactions Missed (False Negatives):  36\n",
            "Fraudulent Transactions Detected (True Positives):  78\n",
            "Total Fraudulent Transcations: 114\n"
          ],
          "name": "stdout"
        },
        {
          "output_type": "display_data",
          "data": {
            "image/png": "[encoded data removed]",
            "text/plain": [
              "<Figure size 360x360 with 2 Axes>"
            ]
          },
          "metadata": {
            "tags": [],
            "needs_background": "light"
          }
        }
      ]
    },
    {
      "cell_type": "code",
      "metadata": {
        "id": "whUX6PPl1WnY"
      },
      "source": [
        "def plot_roc(name,labels,predictions,**kwargs):\n",
        "  fp,tp,_=sklearn.metrics.roc_curve(labels,predictions)\n",
        "\n",
        "  plt.plot(100*fp,100*tp,label=name,linewidth=2,**kwargs)\n",
        "  plt.xlabel('False positives[%]')\n",
        "  plt.ylabel('True positives[%]')\n",
        "  plt.xlim([-0.5,20])\n",
        "  plt.ylim([80,100.5])\n",
        "  plt.grid(True)\n",
        "  ax=plt.gca()\n",
        "  ax.set_aspect('equal')"
      ],
      "execution_count": 124,
      "outputs": []
    },
    {
      "cell_type": "code",
      "metadata": {
        "id": "D97PoeEV5yKJ",
        "outputId": "bccc3ce7-00f0-45ce-ea7a-4e643dba2e92",
        "colab": {
          "base_uri": "https://localhost:8080/",
          "height": 623
        }
      },
      "source": [
        "plot_roc(\"Train Baseline\", train_labels, train_predictions_baseline, color=colors[0])\n",
        "plot_roc(\"Test Baseline\", test_labels, test_predictions_baseline, color=colors[0], linestyle='--')\n",
        "plt.legend(loc='lower right')"
      ],
      "execution_count": 125,
      "outputs": [
        {
          "output_type": "execute_result",
          "data": {
            "text/plain": [
              "<matplotlib.legend.Legend at 0x7f858357f630>"
            ]
          },
          "metadata": {
            "tags": []
          },
          "execution_count": 125
        },
        {
          "output_type": "display_data",
          "data": {
            "image/png": "[encoded data removed]",
            "text/plain": [
              "<Figure size 864x720 with 1 Axes>"
            ]
          },
          "metadata": {
            "tags": [],
            "needs_background": "light"
          }
        }
      ]
    },
    {
      "cell_type": "markdown",
      "metadata": {
        "id": "Zt6ptpUZ8yM4"
      },
      "source": [
        "Class weights"
      ]
    },
    {
      "cell_type": "code",
      "metadata": {
        "id": "h5qZ2p_o53KF",
        "outputId": "aed57b16-797f-48df-f975-0a741cce24d3",
        "colab": {
          "base_uri": "https://localhost:8080/",
          "height": 52
        }
      },
      "source": [
        "#Scaling by total/2 helps keep the loss to a similar magnitude.\n",
        "#The sum of the weights of all examples stays the same.\n",
        "weight_for_0=((1/neg)*total)/2.0\n",
        "weight_for_1=((1/pos)*total)/2.0\n",
        "\n",
        "class_weight={0:weight_for_0,1:weight_for_1}\n",
        "\n",
        "print('Weight for class 0: {:.2f}'.format(weight_for_0))\n",
        "print('Weight for class 1: {:.2f}'.format(weight_for_1))"
      ],
      "execution_count": 133,
      "outputs": [
        {
          "output_type": "stream",
          "text": [
            "Weight for class 0: 0.50\n",
            "Weight for class 1: 289.44\n"
          ],
          "name": "stdout"
        }
      ]
    },
    {
      "cell_type": "code",
      "metadata": {
        "id": "XzgzHK8P7Kts",
        "outputId": "c382f5a5-25f5-4251-dd9f-e0c2d21ad16e",
        "colab": {
          "base_uri": "https://localhost:8080/",
          "height": 52
        }
      },
      "source": [
        "#The sum of the weights of all examples stays the same(Very Important)\n",
        "total_neg_weight=weights_for_0*neg\n",
        "total_pos_weight=weights_for_1*pos\n",
        "print('{:.1f}'.format(total_neg_weight))\n",
        "print('{:.1f}'.format(total_pos_weight))"
      ],
      "execution_count": 137,
      "outputs": [
        {
          "output_type": "stream",
          "text": [
            "142403.5\n",
            "142403.5\n"
          ],
          "name": "stdout"
        }
      ]
    },
    {
      "cell_type": "markdown",
      "metadata": {
        "id": "4UEBpGUZ83CC"
      },
      "source": [
        "Train a model with class weights"
      ]
    },
    {
      "cell_type": "code",
      "metadata": {
        "id": "Aeofg8Le7bMJ",
        "outputId": "0c6d0ebf-cec4-424d-9ce2-e14ecb0dc662",
        "colab": {
          "base_uri": "https://localhost:8080/",
          "height": 1000
        }
      },
      "source": [
        "weighted_model=make_model()\n",
        "weighted_model.load_weights(initial_weights)\n",
        "\n",
        "weighted_history=weighted_model.fit(\n",
        "    train_features,\n",
        "    train_labels,\n",
        "    batch_size=BATCH_SIZE,\n",
        "    epochs=50,\n",
        "    callbacks=[early_stopping],\n",
        "    validation_data=(val_features, val_labels),\n",
        "    # The class weights go here\n",
        "    class_weight=class_weight) "
      ],
      "execution_count": 141,
      "outputs": [
        {
          "output_type": "stream",
          "text": [
            "Epoch 1/50\n",
            "90/90 [==============================] - 2s 17ms/step - loss: 1.3124 - tp: 181.0000 - fp: 700.0000 - tn: 238124.0000 - fn: 233.0000 - accuracy: 0.9961 - precision: 0.2054 - recall: 0.4372 - auc: 0.8586 - val_loss: 0.0124 - val_tp: 62.0000 - val_fp: 75.0000 - val_tn: 45416.0000 - val_fn: 16.0000 - val_accuracy: 0.9980 - val_precision: 0.4526 - val_recall: 0.7949 - val_auc: 0.9612\n",
            "Epoch 2/50\n",
            "90/90 [==============================] - 1s 9ms/step - loss: 0.7372 - tp: 176.0000 - fp: 1288.0000 - tn: 180688.0000 - fn: 124.0000 - accuracy: 0.9923 - precision: 0.1202 - recall: 0.5867 - auc: 0.8958 - val_loss: 0.0204 - val_tp: 68.0000 - val_fp: 139.0000 - val_tn: 45352.0000 - val_fn: 10.0000 - val_accuracy: 0.9967 - val_precision: 0.3285 - val_recall: 0.8718 - val_auc: 0.9623\n",
            "Epoch 3/50\n",
            "90/90 [==============================] - 1s 9ms/step - loss: 0.5230 - tp: 214.0000 - fp: 2139.0000 - tn: 179837.0000 - fn: 86.0000 - accuracy: 0.9878 - precision: 0.0909 - recall: 0.7133 - auc: 0.9217 - val_loss: 0.0298 - val_tp: 71.0000 - val_fp: 203.0000 - val_tn: 45288.0000 - val_fn: 7.0000 - val_accuracy: 0.9954 - val_precision: 0.2591 - val_recall: 0.9103 - val_auc: 0.9657\n",
            "Epoch 4/50\n",
            "90/90 [==============================] - 1s 9ms/step - loss: 0.4028 - tp: 237.0000 - fp: 3170.0000 - tn: 178806.0000 - fn: 63.0000 - accuracy: 0.9823 - precision: 0.0696 - recall: 0.7900 - auc: 0.9367 - val_loss: 0.0389 - val_tp: 71.0000 - val_fp: 309.0000 - val_tn: 45182.0000 - val_fn: 7.0000 - val_accuracy: 0.9931 - val_precision: 0.1868 - val_recall: 0.9103 - val_auc: 0.9680\n",
            "Epoch 5/50\n",
            "90/90 [==============================] - 1s 9ms/step - loss: 0.3708 - tp: 241.0000 - fp: 4021.0000 - tn: 177955.0000 - fn: 59.0000 - accuracy: 0.9776 - precision: 0.0565 - recall: 0.8033 - auc: 0.9373 - val_loss: 0.0493 - val_tp: 72.0000 - val_fp: 453.0000 - val_tn: 45038.0000 - val_fn: 6.0000 - val_accuracy: 0.9899 - val_precision: 0.1371 - val_recall: 0.9231 - val_auc: 0.9705\n",
            "Epoch 6/50\n",
            "90/90 [==============================] - 1s 9ms/step - loss: 0.3074 - tp: 252.0000 - fp: 4862.0000 - tn: 177114.0000 - fn: 48.0000 - accuracy: 0.9731 - precision: 0.0493 - recall: 0.8400 - auc: 0.9505 - val_loss: 0.0584 - val_tp: 72.0000 - val_fp: 621.0000 - val_tn: 44870.0000 - val_fn: 6.0000 - val_accuracy: 0.9862 - val_precision: 0.1039 - val_recall: 0.9231 - val_auc: 0.9692\n",
            "Epoch 7/50\n",
            "90/90 [==============================] - 1s 9ms/step - loss: 0.3347 - tp: 251.0000 - fp: 5838.0000 - tn: 176138.0000 - fn: 49.0000 - accuracy: 0.9677 - precision: 0.0412 - recall: 0.8367 - auc: 0.9438 - val_loss: 0.0677 - val_tp: 72.0000 - val_fp: 744.0000 - val_tn: 44747.0000 - val_fn: 6.0000 - val_accuracy: 0.9835 - val_precision: 0.0882 - val_recall: 0.9231 - val_auc: 0.9713\n",
            "Epoch 8/50\n",
            "90/90 [==============================] - 1s 9ms/step - loss: 0.3367 - tp: 248.0000 - fp: 6126.0000 - tn: 175850.0000 - fn: 52.0000 - accuracy: 0.9661 - precision: 0.0389 - recall: 0.8267 - auc: 0.9402 - val_loss: 0.0719 - val_tp: 72.0000 - val_fp: 830.0000 - val_tn: 44661.0000 - val_fn: 6.0000 - val_accuracy: 0.9817 - val_precision: 0.0798 - val_recall: 0.9231 - val_auc: 0.9710\n",
            "Epoch 9/50\n",
            "90/90 [==============================] - 1s 10ms/step - loss: 0.2722 - tp: 260.0000 - fp: 6600.0000 - tn: 175376.0000 - fn: 40.0000 - accuracy: 0.9636 - precision: 0.0379 - recall: 0.8667 - auc: 0.9577 - val_loss: 0.0771 - val_tp: 72.0000 - val_fp: 894.0000 - val_tn: 44597.0000 - val_fn: 6.0000 - val_accuracy: 0.9802 - val_precision: 0.0745 - val_recall: 0.9231 - val_auc: 0.9734\n",
            "Epoch 10/50\n",
            "90/90 [==============================] - 1s 9ms/step - loss: 0.2819 - tp: 260.0000 - fp: 6645.0000 - tn: 175331.0000 - fn: 40.0000 - accuracy: 0.9633 - precision: 0.0377 - recall: 0.8667 - auc: 0.9546 - val_loss: 0.0804 - val_tp: 72.0000 - val_fp: 930.0000 - val_tn: 44561.0000 - val_fn: 6.0000 - val_accuracy: 0.9795 - val_precision: 0.0719 - val_recall: 0.9231 - val_auc: 0.9731\n",
            "Epoch 11/50\n",
            "90/90 [==============================] - 1s 9ms/step - loss: 0.2772 - tp: 260.0000 - fp: 7065.0000 - tn: 174911.0000 - fn: 40.0000 - accuracy: 0.9610 - precision: 0.0355 - recall: 0.8667 - auc: 0.9543 - val_loss: 0.0840 - val_tp: 72.0000 - val_fp: 953.0000 - val_tn: 44538.0000 - val_fn: 6.0000 - val_accuracy: 0.9790 - val_precision: 0.0702 - val_recall: 0.9231 - val_auc: 0.9745\n",
            "Epoch 12/50\n",
            "90/90 [==============================] - 1s 9ms/step - loss: 0.2298 - tp: 264.0000 - fp: 7227.0000 - tn: 174749.0000 - fn: 36.0000 - accuracy: 0.9602 - precision: 0.0352 - recall: 0.8800 - auc: 0.9683 - val_loss: 0.0850 - val_tp: 72.0000 - val_fp: 962.0000 - val_tn: 44529.0000 - val_fn: 6.0000 - val_accuracy: 0.9788 - val_precision: 0.0696 - val_recall: 0.9231 - val_auc: 0.9743\n",
            "Epoch 13/50\n",
            "90/90 [==============================] - 1s 9ms/step - loss: 0.2913 - tp: 259.0000 - fp: 7023.0000 - tn: 174953.0000 - fn: 41.0000 - accuracy: 0.9612 - precision: 0.0356 - recall: 0.8633 - auc: 0.9510 - val_loss: 0.0838 - val_tp: 72.0000 - val_fp: 942.0000 - val_tn: 44549.0000 - val_fn: 6.0000 - val_accuracy: 0.9792 - val_precision: 0.0710 - val_recall: 0.9231 - val_auc: 0.9753\n",
            "Epoch 14/50\n",
            "90/90 [==============================] - 1s 9ms/step - loss: 0.2776 - tp: 257.0000 - fp: 7035.0000 - tn: 174941.0000 - fn: 43.0000 - accuracy: 0.9612 - precision: 0.0352 - recall: 0.8567 - auc: 0.9535 - val_loss: 0.0875 - val_tp: 72.0000 - val_fp: 1003.0000 - val_tn: 44488.0000 - val_fn: 6.0000 - val_accuracy: 0.9779 - val_precision: 0.0670 - val_recall: 0.9231 - val_auc: 0.9775\n",
            "Epoch 15/50\n",
            "90/90 [==============================] - 1s 10ms/step - loss: 0.2566 - tp: 260.0000 - fp: 7385.0000 - tn: 174591.0000 - fn: 40.0000 - accuracy: 0.9593 - precision: 0.0340 - recall: 0.8667 - auc: 0.9613 - val_loss: 0.0935 - val_tp: 72.0000 - val_fp: 1070.0000 - val_tn: 44421.0000 - val_fn: 6.0000 - val_accuracy: 0.9764 - val_precision: 0.0630 - val_recall: 0.9231 - val_auc: 0.9777\n",
            "Epoch 16/50\n",
            "90/90 [==============================] - 1s 9ms/step - loss: 0.2289 - tp: 271.0000 - fp: 7165.0000 - tn: 174811.0000 - fn: 29.0000 - accuracy: 0.9605 - precision: 0.0364 - recall: 0.9033 - auc: 0.9631 - val_loss: 0.0851 - val_tp: 72.0000 - val_fp: 981.0000 - val_tn: 44510.0000 - val_fn: 6.0000 - val_accuracy: 0.9783 - val_precision: 0.0684 - val_recall: 0.9231 - val_auc: 0.9764\n",
            "Epoch 17/50\n",
            "90/90 [==============================] - 1s 9ms/step - loss: 0.2116 - tp: 266.0000 - fp: 6615.0000 - tn: 175361.0000 - fn: 34.0000 - accuracy: 0.9635 - precision: 0.0387 - recall: 0.8867 - auc: 0.9715 - val_loss: 0.0862 - val_tp: 72.0000 - val_fp: 990.0000 - val_tn: 44501.0000 - val_fn: 6.0000 - val_accuracy: 0.9781 - val_precision: 0.0678 - val_recall: 0.9231 - val_auc: 0.9769\n",
            "Epoch 18/50\n",
            "90/90 [==============================] - 1s 9ms/step - loss: 0.2543 - tp: 262.0000 - fp: 6447.0000 - tn: 175529.0000 - fn: 38.0000 - accuracy: 0.9644 - precision: 0.0391 - recall: 0.8733 - auc: 0.9586 - val_loss: 0.0840 - val_tp: 72.0000 - val_fp: 956.0000 - val_tn: 44535.0000 - val_fn: 6.0000 - val_accuracy: 0.9789 - val_precision: 0.0700 - val_recall: 0.9231 - val_auc: 0.9771\n",
            "Epoch 19/50\n",
            "90/90 [==============================] - 1s 10ms/step - loss: 0.2289 - tp: 266.0000 - fp: 6732.0000 - tn: 175244.0000 - fn: 34.0000 - accuracy: 0.9629 - precision: 0.0380 - recall: 0.8867 - auc: 0.9671 - val_loss: 0.0841 - val_tp: 72.0000 - val_fp: 950.0000 - val_tn: 44541.0000 - val_fn: 6.0000 - val_accuracy: 0.9790 - val_precision: 0.0705 - val_recall: 0.9231 - val_auc: 0.9773\n",
            "Epoch 20/50\n",
            "90/90 [==============================] - 1s 9ms/step - loss: 0.2423 - tp: 264.0000 - fp: 6348.0000 - tn: 175628.0000 - fn: 36.0000 - accuracy: 0.9650 - precision: 0.0399 - recall: 0.8800 - auc: 0.9617 - val_loss: 0.0828 - val_tp: 72.0000 - val_fp: 921.0000 - val_tn: 44570.0000 - val_fn: 6.0000 - val_accuracy: 0.9797 - val_precision: 0.0725 - val_recall: 0.9231 - val_auc: 0.9773\n",
            "Epoch 21/50\n",
            "90/90 [==============================] - 1s 10ms/step - loss: 0.2165 - tp: 264.0000 - fp: 6321.0000 - tn: 175655.0000 - fn: 36.0000 - accuracy: 0.9651 - precision: 0.0401 - recall: 0.8800 - auc: 0.9695 - val_loss: 0.0821 - val_tp: 71.0000 - val_fp: 911.0000 - val_tn: 44580.0000 - val_fn: 7.0000 - val_accuracy: 0.9799 - val_precision: 0.0723 - val_recall: 0.9103 - val_auc: 0.9777\n",
            "Epoch 22/50\n",
            "90/90 [==============================] - 1s 10ms/step - loss: 0.2132 - tp: 267.0000 - fp: 6687.0000 - tn: 175289.0000 - fn: 33.0000 - accuracy: 0.9631 - precision: 0.0384 - recall: 0.8900 - auc: 0.9703 - val_loss: 0.0849 - val_tp: 71.0000 - val_fp: 939.0000 - val_tn: 44552.0000 - val_fn: 7.0000 - val_accuracy: 0.9792 - val_precision: 0.0703 - val_recall: 0.9103 - val_auc: 0.9776\n",
            "Epoch 23/50\n",
            "90/90 [==============================] - 1s 9ms/step - loss: 0.2156 - tp: 269.0000 - fp: 6435.0000 - tn: 175541.0000 - fn: 31.0000 - accuracy: 0.9645 - precision: 0.0401 - recall: 0.8967 - auc: 0.9669 - val_loss: 0.0795 - val_tp: 71.0000 - val_fp: 889.0000 - val_tn: 44602.0000 - val_fn: 7.0000 - val_accuracy: 0.9803 - val_precision: 0.0740 - val_recall: 0.9103 - val_auc: 0.9777\n",
            "Epoch 24/50\n",
            "90/90 [==============================] - 1s 9ms/step - loss: 0.2261 - tp: 265.0000 - fp: 5978.0000 - tn: 175998.0000 - fn: 35.0000 - accuracy: 0.9670 - precision: 0.0424 - recall: 0.8833 - auc: 0.9675 - val_loss: 0.0797 - val_tp: 71.0000 - val_fp: 882.0000 - val_tn: 44609.0000 - val_fn: 7.0000 - val_accuracy: 0.9805 - val_precision: 0.0745 - val_recall: 0.9103 - val_auc: 0.9776\n",
            "Epoch 25/50\n",
            "90/90 [==============================] - 1s 9ms/step - loss: 0.1714 - tp: 273.0000 - fp: 6068.0000 - tn: 175908.0000 - fn: 27.0000 - accuracy: 0.9666 - precision: 0.0431 - recall: 0.9100 - auc: 0.9802 - val_loss: 0.0794 - val_tp: 71.0000 - val_fp: 873.0000 - val_tn: 44618.0000 - val_fn: 7.0000 - val_accuracy: 0.9807 - val_precision: 0.0752 - val_recall: 0.9103 - val_auc: 0.9777\n",
            "Epoch 26/50\n",
            "90/90 [==============================] - 1s 10ms/step - loss: 0.2100 - tp: 263.0000 - fp: 6256.0000 - tn: 175720.0000 - fn: 37.0000 - accuracy: 0.9655 - precision: 0.0403 - recall: 0.8767 - auc: 0.9751 - val_loss: 0.0859 - val_tp: 71.0000 - val_fp: 941.0000 - val_tn: 44550.0000 - val_fn: 7.0000 - val_accuracy: 0.9792 - val_precision: 0.0702 - val_recall: 0.9103 - val_auc: 0.9787\n",
            "Epoch 27/50\n",
            "90/90 [==============================] - 1s 10ms/step - loss: 0.2478 - tp: 265.0000 - fp: 6570.0000 - tn: 175406.0000 - fn: 35.0000 - accuracy: 0.9638 - precision: 0.0388 - recall: 0.8833 - auc: 0.9570 - val_loss: 0.0822 - val_tp: 71.0000 - val_fp: 881.0000 - val_tn: 44610.0000 - val_fn: 7.0000 - val_accuracy: 0.9805 - val_precision: 0.0746 - val_recall: 0.9103 - val_auc: 0.9789\n",
            "Epoch 28/50\n",
            "90/90 [==============================] - 1s 9ms/step - loss: 0.2092 - tp: 271.0000 - fp: 5964.0000 - tn: 176012.0000 - fn: 29.0000 - accuracy: 0.9671 - precision: 0.0435 - recall: 0.9033 - auc: 0.9693 - val_loss: 0.0798 - val_tp: 71.0000 - val_fp: 844.0000 - val_tn: 44647.0000 - val_fn: 7.0000 - val_accuracy: 0.9813 - val_precision: 0.0776 - val_recall: 0.9103 - val_auc: 0.9790\n",
            "Epoch 29/50\n",
            "90/90 [==============================] - 1s 9ms/step - loss: 0.2020 - tp: 269.0000 - fp: 5892.0000 - tn: 176084.0000 - fn: 31.0000 - accuracy: 0.9675 - precision: 0.0437 - recall: 0.8967 - auc: 0.9708 - val_loss: 0.0794 - val_tp: 71.0000 - val_fp: 840.0000 - val_tn: 44651.0000 - val_fn: 7.0000 - val_accuracy: 0.9814 - val_precision: 0.0779 - val_recall: 0.9103 - val_auc: 0.9789\n",
            "Epoch 30/50\n",
            "90/90 [==============================] - 1s 9ms/step - loss: 0.2188 - tp: 266.0000 - fp: 5915.0000 - tn: 176061.0000 - fn: 34.0000 - accuracy: 0.9674 - precision: 0.0430 - recall: 0.8867 - auc: 0.9677 - val_loss: 0.0798 - val_tp: 71.0000 - val_fp: 849.0000 - val_tn: 44642.0000 - val_fn: 7.0000 - val_accuracy: 0.9812 - val_precision: 0.0772 - val_recall: 0.9103 - val_auc: 0.9789\n",
            "Epoch 31/50\n",
            "90/90 [==============================] - 1s 9ms/step - loss: 0.1992 - tp: 266.0000 - fp: 6303.0000 - tn: 175673.0000 - fn: 34.0000 - accuracy: 0.9652 - precision: 0.0405 - recall: 0.8867 - auc: 0.9730 - val_loss: 0.0823 - val_tp: 71.0000 - val_fp: 884.0000 - val_tn: 44607.0000 - val_fn: 7.0000 - val_accuracy: 0.9804 - val_precision: 0.0743 - val_recall: 0.9103 - val_auc: 0.9789\n",
            "Epoch 32/50\n",
            "90/90 [==============================] - 1s 9ms/step - loss: 0.1771 - tp: 270.0000 - fp: 6274.0000 - tn: 175702.0000 - fn: 30.0000 - accuracy: 0.9654 - precision: 0.0413 - recall: 0.9000 - auc: 0.9807 - val_loss: 0.0842 - val_tp: 71.0000 - val_fp: 894.0000 - val_tn: 44597.0000 - val_fn: 7.0000 - val_accuracy: 0.9802 - val_precision: 0.0736 - val_recall: 0.9103 - val_auc: 0.9791\n",
            "Epoch 33/50\n",
            "90/90 [==============================] - 1s 10ms/step - loss: 0.1680 - tp: 271.0000 - fp: 6006.0000 - tn: 175970.0000 - fn: 29.0000 - accuracy: 0.9669 - precision: 0.0432 - recall: 0.9033 - auc: 0.9815 - val_loss: 0.0848 - val_tp: 71.0000 - val_fp: 892.0000 - val_tn: 44599.0000 - val_fn: 7.0000 - val_accuracy: 0.9803 - val_precision: 0.0737 - val_recall: 0.9103 - val_auc: 0.9788\n",
            "Epoch 34/50\n",
            "90/90 [==============================] - 1s 10ms/step - loss: 0.2068 - tp: 269.0000 - fp: 6399.0000 - tn: 175577.0000 - fn: 31.0000 - accuracy: 0.9647 - precision: 0.0403 - recall: 0.8967 - auc: 0.9709 - val_loss: 0.0855 - val_tp: 71.0000 - val_fp: 906.0000 - val_tn: 44585.0000 - val_fn: 7.0000 - val_accuracy: 0.9800 - val_precision: 0.0727 - val_recall: 0.9103 - val_auc: 0.9789\n",
            "Epoch 35/50\n",
            "90/90 [==============================] - 1s 9ms/step - loss: 0.2145 - tp: 263.0000 - fp: 6293.0000 - tn: 175683.0000 - fn: 37.0000 - accuracy: 0.9653 - precision: 0.0401 - recall: 0.8767 - auc: 0.9706 - val_loss: 0.0860 - val_tp: 71.0000 - val_fp: 910.0000 - val_tn: 44581.0000 - val_fn: 7.0000 - val_accuracy: 0.9799 - val_precision: 0.0724 - val_recall: 0.9103 - val_auc: 0.9790\n",
            "Epoch 36/50\n",
            "90/90 [==============================] - 1s 10ms/step - loss: 0.1934 - tp: 272.0000 - fp: 6249.0000 - tn: 175727.0000 - fn: 28.0000 - accuracy: 0.9656 - precision: 0.0417 - recall: 0.9067 - auc: 0.9736 - val_loss: 0.0835 - val_tp: 71.0000 - val_fp: 880.0000 - val_tn: 44611.0000 - val_fn: 7.0000 - val_accuracy: 0.9805 - val_precision: 0.0747 - val_recall: 0.9103 - val_auc: 0.9792\n",
            "Epoch 37/50\n",
            "90/90 [==============================] - 1s 10ms/step - loss: 0.2015 - tp: 268.0000 - fp: 5777.0000 - tn: 176199.0000 - fn: 32.0000 - accuracy: 0.9681 - precision: 0.0443 - recall: 0.8933 - auc: 0.9712 - val_loss: 0.0826 - val_tp: 71.0000 - val_fp: 875.0000 - val_tn: 44616.0000 - val_fn: 7.0000 - val_accuracy: 0.9806 - val_precision: 0.0751 - val_recall: 0.9103 - val_auc: 0.9788\n",
            "Epoch 38/50\n",
            "90/90 [==============================] - 1s 9ms/step - loss: 0.1891 - tp: 271.0000 - fp: 5890.0000 - tn: 176086.0000 - fn: 29.0000 - accuracy: 0.9675 - precision: 0.0440 - recall: 0.9033 - auc: 0.9749 - val_loss: 0.0832 - val_tp: 71.0000 - val_fp: 885.0000 - val_tn: 44606.0000 - val_fn: 7.0000 - val_accuracy: 0.9804 - val_precision: 0.0743 - val_recall: 0.9103 - val_auc: 0.9787\n",
            "Epoch 39/50\n",
            "90/90 [==============================] - 1s 10ms/step - loss: 0.1675 - tp: 275.0000 - fp: 5614.0000 - tn: 176362.0000 - fn: 25.0000 - accuracy: 0.9691 - precision: 0.0467 - recall: 0.9167 - auc: 0.9811 - val_loss: 0.0761 - val_tp: 71.0000 - val_fp: 765.0000 - val_tn: 44726.0000 - val_fn: 7.0000 - val_accuracy: 0.9831 - val_precision: 0.0849 - val_recall: 0.9103 - val_auc: 0.9791\n",
            "Epoch 40/50\n",
            "90/90 [==============================] - 1s 10ms/step - loss: 0.2114 - tp: 265.0000 - fp: 5752.0000 - tn: 176224.0000 - fn: 35.0000 - accuracy: 0.9683 - precision: 0.0440 - recall: 0.8833 - auc: 0.9715 - val_loss: 0.0842 - val_tp: 71.0000 - val_fp: 885.0000 - val_tn: 44606.0000 - val_fn: 7.0000 - val_accuracy: 0.9804 - val_precision: 0.0743 - val_recall: 0.9103 - val_auc: 0.9785\n",
            "Epoch 41/50\n",
            "90/90 [==============================] - 1s 9ms/step - loss: 0.1718 - tp: 272.0000 - fp: 5762.0000 - tn: 176214.0000 - fn: 28.0000 - accuracy: 0.9682 - precision: 0.0451 - recall: 0.9067 - auc: 0.9786 - val_loss: 0.0803 - val_tp: 71.0000 - val_fp: 820.0000 - val_tn: 44671.0000 - val_fn: 7.0000 - val_accuracy: 0.9819 - val_precision: 0.0797 - val_recall: 0.9103 - val_auc: 0.9784\n",
            "Epoch 42/50\n",
            "90/90 [==============================] - 1s 11ms/step - loss: 0.1864 - tp: 264.0000 - fp: 5761.0000 - tn: 176215.0000 - fn: 36.0000 - accuracy: 0.9682 - precision: 0.0438 - recall: 0.8800 - auc: 0.9776 - val_loss: 0.0843 - val_tp: 71.0000 - val_fp: 858.0000 - val_tn: 44633.0000 - val_fn: 7.0000 - val_accuracy: 0.9810 - val_precision: 0.0764 - val_recall: 0.9103 - val_auc: 0.9788\n",
            "Epoch 43/50\n",
            "90/90 [==============================] - 1s 10ms/step - loss: 0.1760 - tp: 271.0000 - fp: 6125.0000 - tn: 175851.0000 - fn: 29.0000 - accuracy: 0.9662 - precision: 0.0424 - recall: 0.9033 - auc: 0.9805 - val_loss: 0.0840 - val_tp: 71.0000 - val_fp: 865.0000 - val_tn: 44626.0000 - val_fn: 7.0000 - val_accuracy: 0.9809 - val_precision: 0.0759 - val_recall: 0.9103 - val_auc: 0.9780\n",
            "Epoch 44/50\n",
            "90/90 [==============================] - 1s 11ms/step - loss: 0.1861 - tp: 269.0000 - fp: 5856.0000 - tn: 176120.0000 - fn: 31.0000 - accuracy: 0.9677 - precision: 0.0439 - recall: 0.8967 - auc: 0.9778 - val_loss: 0.0838 - val_tp: 71.0000 - val_fp: 866.0000 - val_tn: 44625.0000 - val_fn: 7.0000 - val_accuracy: 0.9808 - val_precision: 0.0758 - val_recall: 0.9103 - val_auc: 0.9783\n",
            "Epoch 45/50\n",
            "90/90 [==============================] - 1s 10ms/step - loss: 0.1536 - tp: 276.0000 - fp: 5980.0000 - tn: 175996.0000 - fn: 24.0000 - accuracy: 0.9671 - precision: 0.0441 - recall: 0.9200 - auc: 0.9855 - val_loss: 0.0829 - val_tp: 71.0000 - val_fp: 853.0000 - val_tn: 44638.0000 - val_fn: 7.0000 - val_accuracy: 0.9811 - val_precision: 0.0768 - val_recall: 0.9103 - val_auc: 0.9789\n",
            "Epoch 46/50\n",
            "86/90 [===========================>..] - ETA: 0s - loss: 0.1679 - tp: 260.0000 - fp: 5624.0000 - tn: 170215.0000 - fn: 29.0000 - accuracy: 0.9679 - precision: 0.0442 - recall: 0.8997 - auc: 0.9826Restoring model weights from the end of the best epoch.\n",
            "90/90 [==============================] - 1s 10ms/step - loss: 0.1644 - tp: 271.0000 - fp: 5814.0000 - tn: 176162.0000 - fn: 29.0000 - accuracy: 0.9679 - precision: 0.0445 - recall: 0.9033 - auc: 0.9832 - val_loss: 0.0850 - val_tp: 71.0000 - val_fp: 908.0000 - val_tn: 44583.0000 - val_fn: 7.0000 - val_accuracy: 0.9799 - val_precision: 0.0725 - val_recall: 0.9103 - val_auc: 0.9774\n",
            "Epoch 00046: early stopping\n"
          ],
          "name": "stdout"
        }
      ]
    },
    {
      "cell_type": "code",
      "metadata": {
        "id": "AYtD-b-r8-Wz",
        "outputId": "dfa07933-3b7d-40cf-9637-c268b60e24d8",
        "colab": {
          "base_uri": "https://localhost:8080/",
          "height": 609
        }
      },
      "source": [
        "plot_metrics(weighted_history)"
      ],
      "execution_count": 142,
      "outputs": [
        {
          "output_type": "display_data",
          "data": {
            "image/png": "[encoded data removed]",
            "text/plain": [
              "<Figure size 864x720 with 4 Axes>"
            ]
          },
          "metadata": {
            "tags": [],
            "needs_background": "light"
          }
        }
      ]
    },
    {
      "cell_type": "code",
      "metadata": {
        "id": "xNHpGY2R9TkQ"
      },
      "source": [
        "train_predictions_weighted=weighted_model.predict(train_features, batch_size=BATCH_SIZE)\n",
        "test_predictions_weighted=weighted_model.predict(test_features, batch_size=BATCH_SIZE)"
      ],
      "execution_count": 143,
      "outputs": []
    },
    {
      "cell_type": "code",
      "metadata": {
        "id": "ThXxeCHP9jNz",
        "outputId": "f7c2b892-cc3e-4432-a197-a7f43e1d74d2",
        "colab": {
          "base_uri": "https://localhost:8080/",
          "height": 610
        }
      },
      "source": [
        "weighted_results=weighted_model.evaluate(test_features, test_labels,\n",
        "                                          batch_size=BATCH_SIZE, verbose=0)\n",
        "for name,value in zip(weighted_model.metrics_names,weighted_results):\n",
        "  print(name, ': ', value)\n",
        "print()\n",
        "\n",
        "plot_cm(test_labels,test_predictions_weighted)"
      ],
      "execution_count": 144,
      "outputs": [
        {
          "output_type": "stream",
          "text": [
            "loss :  0.08151800185441971\n",
            "tp :  104.0\n",
            "fp :  1053.0\n",
            "tn :  55795.0\n",
            "fn :  10.0\n",
            "accuracy :  0.9813384413719177\n",
            "precision :  0.08988764137029648\n",
            "recall :  0.9122806787490845\n",
            "auc :  0.9852619767189026\n",
            "\n",
            "Legitimate Transactions Detected (True Negatives):  55795\n",
            "Legitimate Transactions Incorrectly Detected (False Positives):  1053\n",
            "Fraudulent Transactions Missed (False Negatives):  10\n",
            "Fraudulent Transactions Detected (True Positives):  104\n",
            "Total Fraudulent Transcations: 114\n"
          ],
          "name": "stdout"
        },
        {
          "output_type": "display_data",
          "data": {
            "image/png": "[encoded data removed]",
            "text/plain": [
              "<Figure size 360x360 with 2 Axes>"
            ]
          },
          "metadata": {
            "tags": [],
            "needs_background": "light"
          }
        }
      ]
    },
    {
      "cell_type": "code",
      "metadata": {
        "id": "9wEtkqgB9nX_",
        "outputId": "63598809-079a-438a-9841-9452e1be47df",
        "colab": {
          "base_uri": "https://localhost:8080/",
          "height": 623
        }
      },
      "source": [
        "plot_roc(\"Train Baseline\",train_labels,train_predictions  _baseline,color=colors[0])\n",
        "plot_roc(\"Test Baseline\",test_labels,test_predictions_baseline,color=colors[0],linestyle='--')\n",
        "\n",
        "plot_roc(\"Train Weighted\",train_labels,train_predictions_weighted,color=colors[1])\n",
        "plot_roc(\"Test Weighted\",test_labels,test_predictions_weighted,color=colors[1],linestyle='--')\n",
        "\n",
        "\n",
        "plt.legend(loc='lower right')"
      ],
      "execution_count": 145,
      "outputs": [
        {
          "output_type": "execute_result",
          "data": {
            "text/plain": [
              "<matplotlib.legend.Legend at 0x7f857ffee048>"
            ]
          },
          "metadata": {
            "tags": []
          },
          "execution_count": 145
        },
        {
          "output_type": "display_data",
          "data": {
            "image/png": "[encoded data removed]",
            "text/plain": [
              "<Figure size 864x720 with 1 Axes>"
            ]
          },
          "metadata": {
            "tags": [],
            "needs_background": "light"
          }
        }
      ]
    },
    {
      "cell_type": "markdown",
      "metadata": {
        "id": "JnAy_EWuCZ-x"
      },
      "source": [
        "Oversampling(Using tf.data)"
      ]
    },
    {
      "cell_type": "code",
      "metadata": {
        "id": "eYSu1K5iDGMM"
      },
      "source": [
        "pos_features=train_features[bool_train_labels]\n",
        "neg_features=train_features[~bool_train_labels]\n",
        "\n",
        "pos_labels=train_labels[bool_train_labels]\n",
        "neg_labels=train_labels[~bool_train_labels]"
      ],
      "execution_count": 146,
      "outputs": []
    },
    {
      "cell_type": "code",
      "metadata": {
        "id": "z74wL1ibCaMO"
      },
      "source": [
        "BUFFER_SIZE=100000\n",
        "\n",
        "def make_ds(features,labels):\n",
        "  ds=tf.data.Dataset.from_tensor_slices((features,labels)).cache()\n",
        "  ds=ds.shuffle(BUFFER_SIZE).repeat()\n",
        "  return ds\n",
        "\n",
        "pos_ds=make_ds(pos_features,pos_labels)\n",
        "neg_ds=make_ds(neg_features,neg_labels)"
      ],
      "execution_count": 147,
      "outputs": []
    },
    {
      "cell_type": "code",
      "metadata": {
        "id": "vxpI2FDRDS2S",
        "outputId": "53d166f6-b3fd-46d0-d669-3618cf185d78",
        "colab": {
          "base_uri": "https://localhost:8080/",
          "height": 156
        }
      },
      "source": [
        "next(iter(pos_ds))"
      ],
      "execution_count": 149,
      "outputs": [
        {
          "output_type": "execute_result",
          "data": {
            "text/plain": [
              "(<tf.Tensor: shape=(29,), dtype=float64, numpy=\n",
              " array([-5.        ,  5.        , -5.        ,  2.35374051, -3.48036877,\n",
              "         4.31324847, -5.        , -5.        , -0.35850926, -4.677107  ,\n",
              "         4.32713253, -4.64714676, -1.91839631, -5.        , -0.24686731,\n",
              "        -5.        , -5.        , -3.7674508 ,  0.06476503, -4.58019274,\n",
              "         5.        , -5.        ,  5.        , -1.05519877,  0.50668216,\n",
              "        -0.22627502,  3.17761119,  2.9065532 , -1.4501031 ])>,\n",
              " <tf.Tensor: shape=(), dtype=int64, numpy=1>)"
            ]
          },
          "metadata": {
            "tags": []
          },
          "execution_count": 149
        }
      ]
    },
    {
      "cell_type": "code",
      "metadata": {
        "id": "oZWzrz0qDfkm",
        "outputId": "0e5803d4-c7be-4385-9670-5e439557694a",
        "colab": {
          "base_uri": "https://localhost:8080/",
          "height": 35
        }
      },
      "source": [
        "pos_ds"
      ],
      "execution_count": 151,
      "outputs": [
        {
          "output_type": "execute_result",
          "data": {
            "text/plain": [
              "<RepeatDataset shapes: ((29,), ()), types: (tf.float64, tf.int64)>"
            ]
          },
          "metadata": {
            "tags": []
          },
          "execution_count": 151
        }
      ]
    },
    {
      "cell_type": "code",
      "metadata": {
        "id": "FZkFhKgZDqzY"
      },
      "source": [
        "resampled_ds=tf.data.experimental.sample_from_datasets([pos_ds,neg_ds],weights=[0.5,0.5])\n",
        "resampled_ds=resampled_ds.batch(BATCH_SIZE).prefetch(2)"
      ],
      "execution_count": 156,
      "outputs": []
    },
    {
      "cell_type": "code",
      "metadata": {
        "id": "I5Bb0LLbEShg",
        "outputId": "d21644a4-ea47-4d6b-c082-7be9a3fe584a",
        "colab": {
          "base_uri": "https://localhost:8080/",
          "height": 277
        }
      },
      "source": [
        "next(iter(resampled_ds))"
      ],
      "execution_count": 157,
      "outputs": [
        {
          "output_type": "execute_result",
          "data": {
            "text/plain": [
              "(<tf.Tensor: shape=(2048, 29), dtype=float64, numpy=\n",
              " array([[-0.63658007,  1.37742897, -1.13092242, ...,  1.16560925,\n",
              "          0.77514217, -1.58540317],\n",
              "        [-0.56909038, -1.00234086,  0.5969723 , ..., -0.84280514,\n",
              "         -0.54747865,  1.63605668],\n",
              "        [-0.38161278,  0.31717977,  0.95270715, ..., -0.12359814,\n",
              "          0.32540563,  0.27953323],\n",
              "        ...,\n",
              "        [-4.36211809,  4.21486368, -5.        , ...,  2.92836971,\n",
              "          0.71072236,  0.82236599],\n",
              "        [-0.1375918 ,  0.37867143, -0.37059802, ...,  0.21366528,\n",
              "          0.44454595,  0.22784423],\n",
              "        [-0.44144221,  0.8279951 ,  0.60352704, ..., -0.13337228,\n",
              "          0.22196976, -1.58540317]])>,\n",
              " <tf.Tensor: shape=(2048,), dtype=int64, numpy=array([1, 1, 0, ..., 1, 0, 0])>)"
            ]
          },
          "metadata": {
            "tags": []
          },
          "execution_count": 157
        }
      ]
    },
    {
      "cell_type": "code",
      "metadata": {
        "id": "74jALBM1EVdm",
        "outputId": "f80ea522-ffd2-4eae-ebd1-490fac15672f",
        "colab": {
          "base_uri": "https://localhost:8080/",
          "height": 35
        }
      },
      "source": [
        "for features, label in resampled_ds.take(1):\n",
        "  print(label.numpy().mean())"
      ],
      "execution_count": 158,
      "outputs": [
        {
          "output_type": "stream",
          "text": [
            "0.5048828125\n"
          ],
          "name": "stdout"
        }
      ]
    },
    {
      "cell_type": "code",
      "metadata": {
        "id": "30AXFfOtEqME",
        "outputId": "7994635c-3ab0-4952-9597-7aa06b338e12",
        "colab": {
          "base_uri": "https://localhost:8080/",
          "height": 35
        }
      },
      "source": [
        "resampled_steps_per_epoch=np.ceil(2.0*neg/BATCH_SIZE)\n",
        "resampled_steps_per_epoch"
      ],
      "execution_count": 159,
      "outputs": [
        {
          "output_type": "execute_result",
          "data": {
            "text/plain": [
              "278.0"
            ]
          },
          "metadata": {
            "tags": []
          },
          "execution_count": 159
        }
      ]
    },
    {
      "cell_type": "code",
      "metadata": {
        "id": "D5833_4yFFTb",
        "outputId": "6d44e183-5f81-45d9-d4ac-bda1d24d341f",
        "colab": {
          "base_uri": "https://localhost:8080/",
          "height": 453
        }
      },
      "source": [
        "resampled_model=make_model()\n",
        "resampled_model.load_weights(initial_weights)\n",
        "\n",
        "output_layer=resampled_model.layers[-1] \n",
        "output_layer.bias.assign([0])\n",
        "\n",
        "val_ds=tf.data.Dataset.from_tensor_slices((val_features, val_labels)).cache()\n",
        "val_ds=val_ds.batch(BATCH_SIZE).prefetch(2) \n",
        "\n",
        "resampled_history=resampled_model.fit(\n",
        "    resampled_ds,\n",
        "    epochs=50,\n",
        "    steps_per_epoch=resampled_steps_per_epoch,\n",
        "    callbacks=[early_stopping],\n",
        "    validation_data=val_ds)"
      ],
      "execution_count": 163,
      "outputs": [
        {
          "output_type": "stream",
          "text": [
            "Epoch 1/50\n",
            "278/278 [==============================] - 7s 24ms/step - loss: 0.3986 - tp: 1897401.0000 - fp: 236672.0000 - tn: 1873835.0000 - fn: 153246.0000 - accuracy: 0.9063 - precision: 0.8891 - recall: 0.9253 - auc: 0.9743 - val_loss: 0.2489 - val_tp: 72.0000 - val_fp: 1593.0000 - val_tn: 43898.0000 - val_fn: 6.0000 - val_accuracy: 0.9649 - val_precision: 0.0432 - val_recall: 0.9231 - val_auc: 0.9779\n",
            "Epoch 2/50\n",
            "278/278 [==============================] - 6s 21ms/step - loss: 0.2062 - tp: 262024.0000 - fp: 20012.0000 - tn: 264832.0000 - fn: 22476.0000 - accuracy: 0.9254 - precision: 0.9290 - recall: 0.9210 - auc: 0.9752 - val_loss: 0.1385 - val_tp: 71.0000 - val_fp: 1169.0000 - val_tn: 44322.0000 - val_fn: 7.0000 - val_accuracy: 0.9742 - val_precision: 0.0573 - val_recall: 0.9103 - val_auc: 0.9644\n",
            "Epoch 3/50\n",
            "278/278 [==============================] - 6s 20ms/step - loss: 0.1613 - tp: 265527.0000 - fp: 12948.0000 - tn: 272089.0000 - fn: 18780.0000 - accuracy: 0.9443 - precision: 0.9535 - recall: 0.9339 - auc: 0.9848 - val_loss: 0.1035 - val_tp: 71.0000 - val_fp: 1130.0000 - val_tn: 44361.0000 - val_fn: 7.0000 - val_accuracy: 0.9750 - val_precision: 0.0591 - val_recall: 0.9103 - val_auc: 0.9623\n",
            "Epoch 4/50\n",
            "278/278 [==============================] - 6s 21ms/step - loss: 0.1389 - tp: 266599.0000 - fp: 10879.0000 - tn: 274538.0000 - fn: 17328.0000 - accuracy: 0.9505 - precision: 0.9608 - recall: 0.9390 - auc: 0.9890 - val_loss: 0.0882 - val_tp: 71.0000 - val_fp: 1125.0000 - val_tn: 44366.0000 - val_fn: 7.0000 - val_accuracy: 0.9752 - val_precision: 0.0594 - val_recall: 0.9103 - val_auc: 0.9631\n",
            "Epoch 5/50\n",
            "278/278 [==============================] - 6s 20ms/step - loss: 0.1241 - tp: 268836.0000 - fp: 9908.0000 - tn: 274467.0000 - fn: 16133.0000 - accuracy: 0.9543 - precision: 0.9645 - recall: 0.9434 - auc: 0.9915 - val_loss: 0.0793 - val_tp: 71.0000 - val_fp: 1136.0000 - val_tn: 44355.0000 - val_fn: 7.0000 - val_accuracy: 0.9749 - val_precision: 0.0588 - val_recall: 0.9103 - val_auc: 0.9642\n",
            "Epoch 6/50\n",
            "278/278 [==============================] - 6s 21ms/step - loss: 0.1137 - tp: 269287.0000 - fp: 9296.0000 - tn: 275564.0000 - fn: 15197.0000 - accuracy: 0.9570 - precision: 0.9666 - recall: 0.9466 - auc: 0.9932 - val_loss: 0.0715 - val_tp: 71.0000 - val_fp: 1061.0000 - val_tn: 44430.0000 - val_fn: 7.0000 - val_accuracy: 0.9766 - val_precision: 0.0627 - val_recall: 0.9103 - val_auc: 0.9620\n",
            "Epoch 7/50\n",
            "278/278 [==============================] - 6s 21ms/step - loss: 0.1063 - tp: 270783.0000 - fp: 8763.0000 - tn: 275683.0000 - fn: 14115.0000 - accuracy: 0.9598 - precision: 0.9687 - recall: 0.9505 - auc: 0.9941 - val_loss: 0.0654 - val_tp: 71.0000 - val_fp: 964.0000 - val_tn: 44527.0000 - val_fn: 7.0000 - val_accuracy: 0.9787 - val_precision: 0.0686 - val_recall: 0.9103 - val_auc: 0.9640\n",
            "Epoch 8/50\n",
            "278/278 [==============================] - 6s 21ms/step - loss: 0.1003 - tp: 270840.0000 - fp: 8400.0000 - tn: 276735.0000 - fn: 13369.0000 - accuracy: 0.9618 - precision: 0.9699 - recall: 0.9530 - auc: 0.9948 - val_loss: 0.0599 - val_tp: 71.0000 - val_fp: 867.0000 - val_tn: 44624.0000 - val_fn: 7.0000 - val_accuracy: 0.9808 - val_precision: 0.0757 - val_recall: 0.9103 - val_auc: 0.9610\n",
            "Epoch 9/50\n",
            "278/278 [==============================] - 6s 21ms/step - loss: 0.0960 - tp: 271702.0000 - fp: 8058.0000 - tn: 276442.0000 - fn: 13142.0000 - accuracy: 0.9628 - precision: 0.9712 - recall: 0.9539 - auc: 0.9953 - val_loss: 0.0582 - val_tp: 72.0000 - val_fp: 874.0000 - val_tn: 44617.0000 - val_fn: 6.0000 - val_accuracy: 0.9807 - val_precision: 0.0761 - val_recall: 0.9231 - val_auc: 0.9621\n",
            "Epoch 10/50\n",
            "278/278 [==============================] - 6s 21ms/step - loss: 0.0923 - tp: 271564.0000 - fp: 7993.0000 - tn: 276848.0000 - fn: 12939.0000 - accuracy: 0.9632 - precision: 0.9714 - recall: 0.9545 - auc: 0.9956 - val_loss: 0.0539 - val_tp: 71.0000 - val_fp: 811.0000 - val_tn: 44680.0000 - val_fn: 7.0000 - val_accuracy: 0.9820 - val_precision: 0.0805 - val_recall: 0.9103 - val_auc: 0.9584\n",
            "Epoch 11/50\n",
            "278/278 [==============================] - ETA: 0s - loss: 0.0881 - tp: 271939.0000 - fp: 7701.0000 - tn: 277120.0000 - fn: 12584.0000 - accuracy: 0.9644 - precision: 0.9725 - recall: 0.9558 - auc: 0.9960Restoring model weights from the end of the best epoch.\n",
            "278/278 [==============================] - 6s 21ms/step - loss: 0.0881 - tp: 271939.0000 - fp: 7701.0000 - tn: 277120.0000 - fn: 12584.0000 - accuracy: 0.9644 - precision: 0.9725 - recall: 0.9558 - auc: 0.9960 - val_loss: 0.0514 - val_tp: 71.0000 - val_fp: 762.0000 - val_tn: 44729.0000 - val_fn: 7.0000 - val_accuracy: 0.9831 - val_precision: 0.0852 - val_recall: 0.9103 - val_auc: 0.9595\n",
            "Epoch 00011: early stopping\n"
          ],
          "name": "stdout"
        }
      ]
    },
    {
      "cell_type": "code",
      "metadata": {
        "id": "eB77R9pKFZWh",
        "outputId": "cac981aa-b82d-4fd6-8f9d-d561f51b2cb4",
        "colab": {
          "base_uri": "https://localhost:8080/",
          "height": 609
        }
      },
      "source": [
        "plot_metrics(resampled_history)"
      ],
      "execution_count": 164,
      "outputs": [
        {
          "output_type": "display_data",
          "data": {
            "image/png": "[encoded data removed]",
            "text/plain": [
              "<Figure size 864x720 with 4 Axes>"
            ]
          },
          "metadata": {
            "tags": [],
            "needs_background": "light"
          }
        }
      ]
    },
    {
      "cell_type": "code",
      "metadata": {
        "id": "ejE5WntEFwlV"
      },
      "source": [
        "train_predictions_resampled=resampled_model.predict(train_features,batch_size=BATCH_SIZE)\n",
        "test_predictions_resampled=resampled_model.predict(test_features,batch_size=BATCH_SIZE)"
      ],
      "execution_count": 165,
      "outputs": []
    },
    {
      "cell_type": "code",
      "metadata": {
        "id": "duxe7naTGRV6",
        "outputId": "103879a2-d35f-4568-b4f6-9f4bacd071e5",
        "colab": {
          "base_uri": "https://localhost:8080/",
          "height": 610
        }
      },
      "source": [
        "resampled_results=resampled_model.evaluate(test_features, test_labels,\n",
        "                                             batch_size=BATCH_SIZE, verbose=0)\n",
        "for name,value in zip(resampled_model.metrics_names,resampled_results):\n",
        "  print(name, ': ', value)\n",
        "print()\n",
        "\n",
        "plot_cm(test_labels,test_predictions_resampled)"
      ],
      "execution_count": 166,
      "outputs": [
        {
          "output_type": "stream",
          "text": [
            "loss :  0.24787317216396332\n",
            "tp :  103.0\n",
            "fp :  1918.0\n",
            "tn :  54930.0\n",
            "fn :  11.0\n",
            "accuracy :  0.9661353230476379\n",
            "precision :  0.05096486955881119\n",
            "recall :  0.9035087823867798\n",
            "auc :  0.9792157411575317\n",
            "\n",
            "Legitimate Transactions Detected (True Negatives):  54930\n",
            "Legitimate Transactions Incorrectly Detected (False Positives):  1918\n",
            "Fraudulent Transactions Missed (False Negatives):  11\n",
            "Fraudulent Transactions Detected (True Positives):  103\n",
            "Total Fraudulent Transcations: 114\n"
          ],
          "name": "stdout"
        },
        {
          "output_type": "display_data",
          "data": {
            "image/png": "[encoded data removed]",
            "text/plain": [
              "<Figure size 360x360 with 2 Axes>"
            ]
          },
          "metadata": {
            "tags": [],
            "needs_background": "light"
          }
        }
      ]
    }
  ]
}
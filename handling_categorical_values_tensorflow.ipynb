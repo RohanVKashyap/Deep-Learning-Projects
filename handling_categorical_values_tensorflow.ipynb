{
  "nbformat": 4,
  "nbformat_minor": 0,
  "metadata": {
    "colab": {
      "name": "Categorical values(Titantic data).ipynb",
      "provenance": []
    },
    "kernelspec": {
      "name": "python3",
      "display_name": "Python 3"
    }
  },
  "cells": [
    {
      "cell_type": "code",
      "metadata": {
        "id": "vFoYdjwCwZXz"
      },
      "source": [
        "import tensorflow as tf\n",
        "import numpy as np\n",
        "import pandas as pd"
      ],
      "execution_count": 1,
      "outputs": []
    },
    {
      "cell_type": "code",
      "metadata": {
        "id": "Ir1Okg0PyWjf",
        "outputId": "65e0a3cf-ccbb-494f-a069-a43fc5822861",
        "colab": {
          "base_uri": "https://localhost:8080/",
          "height": 219
        }
      },
      "source": [
        "data=pd.read_csv('https://storage.googleapis.com/download.tensorflow.org/data/abalone_train.csv',header=None,\n",
        "                names=[\"Length\", \"Diameter\", \"Height\", \"Whole weight\", \"Shucked weight\",\n",
        "                \"Viscera weight\", \"Shell weight\", \"Age\"])\n",
        "data.head()"
      ],
      "execution_count": 2,
      "outputs": [
        {
          "output_type": "execute_result",
          "data": {
            "text/html": [
              "<div>\n",
              "<style scoped>\n",
              "    .dataframe tbody tr th:only-of-type {\n",
              "        vertical-align: middle;\n",
              "    }\n",
              "\n",
              "    .dataframe tbody tr th {\n",
              "        vertical-align: top;\n",
              "    }\n",
              "\n",
              "    .dataframe thead th {\n",
              "        text-align: right;\n",
              "    }\n",
              "</style>\n",
              "<table border=\"1\" class=\"dataframe\">\n",
              "  <thead>\n",
              "    <tr style=\"text-align: right;\">\n",
              "      <th></th>\n",
              "      <th>Length</th>\n",
              "      <th>Diameter</th>\n",
              "      <th>Height</th>\n",
              "      <th>Whole weight</th>\n",
              "      <th>Shucked weight</th>\n",
              "      <th>Viscera weight</th>\n",
              "      <th>Shell weight</th>\n",
              "      <th>Age</th>\n",
              "    </tr>\n",
              "  </thead>\n",
              "  <tbody>\n",
              "    <tr>\n",
              "      <th>0</th>\n",
              "      <td>0.435</td>\n",
              "      <td>0.335</td>\n",
              "      <td>0.110</td>\n",
              "      <td>0.334</td>\n",
              "      <td>0.1355</td>\n",
              "      <td>0.0775</td>\n",
              "      <td>0.0965</td>\n",
              "      <td>7</td>\n",
              "    </tr>\n",
              "    <tr>\n",
              "      <th>1</th>\n",
              "      <td>0.585</td>\n",
              "      <td>0.450</td>\n",
              "      <td>0.125</td>\n",
              "      <td>0.874</td>\n",
              "      <td>0.3545</td>\n",
              "      <td>0.2075</td>\n",
              "      <td>0.2250</td>\n",
              "      <td>6</td>\n",
              "    </tr>\n",
              "    <tr>\n",
              "      <th>2</th>\n",
              "      <td>0.655</td>\n",
              "      <td>0.510</td>\n",
              "      <td>0.160</td>\n",
              "      <td>1.092</td>\n",
              "      <td>0.3960</td>\n",
              "      <td>0.2825</td>\n",
              "      <td>0.3700</td>\n",
              "      <td>14</td>\n",
              "    </tr>\n",
              "    <tr>\n",
              "      <th>3</th>\n",
              "      <td>0.545</td>\n",
              "      <td>0.425</td>\n",
              "      <td>0.125</td>\n",
              "      <td>0.768</td>\n",
              "      <td>0.2940</td>\n",
              "      <td>0.1495</td>\n",
              "      <td>0.2600</td>\n",
              "      <td>16</td>\n",
              "    </tr>\n",
              "    <tr>\n",
              "      <th>4</th>\n",
              "      <td>0.545</td>\n",
              "      <td>0.420</td>\n",
              "      <td>0.130</td>\n",
              "      <td>0.879</td>\n",
              "      <td>0.3740</td>\n",
              "      <td>0.1695</td>\n",
              "      <td>0.2300</td>\n",
              "      <td>13</td>\n",
              "    </tr>\n",
              "  </tbody>\n",
              "</table>\n",
              "</div>"
            ],
            "text/plain": [
              "   Length  Diameter  Height  ...  Viscera weight  Shell weight  Age\n",
              "0   0.435     0.335   0.110  ...          0.0775        0.0965    7\n",
              "1   0.585     0.450   0.125  ...          0.2075        0.2250    6\n",
              "2   0.655     0.510   0.160  ...          0.2825        0.3700   14\n",
              "3   0.545     0.425   0.125  ...          0.1495        0.2600   16\n",
              "4   0.545     0.420   0.130  ...          0.1695        0.2300   13\n",
              "\n",
              "[5 rows x 8 columns]"
            ]
          },
          "metadata": {
            "tags": []
          },
          "execution_count": 2
        }
      ]
    },
    {
      "cell_type": "code",
      "metadata": {
        "id": "8PQD_n_Xyo0M",
        "outputId": "64730f0f-668b-47c1-b4e9-8a332f150c5d",
        "colab": {
          "base_uri": "https://localhost:8080/",
          "height": 35
        }
      },
      "source": [
        "data.shape"
      ],
      "execution_count": 3,
      "outputs": [
        {
          "output_type": "execute_result",
          "data": {
            "text/plain": [
              "(3320, 8)"
            ]
          },
          "metadata": {
            "tags": []
          },
          "execution_count": 3
        }
      ]
    },
    {
      "cell_type": "code",
      "metadata": {
        "id": "Ck8wWFO20FMW"
      },
      "source": [
        "abalone_features=data.copy()\n",
        "abalone_labels=abalone_features.pop('Age')"
      ],
      "execution_count": 4,
      "outputs": []
    },
    {
      "cell_type": "code",
      "metadata": {
        "id": "DTrk4Pz45ofM",
        "outputId": "1d35a3c6-03c1-401a-b3f0-984830557cd8",
        "colab": {
          "base_uri": "https://localhost:8080/",
          "height": 139
        }
      },
      "source": [
        "abalone_features=np.array(abalone_features)\n",
        "abalone_features"
      ],
      "execution_count": 5,
      "outputs": [
        {
          "output_type": "execute_result",
          "data": {
            "text/plain": [
              "array([[0.435 , 0.335 , 0.11  , ..., 0.1355, 0.0775, 0.0965],\n",
              "       [0.585 , 0.45  , 0.125 , ..., 0.3545, 0.2075, 0.225 ],\n",
              "       [0.655 , 0.51  , 0.16  , ..., 0.396 , 0.2825, 0.37  ],\n",
              "       ...,\n",
              "       [0.53  , 0.42  , 0.13  , ..., 0.3745, 0.167 , 0.249 ],\n",
              "       [0.395 , 0.315 , 0.105 , ..., 0.1185, 0.091 , 0.1195],\n",
              "       [0.45  , 0.355 , 0.12  , ..., 0.1145, 0.0665, 0.16  ]])"
            ]
          },
          "metadata": {
            "tags": []
          },
          "execution_count": 5
        }
      ]
    },
    {
      "cell_type": "code",
      "metadata": {
        "id": "-IWpEUz753ty",
        "outputId": "40584687-b9a6-494e-e712-01b5474b2e39",
        "colab": {
          "base_uri": "https://localhost:8080/",
          "height": 52
        }
      },
      "source": [
        "#Example\n",
        "input=tf.keras.Input(shape=(),dtype=tf.float32)\n",
        "result=2*input+1\n",
        "\n",
        "model=tf.keras.Model(inputs=input,outputs=result)\n",
        "print(model(1).numpy())\n",
        "print(model(2).numpy())"
      ],
      "execution_count": 6,
      "outputs": [
        {
          "output_type": "stream",
          "text": [
            "3.0\n",
            "5.0\n"
          ],
          "name": "stdout"
        }
      ]
    },
    {
      "cell_type": "code",
      "metadata": {
        "id": "r6ZBO5Vzls-d"
      },
      "source": [
        "model=tf.keras.Sequential([\n",
        "      tf.keras.layers.Dense(64),\n",
        "      tf.keras.layers.Dense(1)])\n",
        "\n",
        "model.compile(optimizer='adam',loss=tf.keras.losses.MeanSquaredError())"
      ],
      "execution_count": 7,
      "outputs": []
    },
    {
      "cell_type": "code",
      "metadata": {
        "id": "j3a_-hqunBA5",
        "outputId": "3723933d-61b8-493c-fb2c-a5084edb2896",
        "colab": {
          "base_uri": "https://localhost:8080/",
          "height": 381
        }
      },
      "source": [
        "model.fit(abalone_features,abalone_labels,epochs=10)"
      ],
      "execution_count": 8,
      "outputs": [
        {
          "output_type": "stream",
          "text": [
            "Epoch 1/10\n",
            "104/104 [==============================] - 0s 858us/step - loss: 58.7592\n",
            "Epoch 2/10\n",
            "104/104 [==============================] - 0s 827us/step - loss: 11.3977\n",
            "Epoch 3/10\n",
            "104/104 [==============================] - 0s 829us/step - loss: 8.5504\n",
            "Epoch 4/10\n",
            "104/104 [==============================] - 0s 835us/step - loss: 8.0430\n",
            "Epoch 5/10\n",
            "104/104 [==============================] - 0s 840us/step - loss: 7.5948\n",
            "Epoch 6/10\n",
            "104/104 [==============================] - 0s 849us/step - loss: 7.2321\n",
            "Epoch 7/10\n",
            "104/104 [==============================] - 0s 1ms/step - loss: 6.9423\n",
            "Epoch 8/10\n",
            "104/104 [==============================] - 0s 881us/step - loss: 6.7341\n",
            "Epoch 9/10\n",
            "104/104 [==============================] - 0s 1ms/step - loss: 6.5932\n",
            "Epoch 10/10\n",
            "104/104 [==============================] - 0s 902us/step - loss: 6.4893\n"
          ],
          "name": "stdout"
        },
        {
          "output_type": "execute_result",
          "data": {
            "text/plain": [
              "<tensorflow.python.keras.callbacks.History at 0x7f098139dc50>"
            ]
          },
          "metadata": {
            "tags": []
          },
          "execution_count": 8
        }
      ]
    },
    {
      "cell_type": "code",
      "metadata": {
        "id": "4xAlUd25nNAL",
        "outputId": "c7d0bd1d-931a-420b-ca68-aedad55940c6",
        "colab": {
          "base_uri": "https://localhost:8080/",
          "height": 331
        }
      },
      "source": [
        "data.describe()"
      ],
      "execution_count": 9,
      "outputs": [
        {
          "output_type": "execute_result",
          "data": {
            "text/html": [
              "<div>\n",
              "<style scoped>\n",
              "    .dataframe tbody tr th:only-of-type {\n",
              "        vertical-align: middle;\n",
              "    }\n",
              "\n",
              "    .dataframe tbody tr th {\n",
              "        vertical-align: top;\n",
              "    }\n",
              "\n",
              "    .dataframe thead th {\n",
              "        text-align: right;\n",
              "    }\n",
              "</style>\n",
              "<table border=\"1\" class=\"dataframe\">\n",
              "  <thead>\n",
              "    <tr style=\"text-align: right;\">\n",
              "      <th></th>\n",
              "      <th>Length</th>\n",
              "      <th>Diameter</th>\n",
              "      <th>Height</th>\n",
              "      <th>Whole weight</th>\n",
              "      <th>Shucked weight</th>\n",
              "      <th>Viscera weight</th>\n",
              "      <th>Shell weight</th>\n",
              "      <th>Age</th>\n",
              "    </tr>\n",
              "  </thead>\n",
              "  <tbody>\n",
              "    <tr>\n",
              "      <th>count</th>\n",
              "      <td>3320.000000</td>\n",
              "      <td>3320.000000</td>\n",
              "      <td>3320.000000</td>\n",
              "      <td>3320.000000</td>\n",
              "      <td>3320.000000</td>\n",
              "      <td>3320.000000</td>\n",
              "      <td>3320.000000</td>\n",
              "      <td>3320.000000</td>\n",
              "    </tr>\n",
              "    <tr>\n",
              "      <th>mean</th>\n",
              "      <td>0.522693</td>\n",
              "      <td>0.406575</td>\n",
              "      <td>0.139271</td>\n",
              "      <td>0.824734</td>\n",
              "      <td>0.357705</td>\n",
              "      <td>0.180162</td>\n",
              "      <td>0.237921</td>\n",
              "      <td>9.896988</td>\n",
              "    </tr>\n",
              "    <tr>\n",
              "      <th>std</th>\n",
              "      <td>0.121164</td>\n",
              "      <td>0.100120</td>\n",
              "      <td>0.042708</td>\n",
              "      <td>0.491182</td>\n",
              "      <td>0.222223</td>\n",
              "      <td>0.110182</td>\n",
              "      <td>0.140261</td>\n",
              "      <td>3.205654</td>\n",
              "    </tr>\n",
              "    <tr>\n",
              "      <th>min</th>\n",
              "      <td>0.075000</td>\n",
              "      <td>0.055000</td>\n",
              "      <td>0.000000</td>\n",
              "      <td>0.002000</td>\n",
              "      <td>0.001000</td>\n",
              "      <td>0.000500</td>\n",
              "      <td>0.001500</td>\n",
              "      <td>1.000000</td>\n",
              "    </tr>\n",
              "    <tr>\n",
              "      <th>25%</th>\n",
              "      <td>0.450000</td>\n",
              "      <td>0.345000</td>\n",
              "      <td>0.115000</td>\n",
              "      <td>0.436375</td>\n",
              "      <td>0.181500</td>\n",
              "      <td>0.092000</td>\n",
              "      <td>0.127375</td>\n",
              "      <td>8.000000</td>\n",
              "    </tr>\n",
              "    <tr>\n",
              "      <th>50%</th>\n",
              "      <td>0.540000</td>\n",
              "      <td>0.425000</td>\n",
              "      <td>0.140000</td>\n",
              "      <td>0.795250</td>\n",
              "      <td>0.335500</td>\n",
              "      <td>0.170750</td>\n",
              "      <td>0.230000</td>\n",
              "      <td>9.000000</td>\n",
              "    </tr>\n",
              "    <tr>\n",
              "      <th>75%</th>\n",
              "      <td>0.615000</td>\n",
              "      <td>0.480000</td>\n",
              "      <td>0.165000</td>\n",
              "      <td>1.150000</td>\n",
              "      <td>0.504500</td>\n",
              "      <td>0.253125</td>\n",
              "      <td>0.325000</td>\n",
              "      <td>11.000000</td>\n",
              "    </tr>\n",
              "    <tr>\n",
              "      <th>max</th>\n",
              "      <td>0.815000</td>\n",
              "      <td>0.650000</td>\n",
              "      <td>1.130000</td>\n",
              "      <td>2.825500</td>\n",
              "      <td>1.488000</td>\n",
              "      <td>0.760000</td>\n",
              "      <td>1.005000</td>\n",
              "      <td>27.000000</td>\n",
              "    </tr>\n",
              "  </tbody>\n",
              "</table>\n",
              "</div>"
            ],
            "text/plain": [
              "            Length     Diameter  ...  Shell weight          Age\n",
              "count  3320.000000  3320.000000  ...   3320.000000  3320.000000\n",
              "mean      0.522693     0.406575  ...      0.237921     9.896988\n",
              "std       0.121164     0.100120  ...      0.140261     3.205654\n",
              "min       0.075000     0.055000  ...      0.001500     1.000000\n",
              "25%       0.450000     0.345000  ...      0.127375     8.000000\n",
              "50%       0.540000     0.425000  ...      0.230000     9.000000\n",
              "75%       0.615000     0.480000  ...      0.325000    11.000000\n",
              "max       0.815000     0.650000  ...      1.005000    27.000000\n",
              "\n",
              "[8 rows x 8 columns]"
            ]
          },
          "metadata": {
            "tags": []
          },
          "execution_count": 9
        }
      ]
    },
    {
      "cell_type": "markdown",
      "metadata": {
        "id": "NsLkuv_ooA_V"
      },
      "source": [
        "Basic preprocessing"
      ]
    },
    {
      "cell_type": "code",
      "metadata": {
        "id": "aqi2NObOn8bf"
      },
      "source": [
        "normalize=tf.keras.layers.experimental.preprocessing.Normalization()"
      ],
      "execution_count": 10,
      "outputs": []
    },
    {
      "cell_type": "code",
      "metadata": {
        "id": "Z6ZCBvZU6SgV"
      },
      "source": [
        "#Not yet normalized just adapt\n",
        "normalize.adapt(abalone_features)"
      ],
      "execution_count": 11,
      "outputs": []
    },
    {
      "cell_type": "code",
      "metadata": {
        "id": "cvz76-8guu5P",
        "outputId": "7e531b92-bc07-4074-b458-74d1faaac68d",
        "colab": {
          "base_uri": "https://localhost:8080/",
          "height": 104
        }
      },
      "source": [
        "normalize(abalone_features[:2])"
      ],
      "execution_count": 12,
      "outputs": [
        {
          "output_type": "execute_result",
          "data": {
            "text/plain": [
              "<tf.Tensor: shape=(2, 7), dtype=float32, numpy=\n",
              "array([[-0.7238635 , -0.7150031 , -0.68547636, -0.9992395 , -1.0000671 ,\n",
              "        -0.93188924, -1.0084196 ],\n",
              "       [ 0.514317  ,  0.43379208, -0.33420318,  0.10031501, -0.01442314,\n",
              "         0.24815692, -0.09213238]], dtype=float32)>"
            ]
          },
          "metadata": {
            "tags": []
          },
          "execution_count": 12
        }
      ]
    },
    {
      "cell_type": "code",
      "metadata": {
        "id": "_wrAsPt9mU_6"
      },
      "source": [
        "norm_model=tf.keras.Sequential([\n",
        "           normalize,\n",
        "           tf.keras.layers.Dense(60),\n",
        "           tf.keras.layers.Dense(64),\n",
        "           tf.keras.layers.Dense(1)])\n",
        " \n",
        "norm_model.compile(optimizer='adam',loss=tf.keras.losses.MeanSquaredError())"
      ],
      "execution_count": 13,
      "outputs": []
    },
    {
      "cell_type": "code",
      "metadata": {
        "id": "vqUdtOjjogtZ",
        "outputId": "36e89780-f6da-48ff-a926-3d984e9bbd91",
        "colab": {
          "base_uri": "https://localhost:8080/",
          "height": 381
        }
      },
      "source": [
        "norm_model.fit(abalone_features,abalone_labels,epochs=10)"
      ],
      "execution_count": 14,
      "outputs": [
        {
          "output_type": "stream",
          "text": [
            "Epoch 1/10\n",
            "104/104 [==============================] - 0s 955us/step - loss: 66.9069\n",
            "Epoch 2/10\n",
            "104/104 [==============================] - 0s 1ms/step - loss: 5.5240\n",
            "Epoch 3/10\n",
            "104/104 [==============================] - 0s 1ms/step - loss: 5.1158\n",
            "Epoch 4/10\n",
            "104/104 [==============================] - 0s 1ms/step - loss: 5.1552\n",
            "Epoch 5/10\n",
            "104/104 [==============================] - 0s 954us/step - loss: 5.0668\n",
            "Epoch 6/10\n",
            "104/104 [==============================] - 0s 918us/step - loss: 4.9880\n",
            "Epoch 7/10\n",
            "104/104 [==============================] - 0s 931us/step - loss: 4.9265\n",
            "Epoch 8/10\n",
            "104/104 [==============================] - 0s 1ms/step - loss: 5.0394\n",
            "Epoch 9/10\n",
            "104/104 [==============================] - 0s 927us/step - loss: 4.9974\n",
            "Epoch 10/10\n",
            "104/104 [==============================] - 0s 1ms/step - loss: 5.0066\n"
          ],
          "name": "stdout"
        },
        {
          "output_type": "execute_result",
          "data": {
            "text/plain": [
              "<tensorflow.python.keras.callbacks.History at 0x7f097f528be0>"
            ]
          },
          "metadata": {
            "tags": []
          },
          "execution_count": 14
        }
      ]
    },
    {
      "cell_type": "markdown",
      "metadata": {
        "id": "DX4mU5KUwB2s"
      },
      "source": [
        "Mixed data types(New data)\n",
        "\n"
      ]
    },
    {
      "cell_type": "code",
      "metadata": {
        "id": "ZnQorK3avPvu",
        "outputId": "9d78be14-4c92-4404-e400-afa7381d3dc6",
        "colab": {
          "base_uri": "https://localhost:8080/",
          "height": 222
        }
      },
      "source": [
        "titantic=pd.read_csv('https://storage.googleapis.com/tf-datasets/titanic/train.csv')\n",
        "titantic.head()"
      ],
      "execution_count": 15,
      "outputs": [
        {
          "output_type": "execute_result",
          "data": {
            "text/html": [
              "<div>\n",
              "<style scoped>\n",
              "    .dataframe tbody tr th:only-of-type {\n",
              "        vertical-align: middle;\n",
              "    }\n",
              "\n",
              "    .dataframe tbody tr th {\n",
              "        vertical-align: top;\n",
              "    }\n",
              "\n",
              "    .dataframe thead th {\n",
              "        text-align: right;\n",
              "    }\n",
              "</style>\n",
              "<table border=\"1\" class=\"dataframe\">\n",
              "  <thead>\n",
              "    <tr style=\"text-align: right;\">\n",
              "      <th></th>\n",
              "      <th>survived</th>\n",
              "      <th>sex</th>\n",
              "      <th>age</th>\n",
              "      <th>n_siblings_spouses</th>\n",
              "      <th>parch</th>\n",
              "      <th>fare</th>\n",
              "      <th>class</th>\n",
              "      <th>deck</th>\n",
              "      <th>embark_town</th>\n",
              "      <th>alone</th>\n",
              "    </tr>\n",
              "  </thead>\n",
              "  <tbody>\n",
              "    <tr>\n",
              "      <th>0</th>\n",
              "      <td>0</td>\n",
              "      <td>male</td>\n",
              "      <td>22.0</td>\n",
              "      <td>1</td>\n",
              "      <td>0</td>\n",
              "      <td>7.2500</td>\n",
              "      <td>Third</td>\n",
              "      <td>unknown</td>\n",
              "      <td>Southampton</td>\n",
              "      <td>n</td>\n",
              "    </tr>\n",
              "    <tr>\n",
              "      <th>1</th>\n",
              "      <td>1</td>\n",
              "      <td>female</td>\n",
              "      <td>38.0</td>\n",
              "      <td>1</td>\n",
              "      <td>0</td>\n",
              "      <td>71.2833</td>\n",
              "      <td>First</td>\n",
              "      <td>C</td>\n",
              "      <td>Cherbourg</td>\n",
              "      <td>n</td>\n",
              "    </tr>\n",
              "    <tr>\n",
              "      <th>2</th>\n",
              "      <td>1</td>\n",
              "      <td>female</td>\n",
              "      <td>26.0</td>\n",
              "      <td>0</td>\n",
              "      <td>0</td>\n",
              "      <td>7.9250</td>\n",
              "      <td>Third</td>\n",
              "      <td>unknown</td>\n",
              "      <td>Southampton</td>\n",
              "      <td>y</td>\n",
              "    </tr>\n",
              "    <tr>\n",
              "      <th>3</th>\n",
              "      <td>1</td>\n",
              "      <td>female</td>\n",
              "      <td>35.0</td>\n",
              "      <td>1</td>\n",
              "      <td>0</td>\n",
              "      <td>53.1000</td>\n",
              "      <td>First</td>\n",
              "      <td>C</td>\n",
              "      <td>Southampton</td>\n",
              "      <td>n</td>\n",
              "    </tr>\n",
              "    <tr>\n",
              "      <th>4</th>\n",
              "      <td>0</td>\n",
              "      <td>male</td>\n",
              "      <td>28.0</td>\n",
              "      <td>0</td>\n",
              "      <td>0</td>\n",
              "      <td>8.4583</td>\n",
              "      <td>Third</td>\n",
              "      <td>unknown</td>\n",
              "      <td>Queenstown</td>\n",
              "      <td>y</td>\n",
              "    </tr>\n",
              "  </tbody>\n",
              "</table>\n",
              "</div>"
            ],
            "text/plain": [
              "   survived     sex   age  ...     deck  embark_town  alone\n",
              "0         0    male  22.0  ...  unknown  Southampton      n\n",
              "1         1  female  38.0  ...        C    Cherbourg      n\n",
              "2         1  female  26.0  ...  unknown  Southampton      y\n",
              "3         1  female  35.0  ...        C  Southampton      n\n",
              "4         0    male  28.0  ...  unknown   Queenstown      y\n",
              "\n",
              "[5 rows x 10 columns]"
            ]
          },
          "metadata": {
            "tags": []
          },
          "execution_count": 15
        }
      ]
    },
    {
      "cell_type": "code",
      "metadata": {
        "id": "z4iQzWGbwMVZ"
      },
      "source": [
        "titantic_features=titantic.copy()\n",
        "titantic_labels=titantic_features.pop('survived')"
      ],
      "execution_count": 16,
      "outputs": []
    },
    {
      "cell_type": "code",
      "metadata": {
        "id": "WTrPzLVHx63E",
        "outputId": "b72a242f-b777-47b0-8a9e-863f96e1448c",
        "colab": {
          "base_uri": "https://localhost:8080/",
          "height": 193
        }
      },
      "source": [
        "inputs={}\n",
        "for name,column in titantic_features.items():\n",
        "  dtype=column.dtype\n",
        "  if dtype==object:\n",
        "    dtype=tf.string\n",
        "  else:\n",
        "    dtype=tf.float32\n",
        " \n",
        "  inputs[name]=tf.keras.Input(shape=(1,),name=name,dtype=dtype)\n",
        "\n",
        "inputs"
      ],
      "execution_count": 17,
      "outputs": [
        {
          "output_type": "execute_result",
          "data": {
            "text/plain": [
              "{'age': <tf.Tensor 'age:0' shape=(None, 1) dtype=float32>,\n",
              " 'alone': <tf.Tensor 'alone:0' shape=(None, 1) dtype=string>,\n",
              " 'class': <tf.Tensor 'class:0' shape=(None, 1) dtype=string>,\n",
              " 'deck': <tf.Tensor 'deck:0' shape=(None, 1) dtype=string>,\n",
              " 'embark_town': <tf.Tensor 'embark_town:0' shape=(None, 1) dtype=string>,\n",
              " 'fare': <tf.Tensor 'fare:0' shape=(None, 1) dtype=float32>,\n",
              " 'n_siblings_spouses': <tf.Tensor 'n_siblings_spouses:0' shape=(None, 1) dtype=float32>,\n",
              " 'parch': <tf.Tensor 'parch:0' shape=(None, 1) dtype=float32>,\n",
              " 'sex': <tf.Tensor 'sex:0' shape=(None, 1) dtype=string>}"
            ]
          },
          "metadata": {
            "tags": []
          },
          "execution_count": 17
        }
      ]
    },
    {
      "cell_type": "code",
      "metadata": {
        "id": "WnMUBdKC0MS5",
        "outputId": "947ac3a3-cb08-48b2-9506-6a095841d5f7",
        "colab": {
          "base_uri": "https://localhost:8080/",
          "height": 107
        }
      },
      "source": [
        "#Dictionary\n",
        "numeric_inputs={name:input for name,input in inputs.items()\n",
        "                if input.dtype==tf.float32}\n",
        "numeric_inputs               "
      ],
      "execution_count": 18,
      "outputs": [
        {
          "output_type": "execute_result",
          "data": {
            "text/plain": [
              "{'age': <tf.Tensor 'age:0' shape=(None, 1) dtype=float32>,\n",
              " 'fare': <tf.Tensor 'fare:0' shape=(None, 1) dtype=float32>,\n",
              " 'n_siblings_spouses': <tf.Tensor 'n_siblings_spouses:0' shape=(None, 1) dtype=float32>,\n",
              " 'parch': <tf.Tensor 'parch:0' shape=(None, 1) dtype=float32>}"
            ]
          },
          "metadata": {
            "tags": []
          },
          "execution_count": 18
        }
      ]
    },
    {
      "cell_type": "code",
      "metadata": {
        "id": "9j2xeJZq0uQG",
        "outputId": "1312bf77-dc2d-4b64-aece-6685842f23c1",
        "colab": {
          "base_uri": "https://localhost:8080/",
          "height": 35
        }
      },
      "source": [
        "#Expects an input of shape (None,4)\n",
        "x=tf.keras.layers.Concatenate()(list(numeric_inputs.values()))\n",
        "norm=tf.keras.layers.experimental.preprocessing.Normalization()\n",
        "norm.adapt(np.array(titantic[numeric_inputs.keys()]))\n",
        "all_numeric_inputs=norm(x)\n",
        "all_numeric_inputs"
      ],
      "execution_count": 19,
      "outputs": [
        {
          "output_type": "execute_result",
          "data": {
            "text/plain": [
              "<tf.Tensor 'normalization_1/truediv:0' shape=(None, 4) dtype=float32>"
            ]
          },
          "metadata": {
            "tags": []
          },
          "execution_count": 19
        }
      ]
    },
    {
      "cell_type": "code",
      "metadata": {
        "id": "ZkwdJW6s2nlC",
        "outputId": "52545f8b-f3a3-4e02-bcbd-3a7efb1afdb5",
        "colab": {
          "base_uri": "https://localhost:8080/",
          "height": 35
        }
      },
      "source": [
        "#Collect all the symbolic preprocessing results, to concatenate them later.\n",
        "preprocessed_inputs=[all_numeric_inputs]\n",
        "preprocessed_inputs"
      ],
      "execution_count": 20,
      "outputs": [
        {
          "output_type": "execute_result",
          "data": {
            "text/plain": [
              "[<tf.Tensor 'normalization_1/truediv:0' shape=(None, 4) dtype=float32>]"
            ]
          },
          "metadata": {
            "tags": []
          },
          "execution_count": 20
        }
      ]
    },
    {
      "cell_type": "code",
      "metadata": {
        "id": "CpBOWKT029DG"
      },
      "source": [
        "for name,input in inputs.items():\n",
        "  if input.dtype==tf.float32:\n",
        "    continue\n",
        "\n",
        "  lookup=tf.keras.layers.experimental.preprocessing.StringLookup(vocabulary=np.unique(titantic_features[name])) \n",
        "  one_hot=tf.keras.layers.experimental.preprocessing.CategoryEncoding(lookup.vocab_size())\n",
        "  x=lookup(input)\n",
        "  x=one_hot(x)\n",
        "  preprocessed_inputs.append(x)"
      ],
      "execution_count": 21,
      "outputs": []
    },
    {
      "cell_type": "code",
      "metadata": {
        "id": "9szhoSgG42yP",
        "outputId": "930ac953-6330-49da-e948-99d0994e1b88",
        "colab": {
          "base_uri": "https://localhost:8080/",
          "height": 141
        }
      },
      "source": [
        "preprocessed_inputs"
      ],
      "execution_count": 22,
      "outputs": [
        {
          "output_type": "execute_result",
          "data": {
            "text/plain": [
              "[<tf.Tensor 'normalization_1/truediv:0' shape=(None, 4) dtype=float32>,\n",
              " <tf.Tensor 'category_encoding/bincount/DenseBincount:0' shape=(None, 4) dtype=float32>,\n",
              " <tf.Tensor 'category_encoding_1/bincount/DenseBincount:0' shape=(None, 5) dtype=float32>,\n",
              " <tf.Tensor 'category_encoding_2/bincount/DenseBincount:0' shape=(None, 10) dtype=float32>,\n",
              " <tf.Tensor 'category_encoding_3/bincount/DenseBincount:0' shape=(None, 6) dtype=float32>,\n",
              " <tf.Tensor 'category_encoding_4/bincount/DenseBincount:0' shape=(None, 4) dtype=float32>]"
            ]
          },
          "metadata": {
            "tags": []
          },
          "execution_count": 22
        }
      ]
    },
    {
      "cell_type": "code",
      "metadata": {
        "id": "SxEelBdf63u4",
        "outputId": "103e1655-423f-419a-d39b-c41714438cf6",
        "colab": {
          "base_uri": "https://localhost:8080/",
          "height": 35
        }
      },
      "source": [
        "preprocessed_inputs_cat=tf.keras.layers.Concatenate()(preprocessed_inputs)\n",
        "preprocessed_inputs_cat"
      ],
      "execution_count": 23,
      "outputs": [
        {
          "output_type": "execute_result",
          "data": {
            "text/plain": [
              "<tf.Tensor 'concatenate_1/concat:0' shape=(None, 33) dtype=float32>"
            ]
          },
          "metadata": {
            "tags": []
          },
          "execution_count": 23
        }
      ]
    },
    {
      "cell_type": "code",
      "metadata": {
        "id": "WgStR6GB7Kz9",
        "outputId": "5f9093cd-a848-4642-a653-b00cf03afcb9",
        "colab": {
          "base_uri": "https://localhost:8080/",
          "height": 467
        }
      },
      "source": [
        "titantic_preprocessing=tf.keras.Model(inputs,preprocessed_inputs_cat)\n",
        "tf.keras.utils.plot_model(model=titantic_preprocessing,rankdir='LR',dpi=72,show_shapes=True)"
      ],
      "execution_count": 24,
      "outputs": [
        {
          "output_type": "execute_result",
          "data": {
            "image/png": "[encoded data removed]",
            "text/plain": [
              "<IPython.core.display.Image object>"
            ]
          },
          "metadata": {
            "tags": []
          },
          "execution_count": 24
        }
      ]
    },
    {
      "cell_type": "code",
      "metadata": {
        "id": "wGaCXE7zCg4O"
      },
      "source": [
        "titantic_features_dict={name:np.array(value) for \n",
        "                        name,value in titantic_features.items()}"
      ],
      "execution_count": 28,
      "outputs": []
    },
    {
      "cell_type": "code",
      "metadata": {
        "id": "AuPIs24sCyzM",
        "outputId": "34f76512-9f14-4897-ad8b-e1c0256e1c53",
        "colab": {
          "base_uri": "https://localhost:8080/",
          "height": 173
        }
      },
      "source": [
        "#Slice out the first training example and pass it to this preprocessing model, \n",
        "#you see the numeric features and string one-hots all concatenated together\n",
        "features_dict={name:values[:1] for name,values in titantic_features_dict.items()}\n",
        "features_dict"
      ],
      "execution_count": 34,
      "outputs": [
        {
          "output_type": "execute_result",
          "data": {
            "text/plain": [
              "{'age': array([22.]),\n",
              " 'alone': array(['n'], dtype=object),\n",
              " 'class': array(['Third'], dtype=object),\n",
              " 'deck': array(['unknown'], dtype=object),\n",
              " 'embark_town': array(['Southampton'], dtype=object),\n",
              " 'fare': array([7.25]),\n",
              " 'n_siblings_spouses': array([1]),\n",
              " 'parch': array([0]),\n",
              " 'sex': array(['male'], dtype=object)}"
            ]
          },
          "metadata": {
            "tags": []
          },
          "execution_count": 34
        }
      ]
    },
    {
      "cell_type": "code",
      "metadata": {
        "id": "1YYJgcGFDh5D",
        "outputId": "17e7c128-48ae-4bfa-c8fe-53fef21757fa",
        "colab": {
          "base_uri": "https://localhost:8080/",
          "height": 156
        }
      },
      "source": [
        "titantic_preprocessing(features_dict)"
      ],
      "execution_count": 35,
      "outputs": [
        {
          "output_type": "execute_result",
          "data": {
            "text/plain": [
              "<tf.Tensor: shape=(1, 33), dtype=float32, numpy=\n",
              "array([[-0.6104149 ,  0.39519805, -0.4790527 , -0.4974028 ,  0.        ,\n",
              "         0.        ,  0.        ,  1.        ,  0.        ,  0.        ,\n",
              "         0.        ,  0.        ,  1.        ,  0.        ,  0.        ,\n",
              "         0.        ,  0.        ,  0.        ,  0.        ,  0.        ,\n",
              "         0.        ,  0.        ,  1.        ,  0.        ,  0.        ,\n",
              "         0.        ,  0.        ,  1.        ,  0.        ,  0.        ,\n",
              "         0.        ,  1.        ,  0.        ]], dtype=float32)>"
            ]
          },
          "metadata": {
            "tags": []
          },
          "execution_count": 35
        }
      ]
    },
    {
      "cell_type": "code",
      "metadata": {
        "id": "q2KMrAeqEGGt"
      },
      "source": [
        "#Build the model\n",
        "def titantic_model(preprocessing_head,inputs):\n",
        "  body=tf.keras.Sequential([\n",
        "       tf.keras.layers.Dense(64),\n",
        "       tf.keras.layers.Dense(1)])\n",
        "  \n",
        "  preprocessed_inputs=preprocessing_head(inputs)\n",
        "  result=body(preprocessed_inputs)\n",
        "  model=tf.keras.Model(inputs,result)\n",
        "\n",
        "  model.compile(optimizer='adam',loss=tf.keras.losses.BinaryCrossentropy(from_logits=True),metrics=['acc'])\n",
        "  return model\n",
        "\n",
        "titantic_model=titantic_model(titantic_preprocessing,inputs)"
      ],
      "execution_count": 44,
      "outputs": []
    },
    {
      "cell_type": "code",
      "metadata": {
        "id": "B6dzkcWrFVwW",
        "outputId": "29cd4c79-8062-41f7-a113-43d2d06f9b52",
        "colab": {
          "base_uri": "https://localhost:8080/",
          "height": 696
        }
      },
      "source": [
        "titantic_model.summary()"
      ],
      "execution_count": 45,
      "outputs": [
        {
          "output_type": "stream",
          "text": [
            "Model: \"functional_11\"\n",
            "__________________________________________________________________________________________________\n",
            "Layer (type)                    Output Shape         Param #     Connected to                     \n",
            "==================================================================================================\n",
            "age (InputLayer)                [(None, 1)]          0                                            \n",
            "__________________________________________________________________________________________________\n",
            "alone (InputLayer)              [(None, 1)]          0                                            \n",
            "__________________________________________________________________________________________________\n",
            "class (InputLayer)              [(None, 1)]          0                                            \n",
            "__________________________________________________________________________________________________\n",
            "deck (InputLayer)               [(None, 1)]          0                                            \n",
            "__________________________________________________________________________________________________\n",
            "embark_town (InputLayer)        [(None, 1)]          0                                            \n",
            "__________________________________________________________________________________________________\n",
            "fare (InputLayer)               [(None, 1)]          0                                            \n",
            "__________________________________________________________________________________________________\n",
            "n_siblings_spouses (InputLayer) [(None, 1)]          0                                            \n",
            "__________________________________________________________________________________________________\n",
            "parch (InputLayer)              [(None, 1)]          0                                            \n",
            "__________________________________________________________________________________________________\n",
            "sex (InputLayer)                [(None, 1)]          0                                            \n",
            "__________________________________________________________________________________________________\n",
            "functional_3 (Functional)       (None, 33)           9           age[0][0]                        \n",
            "                                                                 alone[0][0]                      \n",
            "                                                                 class[0][0]                      \n",
            "                                                                 deck[0][0]                       \n",
            "                                                                 embark_town[0][0]                \n",
            "                                                                 fare[0][0]                       \n",
            "                                                                 n_siblings_spouses[0][0]         \n",
            "                                                                 parch[0][0]                      \n",
            "                                                                 sex[0][0]                        \n",
            "__________________________________________________________________________________________________\n",
            "sequential_5 (Sequential)       (None, 1)            2241        functional_3[2][0]               \n",
            "==================================================================================================\n",
            "Total params: 2,250\n",
            "Trainable params: 2,241\n",
            "Non-trainable params: 9\n",
            "__________________________________________________________________________________________________\n"
          ],
          "name": "stdout"
        }
      ]
    },
    {
      "cell_type": "code",
      "metadata": {
        "id": "lZaMRn9RFfJN",
        "outputId": "63fc855f-1acc-45dd-d961-2ecc0709df06",
        "colab": {
          "base_uri": "https://localhost:8080/",
          "height": 381
        }
      },
      "source": [
        "titantic_model.fit(x=titantic_features_dict,y=titantic_labels,epochs=10)"
      ],
      "execution_count": 46,
      "outputs": [
        {
          "output_type": "stream",
          "text": [
            "Epoch 1/10\n",
            "20/20 [==============================] - 0s 1ms/step - loss: 0.6468 - acc: 0.6459\n",
            "Epoch 2/10\n",
            "20/20 [==============================] - 0s 1ms/step - loss: 0.5385 - acc: 0.6922\n",
            "Epoch 3/10\n",
            "20/20 [==============================] - 0s 1ms/step - loss: 0.4933 - acc: 0.7448\n",
            "Epoch 4/10\n",
            "20/20 [==============================] - 0s 1ms/step - loss: 0.4651 - acc: 0.7687\n",
            "Epoch 5/10\n",
            "20/20 [==============================] - 0s 1ms/step - loss: 0.4487 - acc: 0.7863\n",
            "Epoch 6/10\n",
            "20/20 [==============================] - 0s 1ms/step - loss: 0.4387 - acc: 0.7895\n",
            "Epoch 7/10\n",
            "20/20 [==============================] - 0s 1ms/step - loss: 0.4317 - acc: 0.8054\n",
            "Epoch 8/10\n",
            "20/20 [==============================] - 0s 1ms/step - loss: 0.4260 - acc: 0.8086\n",
            "Epoch 9/10\n",
            "20/20 [==============================] - 0s 2ms/step - loss: 0.4243 - acc: 0.8150\n",
            "Epoch 10/10\n",
            "20/20 [==============================] - 0s 1ms/step - loss: 0.4222 - acc: 0.8118\n"
          ],
          "name": "stdout"
        },
        {
          "output_type": "execute_result",
          "data": {
            "text/plain": [
              "<tensorflow.python.keras.callbacks.History at 0x7f09748cd2b0>"
            ]
          },
          "metadata": {
            "tags": []
          },
          "execution_count": 46
        }
      ]
    },
    {
      "cell_type": "code",
      "metadata": {
        "id": "8gX42g1hFzxt"
      },
      "source": [
        "titantic_model.save('test')\n",
        "reloaded=tf.keras.models.load_model('test')"
      ],
      "execution_count": null,
      "outputs": []
    },
    {
      "cell_type": "code",
      "metadata": {
        "id": "KWKXsJOUGY9v",
        "outputId": "85e71260-3a28-468e-9a17-2d81dfe13ae3",
        "colab": {
          "base_uri": "https://localhost:8080/",
          "height": 52
        }
      },
      "source": [
        "features_dict={name:values[:1] for name,values in titantic_features_dict.items()}\n",
        "\n",
        "before=titantic_model(features_dict)\n",
        "after=reloaded(features_dict)\n",
        "print(before)\n",
        "print(after)"
      ],
      "execution_count": 50,
      "outputs": [
        {
          "output_type": "stream",
          "text": [
            "tf.Tensor([[-1.8167281]], shape=(1, 1), dtype=float32)\n",
            "tf.Tensor([[-1.8167281]], shape=(1, 1), dtype=float32)\n"
          ],
          "name": "stdout"
        }
      ]
    },
    {
      "cell_type": "code",
      "metadata": {
        "id": "ns05taTnG1fg",
        "outputId": "73c68425-4ca6-4747-e3ae-bbc658a14304",
        "colab": {
          "base_uri": "https://localhost:8080/",
          "height": 35
        }
      },
      "source": [
        "loss,accuracy=titantic_model.evaluate(features_dict,y=tf.constant([0.]))"
      ],
      "execution_count": 61,
      "outputs": [
        {
          "output_type": "stream",
          "text": [
            "1/1 [==============================] - 0s 1ms/step - loss: 0.1506 - acc: 1.0000\n"
          ],
          "name": "stdout"
        }
      ]
    },
    {
      "cell_type": "markdown",
      "metadata": {
        "id": "ugZ7q8fRIEa3"
      },
      "source": [
        "Using tf.data"
      ]
    },
    {
      "cell_type": "code",
      "metadata": {
        "id": "grT0lGDSHCEb"
      },
      "source": [
        "features_ds=tf.data.Dataset.from_tensor_slices(titantic_features_dict)"
      ],
      "execution_count": 64,
      "outputs": []
    },
    {
      "cell_type": "code",
      "metadata": {
        "id": "pmCw906JIzUa",
        "outputId": "ad6218f9-888f-4b30-ebe7-90ce4c3d718d",
        "colab": {
          "base_uri": "https://localhost:8080/",
          "height": 55
        }
      },
      "source": [
        "features_ds"
      ],
      "execution_count": 65,
      "outputs": [
        {
          "output_type": "execute_result",
          "data": {
            "text/plain": [
              "<TensorSliceDataset shapes: {sex: (), age: (), n_siblings_spouses: (), parch: (), fare: (), class: (), deck: (), embark_town: (), alone: ()}, types: {sex: tf.string, age: tf.float64, n_siblings_spouses: tf.int64, parch: tf.int64, fare: tf.float64, class: tf.string, deck: tf.string, embark_town: tf.string, alone: tf.string}>"
            ]
          },
          "metadata": {
            "tags": []
          },
          "execution_count": 65
        }
      ]
    },
    {
      "cell_type": "code",
      "metadata": {
        "id": "MgGM-SdMI9Z1",
        "outputId": "7115caf4-0d7b-4a75-b468-b3ff0a13b300",
        "colab": {
          "base_uri": "https://localhost:8080/",
          "height": 173
        }
      },
      "source": [
        "next(iter(features_ds))"
      ],
      "execution_count": 66,
      "outputs": [
        {
          "output_type": "execute_result",
          "data": {
            "text/plain": [
              "{'age': <tf.Tensor: shape=(), dtype=float64, numpy=22.0>,\n",
              " 'alone': <tf.Tensor: shape=(), dtype=string, numpy=b'n'>,\n",
              " 'class': <tf.Tensor: shape=(), dtype=string, numpy=b'Third'>,\n",
              " 'deck': <tf.Tensor: shape=(), dtype=string, numpy=b'unknown'>,\n",
              " 'embark_town': <tf.Tensor: shape=(), dtype=string, numpy=b'Southampton'>,\n",
              " 'fare': <tf.Tensor: shape=(), dtype=float64, numpy=7.25>,\n",
              " 'n_siblings_spouses': <tf.Tensor: shape=(), dtype=int64, numpy=1>,\n",
              " 'parch': <tf.Tensor: shape=(), dtype=int64, numpy=0>,\n",
              " 'sex': <tf.Tensor: shape=(), dtype=string, numpy=b'male'>}"
            ]
          },
          "metadata": {
            "tags": []
          },
          "execution_count": 66
        }
      ]
    },
    {
      "cell_type": "code",
      "metadata": {
        "id": "9R9pELfWJA4k",
        "outputId": "1c19abc7-41f7-480b-8176-3b141fc1fe30",
        "colab": {
          "base_uri": "https://localhost:8080/",
          "height": 173
        }
      },
      "source": [
        "for example in features_ds:\n",
        "  for name,value in example.items():\n",
        "    print(f\"{name}:{value}\")\n",
        "  break  "
      ],
      "execution_count": 71,
      "outputs": [
        {
          "output_type": "stream",
          "text": [
            "sex:b'male'\n",
            "age:22.0\n",
            "n_siblings_spouses:1\n",
            "parch:0\n",
            "fare:7.25\n",
            "class:b'Third'\n",
            "deck:b'unknown'\n",
            "embark_town:b'Southampton'\n",
            "alone:b'n'\n"
          ],
          "name": "stdout"
        }
      ]
    },
    {
      "cell_type": "code",
      "metadata": {
        "id": "yGEwc8XeJ7qA",
        "outputId": "efafd041-4827-499e-a9e8-183d5460c6de",
        "colab": {
          "base_uri": "https://localhost:8080/",
          "height": 55
        }
      },
      "source": [
        "titantic_features_dict.keys()"
      ],
      "execution_count": 75,
      "outputs": [
        {
          "output_type": "execute_result",
          "data": {
            "text/plain": [
              "dict_keys(['sex', 'age', 'n_siblings_spouses', 'parch', 'fare', 'class', 'deck', 'embark_town', 'alone'])"
            ]
          },
          "metadata": {
            "tags": []
          },
          "execution_count": 75
        }
      ]
    },
    {
      "cell_type": "code",
      "metadata": {
        "id": "XdTgniTRKE8j"
      },
      "source": [
        "titantic_ds=tf.data.Dataset.from_tensor_slices((titantic_features_dict,titantic_labels))\n",
        "titantic_ds=titantic_ds.shuffle(len(titantic_labels)).batch(32)"
      ],
      "execution_count": 79,
      "outputs": []
    },
    {
      "cell_type": "code",
      "metadata": {
        "id": "xl0bIi9QKqST",
        "outputId": "e7ee4c27-2677-4123-849b-60964b8eaa0a",
        "colab": {
          "base_uri": "https://localhost:8080/",
          "height": 988
        }
      },
      "source": [
        "next(iter(titantic_ds))"
      ],
      "execution_count": 81,
      "outputs": [
        {
          "output_type": "execute_result",
          "data": {
            "text/plain": [
              "({'age': <tf.Tensor: shape=(32,), dtype=float64, numpy=\n",
              "  array([ 2., 14., 20., 28., 19., 30., 31., 39., 28., 32., 50., 30.,  6.,\n",
              "         19., 23., 35., 24., 28., 42., 40., 54., 28., 21., 50., 30., 30.,\n",
              "         27., 30., 37., 51., 18., 28.])>,\n",
              "  'alone': <tf.Tensor: shape=(32,), dtype=string, numpy=\n",
              "  array([b'n', b'n', b'y', b'y', b'y', b'n', b'n', b'n', b'y', b'y', b'n',\n",
              "         b'y', b'n', b'n', b'y', b'y', b'n', b'y', b'n', b'n', b'n', b'y',\n",
              "         b'y', b'n', b'y', b'y', b'n', b'y', b'n', b'n', b'n', b'y'],\n",
              "        dtype=object)>,\n",
              "  'class': <tf.Tensor: shape=(32,), dtype=string, numpy=\n",
              "  array([b'Third', b'Third', b'Third', b'Third', b'Third', b'Third',\n",
              "         b'First', b'First', b'First', b'Third', b'First', b'First',\n",
              "         b'Third', b'First', b'Second', b'First', b'Second', b'Third',\n",
              "         b'Second', b'Third', b'First', b'Second', b'Third', b'First',\n",
              "         b'Third', b'First', b'Second', b'Third', b'Second', b'First',\n",
              "         b'Second', b'Third'], dtype=object)>,\n",
              "  'deck': <tf.Tensor: shape=(32,), dtype=string, numpy=\n",
              "  array([b'unknown', b'unknown', b'unknown', b'unknown', b'unknown',\n",
              "         b'unknown', b'D', b'E', b'A', b'E', b'B', b'unknown', b'E', b'D',\n",
              "         b'unknown', b'E', b'unknown', b'unknown', b'unknown', b'unknown',\n",
              "         b'unknown', b'unknown', b'unknown', b'C', b'unknown', b'E',\n",
              "         b'unknown', b'unknown', b'unknown', b'unknown', b'unknown',\n",
              "         b'unknown'], dtype=object)>,\n",
              "  'embark_town': <tf.Tensor: shape=(32,), dtype=string, numpy=\n",
              "  array([b'Queenstown', b'Southampton', b'Southampton', b'Southampton',\n",
              "         b'Southampton', b'Southampton', b'Cherbourg', b'Cherbourg',\n",
              "         b'Southampton', b'Southampton', b'Cherbourg', b'Cherbourg',\n",
              "         b'Southampton', b'Southampton', b'Cherbourg', b'Southampton',\n",
              "         b'Southampton', b'Cherbourg', b'Southampton', b'Southampton',\n",
              "         b'Cherbourg', b'Southampton', b'Southampton', b'Cherbourg',\n",
              "         b'Southampton', b'Cherbourg', b'Southampton', b'Southampton',\n",
              "         b'Southampton', b'Cherbourg', b'Southampton', b'Southampton'],\n",
              "        dtype=object)>,\n",
              "  'fare': <tf.Tensor: shape=(32,), dtype=float64, numpy=\n",
              "  array([ 29.125 ,  46.9   ,   7.05  ,   7.55  ,   8.1583,  16.1   ,\n",
              "         113.275 ,  83.1583,  52.    ,   8.05  , 247.5208,  31.    ,\n",
              "          12.475 ,  26.2833,  15.0458,  26.2875,  18.75  ,   7.225 ,\n",
              "          27.    ,  27.9   ,  59.4   ,  33.    ,   8.4333, 106.425 ,\n",
              "           7.8958,  56.9292,  21.    ,   8.6625,  26.    ,  61.3792,\n",
              "          23.    ,   7.3125])>,\n",
              "  'n_siblings_spouses': <tf.Tensor: shape=(32,), dtype=int64, numpy=\n",
              "  array([4, 5, 0, 0, 0, 1, 1, 1, 0, 0, 0, 0, 0, 0, 0, 0, 2, 0, 1, 1, 1, 0,\n",
              "         0, 1, 0, 0, 1, 0, 1, 0, 0, 0])>,\n",
              "  'parch': <tf.Tensor: shape=(32,), dtype=int64, numpy=\n",
              "  array([1, 2, 0, 0, 0, 0, 0, 1, 0, 0, 1, 0, 1, 2, 0, 0, 3, 0, 0, 4, 0, 0,\n",
              "         0, 0, 0, 0, 0, 0, 0, 1, 1, 0])>,\n",
              "  'sex': <tf.Tensor: shape=(32,), dtype=string, numpy=\n",
              "  array([b'male', b'male', b'male', b'female', b'male', b'male', b'female',\n",
              "         b'female', b'male', b'male', b'female', b'female', b'male',\n",
              "         b'female', b'male', b'male', b'female', b'male', b'male', b'male',\n",
              "         b'female', b'female', b'male', b'male', b'male', b'female',\n",
              "         b'female', b'female', b'male', b'male', b'female', b'male'],\n",
              "        dtype=object)>},\n",
              " <tf.Tensor: shape=(32,), dtype=int64, numpy=\n",
              " array([0, 0, 0, 0, 0, 0, 1, 1, 0, 1, 1, 1, 1, 1, 0, 1, 1, 0, 0, 0, 1, 1,\n",
              "        0, 0, 0, 1, 0, 0, 0, 0, 1, 0])>)"
            ]
          },
          "metadata": {
            "tags": []
          },
          "execution_count": 81
        }
      ]
    },
    {
      "cell_type": "code",
      "metadata": {
        "id": "Yt-Gf3JaKyoB",
        "outputId": "f3ce8425-887d-43c0-89bc-0fcd12a2e6bb",
        "colab": {
          "base_uri": "https://localhost:8080/",
          "height": 208
        }
      },
      "source": [
        "titantic_model.fit(titantic_ds,epochs=5)"
      ],
      "execution_count": 83,
      "outputs": [
        {
          "output_type": "stream",
          "text": [
            "Epoch 1/5\n",
            "20/20 [==============================] - 0s 3ms/step - loss: 0.4187 - acc: 0.8309\n",
            "Epoch 2/5\n",
            "20/20 [==============================] - 0s 2ms/step - loss: 0.4190 - acc: 0.8278\n",
            "Epoch 3/5\n",
            "20/20 [==============================] - 0s 2ms/step - loss: 0.4196 - acc: 0.8278\n",
            "Epoch 4/5\n",
            "20/20 [==============================] - 0s 2ms/step - loss: 0.4180 - acc: 0.8278\n",
            "Epoch 5/5\n",
            "20/20 [==============================] - 0s 2ms/step - loss: 0.4193 - acc: 0.8293\n"
          ],
          "name": "stdout"
        },
        {
          "output_type": "execute_result",
          "data": {
            "text/plain": [
              "<tensorflow.python.keras.callbacks.History at 0x7f0971d8dcf8>"
            ]
          },
          "metadata": {
            "tags": []
          },
          "execution_count": 83
        }
      ]
    },
    {
      "cell_type": "code",
      "metadata": {
        "id": "iv7YxTf9K8mT"
      },
      "source": [
        ""
      ],
      "execution_count": null,
      "outputs": []
    }
  ]
}
